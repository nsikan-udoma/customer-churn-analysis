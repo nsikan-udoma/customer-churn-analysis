{
 "cells": [
  {
   "cell_type": "markdown",
   "id": "f77accfd-4d93-4080-b73e-bfb23f3b89b2",
   "metadata": {},
   "source": [
    "# Dollar Bank Customer Churn Analysis\n",
    "\n",
    "Here you can find the description of all the tasks. Same info and more can be found on this Project [Page](https://final-project.super.site/)\n",
    "\n",
    "First review the project on this page and if you decide to work on this dataset follow the steps mentioned on above Project page\n"
   ]
  },
  {
   "cell_type": "markdown",
   "id": "002c3e9c-baa6-4804-86e6-1777aab23ae9",
   "metadata": {},
   "source": [
    "# The story Behind The Data\n",
    "The bank is concerned that more and more customers are leaving its credit card services. They would really appreciate if someone could analyze it for them, in order to understand the main reasons for leaving the services, and to come up with recommendations for how the bank can mitigate that. Eventually, the bank would like to proactively implement these recommendations in order to keep their customers happy."
   ]
  },
  {
   "cell_type": "markdown",
   "id": "28a328f4-b93a-494a-b16a-4a616e416212",
   "metadata": {},
   "source": [
    "**A full ERD can be found [here](https://dbdiagram.io/d/638cdd8abae3ed7c45449eed)**\n",
    "\n",
    "# Data Description\n",
    "In this task, few datasets are provided:\n",
    "\n",
    "1. **`BankChurners.csv`**   - this file contains basic information about each client (10 columns). The columns are:\n",
    "    - `CLIENTNUM` - Client number. Unique identifier for the customer holding the account;\n",
    "    - `Attrition Flag` - Internal event (customer activity) variable - if the client had churned (attrited) or not (existing).\n",
    "    - `Dependent Count` - Demographic variable - Number of dependents\n",
    "    - `Card_Category` - Product Variable - Type of Card (Blue, Silver, Gold, Platinum)\n",
    "    - `Months_on_book` - Period of relationship with bank\n",
    "    - `Months_Inactive_12_mon` - No. of months inactive in the last 12 months\n",
    "    - `Contacts_Count_12_mon` - No. of Contacts in the last 12 months\n",
    "    - `Credit_Limit` - Credit Limit on the Credit Card\n",
    "    - `Avg_Open_To_Buy` - Open to Buy Credit Line (Average of last 12 months)\n",
    "    - `Avg_Utilization_Ratio` - Average Card Utilization Ratio\n",
    "2. **`basic_client_info.csv`** - this file contains some basic client info per each client (6 columns) -\n",
    "    - `CLIENTNUM` - Client number. Unique identifier for the customer holding the account\n",
    "    - `Customer Age` - Demographic variable - Customer's Age in Years\n",
    "    - `Gender` - Demographic variable - M=Male, F=Female\n",
    "    - `Education_Level` - Demographic variable - Educational Qualification of the account holder (example: high school, college graduate, etc.`\n",
    "    - `Marital_Status` - Demographic variable - Married, Single, Divorced, Unknown\n",
    "    - `Income_Category` - Demographic variable - Annual Income Category of the account holder (< $40K, $40K - 60K, $60K - $80K, $80K-$120K, > $120K, Unknown)\n",
    "3. **`enriched_churn_data.csv`** - this file contains some enriched data about each client (7 columns) -\n",
    "    - `CLIENTNUM` - Client number. Unique identifier for the customer holding the account\n",
    "    - `Total_Relationship_Count` - Total no. of products held by the customer\n",
    "    - `Total_Revolving_Bal` - Total Revolving Balance on the Credit Card\n",
    "    - `Total_Amt_Chng_Q4_Q1` - Change in Transaction Amount (Q4 over Q1)\n",
    "    - `Total_Trans_Amt` - Total Transaction Amount (Last 12 months)\n",
    "    - `Total_Trans_Ct` - Total Transaction Count (Last 12 months)\n",
    "    - `Total_Ct_Chng_Q4_Q1` - Change in Transaction Count (Q4 over Q1)"
   ]
  },
  {
   "cell_type": "markdown",
   "id": "88c477bc-ca42-44df-8a56-eb3e1b6d6585",
   "metadata": {},
   "source": [
    "# SQL tasks\n",
    "\n",
    "1. How many clients does the bank have and are above the age of 50?\n",
    "2. What’s the distribution (in %) between male and female clients?\n",
    "3. Let’s define a new variable called `age_group`:\n",
    "    - 10 < x ≤ 30\n",
    "    - 30 < x ≤ 40\n",
    "    - 40 < x ≤ 50\n",
    "    - 50 < x ≤ 60\n",
    "    - 60 <x ≤ 120\n",
    "    \n",
    "    Per each `age_group`, `marital_status` and `income_category`, find out the following values:\n",
    "    \n",
    "    a. Churn_rate (in %)\n",
    "    \n",
    "    b. Average `Total_Relationship_Count`\n",
    "    \n",
    "    c. Minimum value of `Total_Amt_Chng_Q4_Q1`\n",
    "    \n",
    "    d. Count of customers\n",
    "    \n",
    "    Make sure to order the data by the number of customers in a descending order***\n",
    "    \n",
    "4. Out of the male clients, who holds the “blue” card, how many (in %) hold the income category 40K - 60K?\n",
    "\n",
    "5. Without the usage of group by at all, find the 3rd and 4th highest client IDs (`CLIENTNUM`’s) of `Total_Amt_Chng_Q4_Q1`?\n",
    "\n",
    "6. We’re interested in knowing which client (CLIENTNUM) has the 2nd highest `Total_Trans_Amt`, Per each `Marital_Status`. \n",
    "\n",
    "The bank will create a dedicated campaign and target these specific clients moving forward. In this step, help the bank find these clients."
   ]
  },
  {
   "cell_type": "markdown",
   "id": "a0352e63-b3f1-403c-8888-13f5f92d7279",
   "metadata": {},
   "source": [
    "See Customer Churn ERD below\n",
    "\n",
    "![Customer Churn ERD](Customer%20Churn%20ERD.png)"
   ]
  },
  {
   "cell_type": "markdown",
   "id": "de3c8846-6779-4ad5-a1c3-b49030324b4e",
   "metadata": {},
   "source": [
    "In order to start writing and running SQL queries here in Workspace, you have a SQL type cell. New cell can be added by clicking on \"Add SQL\". Masterschool hosts a Postgres DB with all Capstone project datasets. To connect to MS server you need to choose relevant integration. Choose according to the dataset you explore. "
   ]
  },
  {
   "cell_type": "markdown",
   "id": "dd9f6402-11f3-4934-91bd-a11f234b8441",
   "metadata": {},
   "source": [
    "**Question 1:**\n",
    "\n",
    "How many clients does the bank have and are above the age of 50?"
   ]
  },
  {
   "cell_type": "code",
   "execution_count": 2,
   "id": "ec2515bb-216b-4819-ab5e-9e7ff9a62a68",
   "metadata": {
    "customType": "sql",
    "dataFrameVariableName": "df",
    "executionTime": 2377,
    "initial": false,
    "integrationId": "340d6f6b-e6bc-4eae-a902-e9a40ad6dfb1",
    "lastSuccessfullyExecutedCode": "-- How many clients does the bank have and are above the age of 50?\n\nSELECT COUNT(*) AS clients_above_50\nFROM basic_client_info\nWHERE customer_age > 50\n;"
   },
   "outputs": [
    {
     "data": {
      "application/com.datacamp.data-table.v1+json": {
       "table": {
        "data": [
         {
          "clients_above_50": 3078,
          "index": 0
         }
        ],
        "schema": {
         "fields": [
          {
           "name": "index",
           "type": "integer"
          },
          {
           "name": "clients_above_50",
           "type": "integer"
          }
         ],
         "pandas_version": "1.4.0",
         "primaryKey": [
          "index"
         ]
        }
       },
       "total_rows": 1,
       "truncation_type": null
      },
      "text/html": [
       "<div>\n",
       "<style scoped>\n",
       "    .dataframe tbody tr th:only-of-type {\n",
       "        vertical-align: middle;\n",
       "    }\n",
       "\n",
       "    .dataframe tbody tr th {\n",
       "        vertical-align: top;\n",
       "    }\n",
       "\n",
       "    .dataframe thead th {\n",
       "        text-align: right;\n",
       "    }\n",
       "</style>\n",
       "<table border=\"1\" class=\"dataframe\">\n",
       "  <thead>\n",
       "    <tr style=\"text-align: right;\">\n",
       "      <th></th>\n",
       "      <th>clients_above_50</th>\n",
       "    </tr>\n",
       "  </thead>\n",
       "  <tbody>\n",
       "    <tr>\n",
       "      <th>0</th>\n",
       "      <td>3078</td>\n",
       "    </tr>\n",
       "  </tbody>\n",
       "</table>\n",
       "</div>"
      ],
      "text/plain": [
       "   clients_above_50\n",
       "0              3078"
      ]
     },
     "execution_count": 2,
     "metadata": {},
     "output_type": "execute_result"
    }
   ],
   "source": [
    "-- How many clients does the bank have and are above the age of 50?\n",
    "\n",
    "SELECT COUNT(*) AS clients_above_50\n",
    "FROM basic_client_info\n",
    "WHERE customer_age > 50\n",
    ";"
   ]
  },
  {
   "cell_type": "markdown",
   "id": "f3c0896e-ad31-449f-9407-77ae3ed2f6fe",
   "metadata": {},
   "source": [
    "**Question 2:**\n",
    "\n",
    "What’s the distribution (in %) between male and female clients?"
   ]
  },
  {
   "cell_type": "code",
   "execution_count": 3,
   "id": "5fec3c74-f6a4-4392-8f13-bf37d7c26b6e",
   "metadata": {
    "customType": "sql",
    "dataFrameVariableName": "df",
    "executionTime": 1612,
    "initial": false,
    "integrationId": "340d6f6b-e6bc-4eae-a902-e9a40ad6dfb1",
    "lastSuccessfullyExecutedCode": "-- What’s the distribution (in %) between male and female clients?\nWITH total_count AS (\n    SELECT \n        COUNT(*) AS total \n    FROM basic_client_info\n    )\nSELECT \n  gender,\n  ROUND(COUNT(*) * 100 / total :: numeric, 1) as percent_distribution\nFROM basic_client_info, total_count\nGROUP BY gender, total\n;"
   },
   "outputs": [
    {
     "data": {
      "application/com.datacamp.data-table.v1+json": {
       "table": {
        "data": [
         {
          "gender": "M",
          "index": 0,
          "percent_distribution": 47.1
         },
         {
          "gender": "F",
          "index": 1,
          "percent_distribution": 52.9
         }
        ],
        "schema": {
         "fields": [
          {
           "name": "index",
           "type": "integer"
          },
          {
           "name": "gender",
           "type": "string"
          },
          {
           "name": "percent_distribution",
           "type": "number"
          }
         ],
         "pandas_version": "1.4.0",
         "primaryKey": [
          "index"
         ]
        }
       },
       "total_rows": 2,
       "truncation_type": null
      },
      "text/html": [
       "<div>\n",
       "<style scoped>\n",
       "    .dataframe tbody tr th:only-of-type {\n",
       "        vertical-align: middle;\n",
       "    }\n",
       "\n",
       "    .dataframe tbody tr th {\n",
       "        vertical-align: top;\n",
       "    }\n",
       "\n",
       "    .dataframe thead th {\n",
       "        text-align: right;\n",
       "    }\n",
       "</style>\n",
       "<table border=\"1\" class=\"dataframe\">\n",
       "  <thead>\n",
       "    <tr style=\"text-align: right;\">\n",
       "      <th></th>\n",
       "      <th>gender</th>\n",
       "      <th>percent_distribution</th>\n",
       "    </tr>\n",
       "  </thead>\n",
       "  <tbody>\n",
       "    <tr>\n",
       "      <th>0</th>\n",
       "      <td>M</td>\n",
       "      <td>47.1</td>\n",
       "    </tr>\n",
       "    <tr>\n",
       "      <th>1</th>\n",
       "      <td>F</td>\n",
       "      <td>52.9</td>\n",
       "    </tr>\n",
       "  </tbody>\n",
       "</table>\n",
       "</div>"
      ],
      "text/plain": [
       "  gender  percent_distribution\n",
       "0      M                  47.1\n",
       "1      F                  52.9"
      ]
     },
     "execution_count": 3,
     "metadata": {},
     "output_type": "execute_result"
    }
   ],
   "source": [
    "-- What’s the distribution (in %) between male and female clients?\n",
    "WITH total_count AS (\n",
    "    SELECT \n",
    "        COUNT(*) AS total \n",
    "    FROM basic_client_info\n",
    "    )\n",
    "SELECT \n",
    "  gender,\n",
    "  ROUND(COUNT(*) * 100 / total :: numeric, 1) as percent_distribution\n",
    "FROM basic_client_info, total_count\n",
    "GROUP BY gender, total\n",
    ";"
   ]
  },
  {
   "cell_type": "markdown",
   "id": "d13f36ca-9aa3-49ef-bdbd-e709c6b9b675",
   "metadata": {},
   "source": [
    "**Question 3:**\n",
    "\n",
    "Per each age_group, marital_status and income_category, find out the following values:\n",
    "\n",
    "- a. Churn_rate (in %)\n",
    "- b. Average Total_Relationship_Count\n",
    "- c. Minimum value of Total_Amt_Chng_Q4_Q1\n",
    "- d. Count of customers \n",
    "\n",
    "(_Make sure to order the data by the number of customers in a descending order_)\n"
   ]
  },
  {
   "cell_type": "code",
   "execution_count": 6,
   "id": "132a501d-8c52-47db-a384-31e4eac14bb6",
   "metadata": {
    "chartConfig": {
     "bar": {
      "hasRoundedCorners": true,
      "stacked": false
     },
     "type": "bar",
     "version": "v1"
    },
    "customType": "sql",
    "dataFrameVariableName": "df",
    "executionTime": 1774,
    "initial": false,
    "integrationId": "340d6f6b-e6bc-4eae-a902-e9a40ad6dfb1",
    "lastSuccessfullyExecutedCode": "-- Let’s define a new variable called age_group:\n\n--10 < x ≤ 30\n--30 < x ≤ 40\n--40 < x ≤ 50\n--50 < x ≤ 60\n--60 <x ≤ 120\n\n-- Rather than permanently updating the table, I am including this new variable in a view. This way I can easily refer to it without creating it every time its needed. \n\nDROP VIEW IF EXISTS demographics;\nCREATE VIEW demographics AS (\n\n    SELECT \n        clientnum,\n        CASE WHEN customer_age > 10 and customer_age <= 30 THEN '11 - 30' \n        WHEN customer_age > 30 and customer_age <= 40 THEN '31 - 40'\n        WHEN customer_age > 40 and customer_age <= 50 THEN '41 - 50'\n        WHEN customer_age > 50 and customer_age <= 60 THEN '51 - 60'\n        WHEN customer_age > 60 and customer_age <= 120 THEN '61 - 120'\n        END AS age_group,\n        marital_status,\n        income_category\n    FROM basic_client_info\n    )\n;",
    "visualizeDataframe": false
   },
   "outputs": [
    {
     "data": {
      "application/com.datacamp.data-table.v1+json": {
       "table": {
        "data": [],
        "schema": {
         "fields": [
          {
           "name": "index",
           "type": "string"
          }
         ],
         "pandas_version": "1.4.0",
         "primaryKey": [
          "index"
         ]
        }
       },
       "total_rows": 0,
       "truncation_type": null
      },
      "text/html": [
       "<div>\n",
       "<style scoped>\n",
       "    .dataframe tbody tr th:only-of-type {\n",
       "        vertical-align: middle;\n",
       "    }\n",
       "\n",
       "    .dataframe tbody tr th {\n",
       "        vertical-align: top;\n",
       "    }\n",
       "\n",
       "    .dataframe thead th {\n",
       "        text-align: right;\n",
       "    }\n",
       "</style>\n",
       "<table border=\"1\" class=\"dataframe\">\n",
       "  <thead>\n",
       "    <tr style=\"text-align: right;\">\n",
       "      <th></th>\n",
       "    </tr>\n",
       "  </thead>\n",
       "  <tbody>\n",
       "  </tbody>\n",
       "</table>\n",
       "</div>"
      ],
      "text/plain": [
       "Empty DataFrame\n",
       "Columns: []\n",
       "Index: []"
      ]
     },
     "execution_count": 6,
     "metadata": {},
     "output_type": "execute_result"
    }
   ],
   "source": [
    "-- Let’s define a new variable called age_group:\n",
    "\n",
    "--10 < x ≤ 30\n",
    "--30 < x ≤ 40\n",
    "--40 < x ≤ 50\n",
    "--50 < x ≤ 60\n",
    "--60 <x ≤ 120\n",
    "\n",
    "-- Rather than permanently updating the table, I am including this new variable in a view. This way I can easily refer to it without creating it every time its needed. \n",
    "\n",
    "DROP VIEW IF EXISTS demographics;\n",
    "CREATE VIEW demographics AS (\n",
    "\n",
    "    SELECT \n",
    "        clientnum,\n",
    "        CASE WHEN customer_age > 10 and customer_age <= 30 THEN '11 - 30' \n",
    "        WHEN customer_age > 30 and customer_age <= 40 THEN '31 - 40'\n",
    "        WHEN customer_age > 40 and customer_age <= 50 THEN '41 - 50'\n",
    "        WHEN customer_age > 50 and customer_age <= 60 THEN '51 - 60'\n",
    "        WHEN customer_age > 60 and customer_age <= 120 THEN '61 - 120'\n",
    "        END AS age_group,\n",
    "        marital_status,\n",
    "        income_category\n",
    "    FROM basic_client_info\n",
    "    )\n",
    ";"
   ]
  },
  {
   "cell_type": "code",
   "execution_count": 9,
   "id": "90ac6142-ab8c-4732-9e4d-2e6dbea498c5",
   "metadata": {
    "customType": "sql",
    "dataFrameVariableName": "df",
    "executionTime": 1742,
    "initial": false,
    "integrationId": "340d6f6b-e6bc-4eae-a902-e9a40ad6dfb1",
    "lastSuccessfullyExecutedCode": "-- Solution approach: Created a Pivot Table that groups the dataset by demographic variables: age group, marital status and income category, while also aggregating individual values into a summary of the churn rate, avg total relationship count, minimum total amount change [Q1-Q4] and number of customers, per each demographic group.\n\nWITH churned AS (\n    \n    SELECT \n        dem.clientnum AS clientnum,\n        age_group,\n        marital_status,\n        income_category,\n        total_relationship_count,\n        total_amt_chng_q4_q1,\n        CASE WHEN attrition_flag = 'Attrited Customer' THEN 1\n        ELSE 0 END AS is_churned\n    FROM demographics AS dem\n    JOIN bankchurners AS bc\n        ON dem.clientnum = bc.clientnum\n    JOIN enriched_churn_data AS ecd\n        ON dem.clientnum = ecd.clientnum\n    )\n\nSELECT \n    age_group, \n    marital_status, \n    income_category,\n    ROUND(100 * SUM(is_churned) / (SELECT COUNT(*) FROM bankchurners)::numeric, 1) AS churn_rate_percent,\n    ROUND(AVG(total_relationship_count)) as avg_total_product_count,\n    MIN(total_amt_chng_q4_q1) as min_amt_chng_q4_q1,\n    COUNT(clientnum) as client_count\nFROM churned\nGROUP BY 1, 2, 3\nORDER BY 1, 7 DESC\n;"
   },
   "outputs": [
    {
     "data": {
      "application/com.datacamp.data-table.v1+json": {
       "table": {
        "data": [
         {
          "age_group": "11 - 30",
          "avg_total_product_count": 4,
          "churn_rate_percent": 0,
          "client_count": 69,
          "income_category": "Less than $40K",
          "index": 0,
          "marital_status": "Single",
          "min_amt_chng_q4_q1": 0.299
         },
         {
          "age_group": "11 - 30",
          "avg_total_product_count": 4,
          "churn_rate_percent": 0,
          "client_count": 36,
          "income_category": "Less than $40K",
          "index": 1,
          "marital_status": "Married",
          "min_amt_chng_q4_q1": 0.549
         },
         {
          "age_group": "11 - 30",
          "avg_total_product_count": 4,
          "churn_rate_percent": 0,
          "client_count": 29,
          "income_category": "$40K - $60K",
          "index": 2,
          "marital_status": "Single",
          "min_amt_chng_q4_q1": 0.331
         },
         {
          "age_group": "11 - 30",
          "avg_total_product_count": 4,
          "churn_rate_percent": 0,
          "client_count": 27,
          "income_category": "Unknown",
          "index": 3,
          "marital_status": "Single",
          "min_amt_chng_q4_q1": 0.391
         },
         {
          "age_group": "11 - 30",
          "avg_total_product_count": 5,
          "churn_rate_percent": 0,
          "client_count": 16,
          "income_category": "Less than $40K",
          "index": 4,
          "marital_status": "Divorced",
          "min_amt_chng_q4_q1": 0.632
         },
         {
          "age_group": "11 - 30",
          "avg_total_product_count": 4,
          "churn_rate_percent": 0,
          "client_count": 15,
          "income_category": "$40K - $60K",
          "index": 5,
          "marital_status": "Married",
          "min_amt_chng_q4_q1": 0.371
         },
         {
          "age_group": "11 - 30",
          "avg_total_product_count": 4,
          "churn_rate_percent": 0,
          "client_count": 15,
          "income_category": "$60K - $80K",
          "index": 6,
          "marital_status": "Single",
          "min_amt_chng_q4_q1": 0.502
         },
         {
          "age_group": "11 - 30",
          "avg_total_product_count": 3,
          "churn_rate_percent": 0,
          "client_count": 9,
          "income_category": "$60K - $80K",
          "index": 7,
          "marital_status": "Married",
          "min_amt_chng_q4_q1": 0.616
         },
         {
          "age_group": "11 - 30",
          "avg_total_product_count": 3,
          "churn_rate_percent": 0,
          "client_count": 9,
          "income_category": "Unknown",
          "index": 8,
          "marital_status": "Married",
          "min_amt_chng_q4_q1": 0.521
         },
         {
          "age_group": "11 - 30",
          "avg_total_product_count": 5,
          "churn_rate_percent": 0,
          "client_count": 7,
          "income_category": "Unknown",
          "index": 9,
          "marital_status": "Divorced",
          "min_amt_chng_q4_q1": 0.587
         },
         {
          "age_group": "11 - 30",
          "avg_total_product_count": 3,
          "churn_rate_percent": 0,
          "client_count": 6,
          "income_category": "Less than $40K",
          "index": 10,
          "marital_status": "Unknown",
          "min_amt_chng_q4_q1": 0.469
         },
         {
          "age_group": "11 - 30",
          "avg_total_product_count": 3,
          "churn_rate_percent": 0,
          "client_count": 4,
          "income_category": "Unknown",
          "index": 11,
          "marital_status": "Unknown",
          "min_amt_chng_q4_q1": 0.623
         },
         {
          "age_group": "11 - 30",
          "avg_total_product_count": 4,
          "churn_rate_percent": 0,
          "client_count": 4,
          "income_category": "$80K - $120K",
          "index": 12,
          "marital_status": "Married",
          "min_amt_chng_q4_q1": 0.778
         },
         {
          "age_group": "11 - 30",
          "avg_total_product_count": 2,
          "churn_rate_percent": 0,
          "client_count": 3,
          "income_category": "$60K - $80K",
          "index": 13,
          "marital_status": "Divorced",
          "min_amt_chng_q4_q1": 0.381
         },
         {
          "age_group": "11 - 30",
          "avg_total_product_count": 4,
          "churn_rate_percent": 0,
          "client_count": 3,
          "income_category": "$40K - $60K",
          "index": 14,
          "marital_status": "Divorced",
          "min_amt_chng_q4_q1": 0.643
         },
         {
          "age_group": "11 - 30",
          "avg_total_product_count": 5,
          "churn_rate_percent": 0,
          "client_count": 2,
          "income_category": "$40K - $60K",
          "index": 15,
          "marital_status": "Unknown",
          "min_amt_chng_q4_q1": 0.535
         },
         {
          "age_group": "11 - 30",
          "avg_total_product_count": 4,
          "churn_rate_percent": 0,
          "client_count": 2,
          "income_category": "$120K +",
          "index": 16,
          "marital_status": "Married",
          "min_amt_chng_q4_q1": 0.52
         },
         {
          "age_group": "11 - 30",
          "avg_total_product_count": 5,
          "churn_rate_percent": 0,
          "client_count": 2,
          "income_category": "$80K - $120K",
          "index": 17,
          "marital_status": "Single",
          "min_amt_chng_q4_q1": 0.786
         },
         {
          "age_group": "11 - 30",
          "avg_total_product_count": 6,
          "churn_rate_percent": 0,
          "client_count": 2,
          "income_category": "$80K - $120K",
          "index": 18,
          "marital_status": "Divorced",
          "min_amt_chng_q4_q1": 0.59
         },
         {
          "age_group": "11 - 30",
          "avg_total_product_count": 4,
          "churn_rate_percent": 0,
          "client_count": 2,
          "income_category": "$120K +",
          "index": 19,
          "marital_status": "Single",
          "min_amt_chng_q4_q1": 0.558
         },
         {
          "age_group": "11 - 30",
          "avg_total_product_count": 3,
          "churn_rate_percent": 0,
          "client_count": 1,
          "income_category": "$60K - $80K",
          "index": 20,
          "marital_status": "Unknown",
          "min_amt_chng_q4_q1": 0.524
         },
         {
          "age_group": "11 - 30",
          "avg_total_product_count": 1,
          "churn_rate_percent": 0,
          "client_count": 1,
          "income_category": "$80K - $120K",
          "index": 21,
          "marital_status": "Unknown",
          "min_amt_chng_q4_q1": 0.715
         },
         {
          "age_group": "11 - 30",
          "avg_total_product_count": 3,
          "churn_rate_percent": 0,
          "client_count": 1,
          "income_category": "$120K +",
          "index": 22,
          "marital_status": "Divorced",
          "min_amt_chng_q4_q1": 0.828
         },
         {
          "age_group": "31 - 40",
          "avg_total_product_count": 4,
          "churn_rate_percent": 0,
          "client_count": 333,
          "income_category": "Less than $40K",
          "index": 23,
          "marital_status": "Single",
          "min_amt_chng_q4_q1": 0.262
         },
         {
          "age_group": "31 - 40",
          "avg_total_product_count": 4,
          "churn_rate_percent": 0,
          "client_count": 330,
          "income_category": "Less than $40K",
          "index": 24,
          "marital_status": "Married",
          "min_amt_chng_q4_q1": 0.24
         },
         {
          "age_group": "31 - 40",
          "avg_total_product_count": 4,
          "churn_rate_percent": 0,
          "client_count": 183,
          "income_category": "$40K - $60K",
          "index": 25,
          "marital_status": "Married",
          "min_amt_chng_q4_q1": 0
         },
         {
          "age_group": "31 - 40",
          "avg_total_product_count": 4,
          "churn_rate_percent": 0,
          "client_count": 169,
          "income_category": "$40K - $60K",
          "index": 26,
          "marital_status": "Single",
          "min_amt_chng_q4_q1": 0.12
         },
         {
          "age_group": "31 - 40",
          "avg_total_product_count": 4,
          "churn_rate_percent": 0,
          "client_count": 154,
          "income_category": "$60K - $80K",
          "index": 27,
          "marital_status": "Married",
          "min_amt_chng_q4_q1": 0.324
         },
         {
          "age_group": "31 - 40",
          "avg_total_product_count": 4,
          "churn_rate_percent": 0,
          "client_count": 143,
          "income_category": "$80K - $120K",
          "index": 28,
          "marital_status": "Married",
          "min_amt_chng_q4_q1": 0.262
         },
         {
          "age_group": "31 - 40",
          "avg_total_product_count": 4,
          "churn_rate_percent": 0,
          "client_count": 127,
          "income_category": "$80K - $120K",
          "index": 29,
          "marital_status": "Single",
          "min_amt_chng_q4_q1": 0.175
         },
         {
          "age_group": "31 - 40",
          "avg_total_product_count": 4,
          "churn_rate_percent": 0,
          "client_count": 112,
          "income_category": "$60K - $80K",
          "index": 30,
          "marital_status": "Single",
          "min_amt_chng_q4_q1": 0.358
         },
         {
          "age_group": "31 - 40",
          "avg_total_product_count": 4,
          "churn_rate_percent": 0,
          "client_count": 105,
          "income_category": "Unknown",
          "index": 31,
          "marital_status": "Single",
          "min_amt_chng_q4_q1": 0.359
         },
         {
          "age_group": "31 - 40",
          "avg_total_product_count": 4,
          "churn_rate_percent": 0,
          "client_count": 87,
          "income_category": "Unknown",
          "index": 32,
          "marital_status": "Married",
          "min_amt_chng_q4_q1": 0.236
         },
         {
          "age_group": "31 - 40",
          "avg_total_product_count": 4,
          "churn_rate_percent": 0,
          "client_count": 57,
          "income_category": "$120K +",
          "index": 33,
          "marital_status": "Married",
          "min_amt_chng_q4_q1": 0.153
         },
         {
          "age_group": "31 - 40",
          "avg_total_product_count": 4,
          "churn_rate_percent": 0,
          "client_count": 49,
          "income_category": "$120K +",
          "index": 34,
          "marital_status": "Single",
          "min_amt_chng_q4_q1": 0.371
         },
         {
          "age_group": "31 - 40",
          "avg_total_product_count": 3,
          "churn_rate_percent": 0,
          "client_count": 46,
          "income_category": "Less than $40K",
          "index": 35,
          "marital_status": "Divorced",
          "min_amt_chng_q4_q1": 0.391
         },
         {
          "age_group": "31 - 40",
          "avg_total_product_count": 3,
          "churn_rate_percent": 0,
          "client_count": 45,
          "income_category": "Less than $40K",
          "index": 36,
          "marital_status": "Unknown",
          "min_amt_chng_q4_q1": 0.417
         },
         {
          "age_group": "31 - 40",
          "avg_total_product_count": 3,
          "churn_rate_percent": 0,
          "client_count": 32,
          "income_category": "$80K - $120K",
          "index": 37,
          "marital_status": "Unknown",
          "min_amt_chng_q4_q1": 0.399
         },
         {
          "age_group": "31 - 40",
          "avg_total_product_count": 4,
          "churn_rate_percent": 0,
          "client_count": 29,
          "income_category": "$40K - $60K",
          "index": 38,
          "marital_status": "Divorced",
          "min_amt_chng_q4_q1": 0.461
         },
         {
          "age_group": "31 - 40",
          "avg_total_product_count": 4,
          "churn_rate_percent": 0,
          "client_count": 27,
          "income_category": "$40K - $60K",
          "index": 39,
          "marital_status": "Unknown",
          "min_amt_chng_q4_q1": 0.349
         },
         {
          "age_group": "31 - 40",
          "avg_total_product_count": 4,
          "churn_rate_percent": 0,
          "client_count": 21,
          "income_category": "$60K - $80K",
          "index": 40,
          "marital_status": "Divorced",
          "min_amt_chng_q4_q1": 0.49
         },
         {
          "age_group": "31 - 40",
          "avg_total_product_count": 4,
          "churn_rate_percent": 0,
          "client_count": 21,
          "income_category": "Unknown",
          "index": 41,
          "marital_status": "Divorced",
          "min_amt_chng_q4_q1": 0.481
         },
         {
          "age_group": "31 - 40",
          "avg_total_product_count": 4,
          "churn_rate_percent": 0,
          "client_count": 19,
          "income_category": "$80K - $120K",
          "index": 42,
          "marital_status": "Divorced",
          "min_amt_chng_q4_q1": 0.202
         },
         {
          "age_group": "31 - 40",
          "avg_total_product_count": 4,
          "churn_rate_percent": 0,
          "client_count": 16,
          "income_category": "Unknown",
          "index": 43,
          "marital_status": "Unknown",
          "min_amt_chng_q4_q1": 0.431
         },
         {
          "age_group": "31 - 40",
          "avg_total_product_count": 4,
          "churn_rate_percent": 0,
          "client_count": 12,
          "income_category": "$60K - $80K",
          "index": 44,
          "marital_status": "Unknown",
          "min_amt_chng_q4_q1": 0.395
         },
         {
          "age_group": "31 - 40",
          "avg_total_product_count": 4,
          "churn_rate_percent": 0,
          "client_count": 9,
          "income_category": "$120K +",
          "index": 45,
          "marital_status": "Divorced",
          "min_amt_chng_q4_q1": 0.557
         },
         {
          "age_group": "31 - 40",
          "avg_total_product_count": 5,
          "churn_rate_percent": 0,
          "client_count": 6,
          "income_category": "$120K +",
          "index": 46,
          "marital_status": "Unknown",
          "min_amt_chng_q4_q1": 0.516
         },
         {
          "age_group": "41 - 50",
          "avg_total_product_count": 4,
          "churn_rate_percent": 0,
          "client_count": 735,
          "income_category": "Less than $40K",
          "index": 47,
          "marital_status": "Married",
          "min_amt_chng_q4_q1": 0.061
         },
         {
          "age_group": "41 - 50",
          "avg_total_product_count": 4,
          "churn_rate_percent": 0,
          "client_count": 557,
          "income_category": "Less than $40K",
          "index": 48,
          "marital_status": "Single",
          "min_amt_chng_q4_q1": 0.275
         },
         {
          "age_group": "41 - 50",
          "avg_total_product_count": 4,
          "churn_rate_percent": 0,
          "client_count": 366,
          "income_category": "$40K - $60K",
          "index": 49,
          "marital_status": "Married",
          "min_amt_chng_q4_q1": 0.196
         },
         {
          "age_group": "41 - 50",
          "avg_total_product_count": 4,
          "churn_rate_percent": 0,
          "client_count": 350,
          "income_category": "$80K - $120K",
          "index": 50,
          "marital_status": "Married",
          "min_amt_chng_q4_q1": 0.313
         },
         {
          "age_group": "41 - 50",
          "avg_total_product_count": 4,
          "churn_rate_percent": 0,
          "client_count": 321,
          "income_category": "$60K - $80K",
          "index": 51,
          "marital_status": "Married",
          "min_amt_chng_q4_q1": 0.222
         },
         {
          "age_group": "41 - 50",
          "avg_total_product_count": 4,
          "churn_rate_percent": 0,
          "client_count": 298,
          "income_category": "$40K - $60K",
          "index": 52,
          "marital_status": "Single",
          "min_amt_chng_q4_q1": 0.225
         },
         {
          "age_group": "41 - 50",
          "avg_total_product_count": 4,
          "churn_rate_percent": 0,
          "client_count": 248,
          "income_category": "$60K - $80K",
          "index": 53,
          "marital_status": "Single",
          "min_amt_chng_q4_q1": 0
         },
         {
          "age_group": "41 - 50",
          "avg_total_product_count": 4,
          "churn_rate_percent": 0,
          "client_count": 245,
          "income_category": "$80K - $120K",
          "index": 54,
          "marital_status": "Single",
          "min_amt_chng_q4_q1": 0.242
         },
         {
          "age_group": "41 - 50",
          "avg_total_product_count": 4,
          "churn_rate_percent": 0,
          "client_count": 232,
          "income_category": "Unknown",
          "index": 55,
          "marital_status": "Married",
          "min_amt_chng_q4_q1": 0.01
         },
         {
          "age_group": "41 - 50",
          "avg_total_product_count": 4,
          "churn_rate_percent": 0,
          "client_count": 171,
          "income_category": "Unknown",
          "index": 56,
          "marital_status": "Single",
          "min_amt_chng_q4_q1": 0.304
         },
         {
          "age_group": "41 - 50",
          "avg_total_product_count": 4,
          "churn_rate_percent": 0,
          "client_count": 150,
          "income_category": "$120K +",
          "index": 57,
          "marital_status": "Married",
          "min_amt_chng_q4_q1": 0.204
         },
         {
          "age_group": "41 - 50",
          "avg_total_product_count": 4,
          "churn_rate_percent": 0,
          "client_count": 146,
          "income_category": "Less than $40K",
          "index": 58,
          "marital_status": "Unknown",
          "min_amt_chng_q4_q1": 0.101
         },
         {
          "age_group": "41 - 50",
          "avg_total_product_count": 4,
          "churn_rate_percent": 0,
          "client_count": 135,
          "income_category": "Less than $40K",
          "index": 59,
          "marital_status": "Divorced",
          "min_amt_chng_q4_q1": 0.341
         },
         {
          "age_group": "41 - 50",
          "avg_total_product_count": 4,
          "churn_rate_percent": 0,
          "client_count": 115,
          "income_category": "$120K +",
          "index": 60,
          "marital_status": "Single",
          "min_amt_chng_q4_q1": 0.28
         },
         {
          "age_group": "41 - 50",
          "avg_total_product_count": 3,
          "churn_rate_percent": 0,
          "client_count": 81,
          "income_category": "$40K - $60K",
          "index": 61,
          "marital_status": "Divorced",
          "min_amt_chng_q4_q1": 0.176
         },
         {
          "age_group": "41 - 50",
          "avg_total_product_count": 4,
          "churn_rate_percent": 0,
          "client_count": 76,
          "income_category": "$40K - $60K",
          "index": 62,
          "marital_status": "Unknown",
          "min_amt_chng_q4_q1": 0.356
         },
         {
          "age_group": "41 - 50",
          "avg_total_product_count": 4,
          "churn_rate_percent": 0,
          "client_count": 76,
          "income_category": "$80K - $120K",
          "index": 63,
          "marital_status": "Unknown",
          "min_amt_chng_q4_q1": 0.371
         },
         {
          "age_group": "41 - 50",
          "avg_total_product_count": 4,
          "churn_rate_percent": 0,
          "client_count": 75,
          "income_category": "$60K - $80K",
          "index": 64,
          "marital_status": "Unknown",
          "min_amt_chng_q4_q1": 0.32
         },
         {
          "age_group": "41 - 50",
          "avg_total_product_count": 4,
          "churn_rate_percent": 0,
          "client_count": 66,
          "income_category": "$60K - $80K",
          "index": 65,
          "marital_status": "Divorced",
          "min_amt_chng_q4_q1": 0.296
         },
         {
          "age_group": "41 - 50",
          "avg_total_product_count": 4,
          "churn_rate_percent": 0,
          "client_count": 65,
          "income_category": "$80K - $120K",
          "index": 66,
          "marital_status": "Divorced",
          "min_amt_chng_q4_q1": 0
         },
         {
          "age_group": "41 - 50",
          "avg_total_product_count": 4,
          "churn_rate_percent": 0,
          "client_count": 52,
          "income_category": "Unknown",
          "index": 67,
          "marital_status": "Unknown",
          "min_amt_chng_q4_q1": 0.325
         },
         {
          "age_group": "41 - 50",
          "avg_total_product_count": 4,
          "churn_rate_percent": 0,
          "client_count": 45,
          "income_category": "Unknown",
          "index": 68,
          "marital_status": "Divorced",
          "min_amt_chng_q4_q1": 0.442
         },
         {
          "age_group": "41 - 50",
          "avg_total_product_count": 3,
          "churn_rate_percent": 0,
          "client_count": 27,
          "income_category": "$120K +",
          "index": 69,
          "marital_status": "Unknown",
          "min_amt_chng_q4_q1": 0.417
         },
         {
          "age_group": "41 - 50",
          "avg_total_product_count": 4,
          "churn_rate_percent": 0,
          "client_count": 20,
          "income_category": "$120K +",
          "index": 70,
          "marital_status": "Divorced",
          "min_amt_chng_q4_q1": 0.426
         },
         {
          "age_group": "51 - 60",
          "avg_total_product_count": 4,
          "churn_rate_percent": 0,
          "client_count": 453,
          "income_category": "Less than $40K",
          "index": 71,
          "marital_status": "Married",
          "min_amt_chng_q4_q1": 0.046
         },
         {
          "age_group": "51 - 60",
          "avg_total_product_count": 4,
          "churn_rate_percent": 0,
          "client_count": 388,
          "income_category": "Less than $40K",
          "index": 72,
          "marital_status": "Single",
          "min_amt_chng_q4_q1": 0.241
         },
         {
          "age_group": "51 - 60",
          "avg_total_product_count": 4,
          "churn_rate_percent": 0,
          "client_count": 230,
          "income_category": "$80K - $120K",
          "index": 73,
          "marital_status": "Married",
          "min_amt_chng_q4_q1": 0.289
         },
         {
          "age_group": "51 - 60",
          "avg_total_product_count": 4,
          "churn_rate_percent": 0,
          "client_count": 201,
          "income_category": "$40K - $60K",
          "index": 74,
          "marital_status": "Married",
          "min_amt_chng_q4_q1": 0.315
         },
         {
          "age_group": "51 - 60",
          "avg_total_product_count": 4,
          "churn_rate_percent": 0,
          "client_count": 178,
          "income_category": "$80K - $120K",
          "index": 75,
          "marital_status": "Single",
          "min_amt_chng_q4_q1": 0
         },
         {
          "age_group": "51 - 60",
          "avg_total_product_count": 3,
          "churn_rate_percent": 0,
          "client_count": 170,
          "income_category": "$40K - $60K",
          "index": 76,
          "marital_status": "Single",
          "min_amt_chng_q4_q1": 0.187
         },
         {
          "age_group": "51 - 60",
          "avg_total_product_count": 4,
          "churn_rate_percent": 0,
          "client_count": 160,
          "income_category": "$60K - $80K",
          "index": 77,
          "marital_status": "Married",
          "min_amt_chng_q4_q1": 0.294
         },
         {
          "age_group": "51 - 60",
          "avg_total_product_count": 4,
          "churn_rate_percent": 0,
          "client_count": 143,
          "income_category": "$120K +",
          "index": 78,
          "marital_status": "Married",
          "min_amt_chng_q4_q1": 0.322
         },
         {
          "age_group": "51 - 60",
          "avg_total_product_count": 4,
          "churn_rate_percent": 0,
          "client_count": 138,
          "income_category": "Unknown",
          "index": 79,
          "marital_status": "Married",
          "min_amt_chng_q4_q1": 0.307
         },
         {
          "age_group": "51 - 60",
          "avg_total_product_count": 4,
          "churn_rate_percent": 0,
          "client_count": 128,
          "income_category": "$60K - $80K",
          "index": 80,
          "marital_status": "Single",
          "min_amt_chng_q4_q1": 0.309
         },
         {
          "age_group": "51 - 60",
          "avg_total_product_count": 4,
          "churn_rate_percent": 0,
          "client_count": 109,
          "income_category": "Unknown",
          "index": 81,
          "marital_status": "Single",
          "min_amt_chng_q4_q1": 0.166
         },
         {
          "age_group": "51 - 60",
          "avg_total_product_count": 4,
          "churn_rate_percent": 0,
          "client_count": 106,
          "income_category": "$120K +",
          "index": 82,
          "marital_status": "Single",
          "min_amt_chng_q4_q1": 0
         },
         {
          "age_group": "51 - 60",
          "avg_total_product_count": 4,
          "churn_rate_percent": 0,
          "client_count": 50,
          "income_category": "Less than $40K",
          "index": 83,
          "marital_status": "Divorced",
          "min_amt_chng_q4_q1": 0.458
         },
         {
          "age_group": "51 - 60",
          "avg_total_product_count": 4,
          "churn_rate_percent": 0,
          "client_count": 45,
          "income_category": "Less than $40K",
          "index": 84,
          "marital_status": "Unknown",
          "min_amt_chng_q4_q1": 0.415
         },
         {
          "age_group": "51 - 60",
          "avg_total_product_count": 4,
          "churn_rate_percent": 0,
          "client_count": 25,
          "income_category": "$80K - $120K",
          "index": 85,
          "marital_status": "Unknown",
          "min_amt_chng_q4_q1": 0.363
         },
         {
          "age_group": "51 - 60",
          "avg_total_product_count": 4,
          "churn_rate_percent": 0,
          "client_count": 23,
          "income_category": "$40K - $60K",
          "index": 86,
          "marital_status": "Divorced",
          "min_amt_chng_q4_q1": 0.376
         },
         {
          "age_group": "51 - 60",
          "avg_total_product_count": 4,
          "churn_rate_percent": 0,
          "client_count": 22,
          "income_category": "$120K +",
          "index": 87,
          "marital_status": "Divorced",
          "min_amt_chng_q4_q1": 0.486
         },
         {
          "age_group": "51 - 60",
          "avg_total_product_count": 4,
          "churn_rate_percent": 0,
          "client_count": 21,
          "income_category": "$40K - $60K",
          "index": 88,
          "marital_status": "Unknown",
          "min_amt_chng_q4_q1": 0.497
         },
         {
          "age_group": "51 - 60",
          "avg_total_product_count": 4,
          "churn_rate_percent": 0,
          "client_count": 18,
          "income_category": "Unknown",
          "index": 89,
          "marital_status": "Divorced",
          "min_amt_chng_q4_q1": 0.551
         },
         {
          "age_group": "51 - 60",
          "avg_total_product_count": 3,
          "churn_rate_percent": 0,
          "client_count": 17,
          "income_category": "$80K - $120K",
          "index": 90,
          "marital_status": "Divorced",
          "min_amt_chng_q4_q1": 0.32
         },
         {
          "age_group": "51 - 60",
          "avg_total_product_count": 4,
          "churn_rate_percent": 0,
          "client_count": 15,
          "income_category": "$60K - $80K",
          "index": 91,
          "marital_status": "Divorced",
          "min_amt_chng_q4_q1": 0.4
         },
         {
          "age_group": "51 - 60",
          "avg_total_product_count": 4,
          "churn_rate_percent": 0,
          "client_count": 14,
          "income_category": "$120K +",
          "index": 92,
          "marital_status": "Unknown",
          "min_amt_chng_q4_q1": 0.018
         },
         {
          "age_group": "51 - 60",
          "avg_total_product_count": 4,
          "churn_rate_percent": 0,
          "client_count": 11,
          "income_category": "$60K - $80K",
          "index": 93,
          "marital_status": "Unknown",
          "min_amt_chng_q4_q1": 0.498
         },
         {
          "age_group": "51 - 60",
          "avg_total_product_count": 4,
          "churn_rate_percent": 0,
          "client_count": 8,
          "income_category": "Unknown",
          "index": 94,
          "marital_status": "Unknown",
          "min_amt_chng_q4_q1": 0.62
         },
         {
          "age_group": "61 - 120",
          "avg_total_product_count": 4,
          "churn_rate_percent": 0,
          "client_count": 82,
          "income_category": "Less than $40K",
          "index": 95,
          "marital_status": "Single",
          "min_amt_chng_q4_q1": 0.331
         },
         {
          "age_group": "61 - 120",
          "avg_total_product_count": 4,
          "churn_rate_percent": 0,
          "client_count": 74,
          "income_category": "Less than $40K",
          "index": 96,
          "marital_status": "Married",
          "min_amt_chng_q4_q1": 0.346
         },
         {
          "age_group": "61 - 120",
          "avg_total_product_count": 4,
          "churn_rate_percent": 0,
          "client_count": 51,
          "income_category": "$40K - $60K",
          "index": 97,
          "marital_status": "Married",
          "min_amt_chng_q4_q1": 0.322
         },
         {
          "age_group": "61 - 120",
          "avg_total_product_count": 4,
          "churn_rate_percent": 0,
          "client_count": 38,
          "income_category": "$40K - $60K",
          "index": 98,
          "marital_status": "Single",
          "min_amt_chng_q4_q1": 0.371
         },
         {
          "age_group": "61 - 120",
          "avg_total_product_count": 4,
          "churn_rate_percent": 0,
          "client_count": 32,
          "income_category": "Unknown",
          "index": 99,
          "marital_status": "Single",
          "min_amt_chng_q4_q1": 0.57
         },
         {
          "age_group": "61 - 120",
          "avg_total_product_count": 4,
          "churn_rate_percent": 0,
          "client_count": 28,
          "income_category": "$60K - $80K",
          "index": 100,
          "marital_status": "Single",
          "min_amt_chng_q4_q1": 0.433
         },
         {
          "age_group": "61 - 120",
          "avg_total_product_count": 4,
          "churn_rate_percent": 0,
          "client_count": 27,
          "income_category": "Unknown",
          "index": 101,
          "marital_status": "Married",
          "min_amt_chng_q4_q1": 0.421
         },
         {
          "age_group": "61 - 120",
          "avg_total_product_count": 4,
          "churn_rate_percent": 0,
          "client_count": 17,
          "income_category": "$60K - $80K",
          "index": 102,
          "marital_status": "Married",
          "min_amt_chng_q4_q1": 0.491
         },
         {
          "age_group": "61 - 120",
          "avg_total_product_count": 5,
          "churn_rate_percent": 0,
          "client_count": 9,
          "income_category": "$80K - $120K",
          "index": 103,
          "marital_status": "Single",
          "min_amt_chng_q4_q1": 0.511
         },
         {
          "age_group": "61 - 120",
          "avg_total_product_count": 4,
          "churn_rate_percent": 0,
          "client_count": 8,
          "income_category": "$80K - $120K",
          "index": 104,
          "marital_status": "Married",
          "min_amt_chng_q4_q1": 0.278
         },
         {
          "age_group": "61 - 120",
          "avg_total_product_count": 5,
          "churn_rate_percent": 0,
          "client_count": 8,
          "income_category": "Less than $40K",
          "index": 105,
          "marital_status": "Unknown",
          "min_amt_chng_q4_q1": 0.422
         },
         {
          "age_group": "61 - 120",
          "avg_total_product_count": 3,
          "churn_rate_percent": 0,
          "client_count": 7,
          "income_category": "Less than $40K",
          "index": 106,
          "marital_status": "Divorced",
          "min_amt_chng_q4_q1": 0.597
         },
         {
          "age_group": "61 - 120",
          "avg_total_product_count": 4,
          "churn_rate_percent": 0,
          "client_count": 6,
          "income_category": "$40K - $60K",
          "index": 107,
          "marital_status": "Unknown",
          "min_amt_chng_q4_q1": 0.436
         },
         {
          "age_group": "61 - 120",
          "avg_total_product_count": 4,
          "churn_rate_percent": 0,
          "client_count": 3,
          "income_category": "$60K - $80K",
          "index": 108,
          "marital_status": "Divorced",
          "min_amt_chng_q4_q1": 0.594
         },
         {
          "age_group": "61 - 120",
          "avg_total_product_count": 4,
          "churn_rate_percent": 0,
          "client_count": 3,
          "income_category": "$60K - $80K",
          "index": 109,
          "marital_status": "Unknown",
          "min_amt_chng_q4_q1": 0.551
         },
         {
          "age_group": "61 - 120",
          "avg_total_product_count": 5,
          "churn_rate_percent": 0,
          "client_count": 2,
          "income_category": "$40K - $60K",
          "index": 110,
          "marital_status": "Divorced",
          "min_amt_chng_q4_q1": 0.567
         },
         {
          "age_group": "61 - 120",
          "avg_total_product_count": 5,
          "churn_rate_percent": 0,
          "client_count": 2,
          "income_category": "$120K +",
          "index": 111,
          "marital_status": "Single",
          "min_amt_chng_q4_q1": 0.564
         },
         {
          "age_group": "61 - 120",
          "avg_total_product_count": 4,
          "churn_rate_percent": 0,
          "client_count": 2,
          "income_category": "$120K +",
          "index": 112,
          "marital_status": "Married",
          "min_amt_chng_q4_q1": 0.424
         },
         {
          "age_group": "61 - 120",
          "avg_total_product_count": 4,
          "churn_rate_percent": 0,
          "client_count": 2,
          "income_category": "Unknown",
          "index": 113,
          "marital_status": "Divorced",
          "min_amt_chng_q4_q1": 0.808
         },
         {
          "age_group": "61 - 120",
          "avg_total_product_count": 6,
          "churn_rate_percent": 0,
          "client_count": 2,
          "income_category": "$80K - $120K",
          "index": 114,
          "marital_status": "Unknown",
          "min_amt_chng_q4_q1": 0.722
         },
         {
          "age_group": "61 - 120",
          "avg_total_product_count": 4,
          "churn_rate_percent": 0,
          "client_count": 2,
          "income_category": "Unknown",
          "index": 115,
          "marital_status": "Unknown",
          "min_amt_chng_q4_q1": 0.628
         }
        ],
        "schema": {
         "fields": [
          {
           "name": "index",
           "type": "integer"
          },
          {
           "name": "age_group",
           "type": "string"
          },
          {
           "name": "marital_status",
           "type": "string"
          },
          {
           "name": "income_category",
           "type": "string"
          },
          {
           "name": "churn_rate_percent",
           "type": "number"
          },
          {
           "name": "avg_total_product_count",
           "type": "integer"
          },
          {
           "name": "min_amt_chng_q4_q1",
           "type": "number"
          },
          {
           "name": "client_count",
           "type": "integer"
          }
         ],
         "pandas_version": "1.4.0",
         "primaryKey": [
          "index"
         ]
        }
       },
       "total_rows": 116,
       "truncation_type": null
      },
      "text/html": [
       "<div>\n",
       "<style scoped>\n",
       "    .dataframe tbody tr th:only-of-type {\n",
       "        vertical-align: middle;\n",
       "    }\n",
       "\n",
       "    .dataframe tbody tr th {\n",
       "        vertical-align: top;\n",
       "    }\n",
       "\n",
       "    .dataframe thead th {\n",
       "        text-align: right;\n",
       "    }\n",
       "</style>\n",
       "<table border=\"1\" class=\"dataframe\">\n",
       "  <thead>\n",
       "    <tr style=\"text-align: right;\">\n",
       "      <th></th>\n",
       "      <th>age_group</th>\n",
       "      <th>marital_status</th>\n",
       "      <th>income_category</th>\n",
       "      <th>churn_rate_percent</th>\n",
       "      <th>avg_total_product_count</th>\n",
       "      <th>min_amt_chng_q4_q1</th>\n",
       "      <th>client_count</th>\n",
       "    </tr>\n",
       "  </thead>\n",
       "  <tbody>\n",
       "    <tr>\n",
       "      <th>0</th>\n",
       "      <td>11 - 30</td>\n",
       "      <td>Single</td>\n",
       "      <td>Less than $40K</td>\n",
       "      <td>0.0</td>\n",
       "      <td>4</td>\n",
       "      <td>0.299</td>\n",
       "      <td>69</td>\n",
       "    </tr>\n",
       "    <tr>\n",
       "      <th>1</th>\n",
       "      <td>11 - 30</td>\n",
       "      <td>Married</td>\n",
       "      <td>Less than $40K</td>\n",
       "      <td>0.0</td>\n",
       "      <td>4</td>\n",
       "      <td>0.549</td>\n",
       "      <td>36</td>\n",
       "    </tr>\n",
       "    <tr>\n",
       "      <th>2</th>\n",
       "      <td>11 - 30</td>\n",
       "      <td>Single</td>\n",
       "      <td>$40K - $60K</td>\n",
       "      <td>0.0</td>\n",
       "      <td>4</td>\n",
       "      <td>0.331</td>\n",
       "      <td>29</td>\n",
       "    </tr>\n",
       "    <tr>\n",
       "      <th>3</th>\n",
       "      <td>11 - 30</td>\n",
       "      <td>Single</td>\n",
       "      <td>Unknown</td>\n",
       "      <td>0.0</td>\n",
       "      <td>4</td>\n",
       "      <td>0.391</td>\n",
       "      <td>27</td>\n",
       "    </tr>\n",
       "    <tr>\n",
       "      <th>4</th>\n",
       "      <td>11 - 30</td>\n",
       "      <td>Divorced</td>\n",
       "      <td>Less than $40K</td>\n",
       "      <td>0.0</td>\n",
       "      <td>5</td>\n",
       "      <td>0.632</td>\n",
       "      <td>16</td>\n",
       "    </tr>\n",
       "    <tr>\n",
       "      <th>...</th>\n",
       "      <td>...</td>\n",
       "      <td>...</td>\n",
       "      <td>...</td>\n",
       "      <td>...</td>\n",
       "      <td>...</td>\n",
       "      <td>...</td>\n",
       "      <td>...</td>\n",
       "    </tr>\n",
       "    <tr>\n",
       "      <th>111</th>\n",
       "      <td>61 - 120</td>\n",
       "      <td>Single</td>\n",
       "      <td>$120K +</td>\n",
       "      <td>0.0</td>\n",
       "      <td>5</td>\n",
       "      <td>0.564</td>\n",
       "      <td>2</td>\n",
       "    </tr>\n",
       "    <tr>\n",
       "      <th>112</th>\n",
       "      <td>61 - 120</td>\n",
       "      <td>Married</td>\n",
       "      <td>$120K +</td>\n",
       "      <td>0.0</td>\n",
       "      <td>4</td>\n",
       "      <td>0.424</td>\n",
       "      <td>2</td>\n",
       "    </tr>\n",
       "    <tr>\n",
       "      <th>113</th>\n",
       "      <td>61 - 120</td>\n",
       "      <td>Divorced</td>\n",
       "      <td>Unknown</td>\n",
       "      <td>0.0</td>\n",
       "      <td>4</td>\n",
       "      <td>0.808</td>\n",
       "      <td>2</td>\n",
       "    </tr>\n",
       "    <tr>\n",
       "      <th>114</th>\n",
       "      <td>61 - 120</td>\n",
       "      <td>Unknown</td>\n",
       "      <td>$80K - $120K</td>\n",
       "      <td>0.0</td>\n",
       "      <td>6</td>\n",
       "      <td>0.722</td>\n",
       "      <td>2</td>\n",
       "    </tr>\n",
       "    <tr>\n",
       "      <th>115</th>\n",
       "      <td>61 - 120</td>\n",
       "      <td>Unknown</td>\n",
       "      <td>Unknown</td>\n",
       "      <td>0.0</td>\n",
       "      <td>4</td>\n",
       "      <td>0.628</td>\n",
       "      <td>2</td>\n",
       "    </tr>\n",
       "  </tbody>\n",
       "</table>\n",
       "<p>116 rows × 7 columns</p>\n",
       "</div>"
      ],
      "text/plain": [
       "    age_group marital_status  ... min_amt_chng_q4_q1  client_count\n",
       "0     11 - 30         Single  ...              0.299            69\n",
       "1     11 - 30        Married  ...              0.549            36\n",
       "2     11 - 30         Single  ...              0.331            29\n",
       "3     11 - 30         Single  ...              0.391            27\n",
       "4     11 - 30       Divorced  ...              0.632            16\n",
       "..        ...            ...  ...                ...           ...\n",
       "111  61 - 120         Single  ...              0.564             2\n",
       "112  61 - 120        Married  ...              0.424             2\n",
       "113  61 - 120       Divorced  ...              0.808             2\n",
       "114  61 - 120        Unknown  ...              0.722             2\n",
       "115  61 - 120        Unknown  ...              0.628             2\n",
       "\n",
       "[116 rows x 7 columns]"
      ]
     },
     "execution_count": 9,
     "metadata": {},
     "output_type": "execute_result"
    }
   ],
   "source": [
    "-- Solution approach: Created a Pivot Table that groups the dataset by demographic variables: age group, marital status and income category, while also aggregating individual values into a summary of the churn rate, avg total relationship count, minimum total amount change [Q1-Q4] and number of customers, per each demographic group.\n",
    "\n",
    "WITH churned AS (\n",
    "    \n",
    "    SELECT \n",
    "        dem.clientnum AS clientnum,\n",
    "        age_group,\n",
    "        marital_status,\n",
    "        income_category,\n",
    "        total_relationship_count,\n",
    "        total_amt_chng_q4_q1,\n",
    "        CASE WHEN attrition_flag = 'Attrited Customer' THEN 1\n",
    "        ELSE 0 END AS is_churned\n",
    "    FROM demographics AS dem\n",
    "    JOIN bankchurners AS bc\n",
    "        ON dem.clientnum = bc.clientnum\n",
    "    JOIN enriched_churn_data AS ecd\n",
    "        ON dem.clientnum = ecd.clientnum\n",
    "    )\n",
    "\n",
    "SELECT \n",
    "    age_group, \n",
    "    marital_status, \n",
    "    income_category,\n",
    "    ROUND(100 * SUM(is_churned) / (SELECT COUNT(*) FROM bankchurners)::numeric, 1) AS churn_rate_percent,\n",
    "    ROUND(AVG(total_relationship_count)) as avg_total_product_count,\n",
    "    MIN(total_amt_chng_q4_q1) as min_amt_chng_q4_q1,\n",
    "    COUNT(clientnum) as client_count\n",
    "FROM churned\n",
    "GROUP BY 1, 2, 3\n",
    "ORDER BY 1, 7 DESC\n",
    ";"
   ]
  },
  {
   "cell_type": "markdown",
   "id": "8b16ab4f-34cf-4abf-9287-ad840d4a9753",
   "metadata": {},
   "source": [
    "**Question 4:**\n",
    "\n",
    "Out of the male clients, who holds the “blue” card, how many (in %) hold the income category 40K - 60K?"
   ]
  },
  {
   "cell_type": "code",
   "execution_count": 10,
   "id": "c51057cd-e96c-4acb-94d9-e8933505bb4f",
   "metadata": {
    "customType": "sql",
    "dataFrameVariableName": "df",
    "executionTime": 2360,
    "initial": false,
    "integrationId": "340d6f6b-e6bc-4eae-a902-e9a40ad6dfb1",
    "lastSuccessfullyExecutedCode": "WITH total_count AS (\n    SELECT \n        COUNT(*) AS total\n    FROM basic_client_info AS bci\n    JOIN bankchurners AS bc\n        ON bci.clientnum = bc.clientnum\n    WHERE gender = 'M'\n        AND card_category = 'Blue'\n    ),\n    \n    male_blue_card_holders AS (\n    SELECT \n        income_category\n    FROM basic_client_info AS bci\n    JOIN bankchurners AS bc\n        ON bci.clientnum = bc.clientnum\n    WHERE gender = 'M'\n        AND card_category = 'Blue'\n    )\n\nSELECT \n    income_category,\n    ROUND(100 * COUNT(income_category) / total :: numeric, 2) AS percent_of_male_blue_card_holders\nFROM male_blue_card_holders, total_count\nGROUP BY income_category, total\nLIMIT 1 OFFSET 3\n;"
   },
   "outputs": [
    {
     "data": {
      "application/com.datacamp.data-table.v1+json": {
       "table": {
        "data": [
         {
          "income_category": "$40K - $60K",
          "index": 0,
          "percent_of_male_blue_card_holders": 16.49
         }
        ],
        "schema": {
         "fields": [
          {
           "name": "index",
           "type": "integer"
          },
          {
           "name": "income_category",
           "type": "string"
          },
          {
           "name": "percent_of_male_blue_card_holders",
           "type": "number"
          }
         ],
         "pandas_version": "1.4.0",
         "primaryKey": [
          "index"
         ]
        }
       },
       "total_rows": 1,
       "truncation_type": null
      },
      "text/html": [
       "<div>\n",
       "<style scoped>\n",
       "    .dataframe tbody tr th:only-of-type {\n",
       "        vertical-align: middle;\n",
       "    }\n",
       "\n",
       "    .dataframe tbody tr th {\n",
       "        vertical-align: top;\n",
       "    }\n",
       "\n",
       "    .dataframe thead th {\n",
       "        text-align: right;\n",
       "    }\n",
       "</style>\n",
       "<table border=\"1\" class=\"dataframe\">\n",
       "  <thead>\n",
       "    <tr style=\"text-align: right;\">\n",
       "      <th></th>\n",
       "      <th>income_category</th>\n",
       "      <th>percent_of_male_blue_card_holders</th>\n",
       "    </tr>\n",
       "  </thead>\n",
       "  <tbody>\n",
       "    <tr>\n",
       "      <th>0</th>\n",
       "      <td>$40K - $60K</td>\n",
       "      <td>16.49</td>\n",
       "    </tr>\n",
       "  </tbody>\n",
       "</table>\n",
       "</div>"
      ],
      "text/plain": [
       "  income_category  percent_of_male_blue_card_holders\n",
       "0     $40K - $60K                              16.49"
      ]
     },
     "execution_count": 10,
     "metadata": {},
     "output_type": "execute_result"
    }
   ],
   "source": [
    "WITH total_count AS (\n",
    "    SELECT \n",
    "        COUNT(*) AS total\n",
    "    FROM basic_client_info AS bci\n",
    "    JOIN bankchurners AS bc\n",
    "        ON bci.clientnum = bc.clientnum\n",
    "    WHERE gender = 'M'\n",
    "        AND card_category = 'Blue'\n",
    "    ),\n",
    "    \n",
    "    male_blue_card_holders AS (\n",
    "    SELECT \n",
    "        income_category\n",
    "    FROM basic_client_info AS bci\n",
    "    JOIN bankchurners AS bc\n",
    "        ON bci.clientnum = bc.clientnum\n",
    "    WHERE gender = 'M'\n",
    "        AND card_category = 'Blue'\n",
    "    )\n",
    "\n",
    "SELECT \n",
    "    income_category,\n",
    "    ROUND(100 * COUNT(income_category) / total :: numeric, 2) AS percent_of_male_blue_card_holders\n",
    "FROM male_blue_card_holders, total_count\n",
    "GROUP BY income_category, total\n",
    "LIMIT 1 OFFSET 3\n",
    ";"
   ]
  },
  {
   "cell_type": "markdown",
   "id": "5dab908c-3c68-4076-8634-6c20bc975fe9",
   "metadata": {},
   "source": [
    "**Question 5:**\n",
    "\n",
    "Without the usage of group by at all, find the 3rd and 4th highest client IDs (CLIENTNUM’s) of Total_Amt_Chng_Q4_Q1?"
   ]
  },
  {
   "cell_type": "code",
   "execution_count": 11,
   "id": "28b8f35d-b80c-4d7f-8ebf-3608eaaa7aeb",
   "metadata": {
    "customType": "sql",
    "dataFrameVariableName": "df",
    "executionTime": 2017,
    "initial": false,
    "integrationId": "340d6f6b-e6bc-4eae-a902-e9a40ad6dfb1",
    "lastSuccessfullyExecutedCode": "SELECT \n    clientnum\nFROM enriched_churn_data\nORDER BY total_amt_chng_q4_q1 DESC\nLIMIT 2 OFFSET 2\n;"
   },
   "outputs": [
    {
     "data": {
      "application/com.datacamp.data-table.v1+json": {
       "table": {
        "data": [
         {
          "clientnum": 713989233,
          "index": 0
         },
         {
          "clientnum": 713982108,
          "index": 1
         }
        ],
        "schema": {
         "fields": [
          {
           "name": "index",
           "type": "integer"
          },
          {
           "name": "clientnum",
           "type": "integer"
          }
         ],
         "pandas_version": "1.4.0",
         "primaryKey": [
          "index"
         ]
        }
       },
       "total_rows": 2,
       "truncation_type": null
      },
      "text/html": [
       "<div>\n",
       "<style scoped>\n",
       "    .dataframe tbody tr th:only-of-type {\n",
       "        vertical-align: middle;\n",
       "    }\n",
       "\n",
       "    .dataframe tbody tr th {\n",
       "        vertical-align: top;\n",
       "    }\n",
       "\n",
       "    .dataframe thead th {\n",
       "        text-align: right;\n",
       "    }\n",
       "</style>\n",
       "<table border=\"1\" class=\"dataframe\">\n",
       "  <thead>\n",
       "    <tr style=\"text-align: right;\">\n",
       "      <th></th>\n",
       "      <th>clientnum</th>\n",
       "    </tr>\n",
       "  </thead>\n",
       "  <tbody>\n",
       "    <tr>\n",
       "      <th>0</th>\n",
       "      <td>713989233</td>\n",
       "    </tr>\n",
       "    <tr>\n",
       "      <th>1</th>\n",
       "      <td>713982108</td>\n",
       "    </tr>\n",
       "  </tbody>\n",
       "</table>\n",
       "</div>"
      ],
      "text/plain": [
       "   clientnum\n",
       "0  713989233\n",
       "1  713982108"
      ]
     },
     "execution_count": 11,
     "metadata": {},
     "output_type": "execute_result"
    }
   ],
   "source": [
    "SELECT \n",
    "    clientnum\n",
    "FROM enriched_churn_data\n",
    "ORDER BY total_amt_chng_q4_q1 DESC\n",
    "LIMIT 2 OFFSET 2\n",
    ";"
   ]
  },
  {
   "cell_type": "markdown",
   "id": "63c140b2-0f65-405f-84d2-7a3e897bbde3",
   "metadata": {},
   "source": [
    "**Question 6:**\n",
    "\n",
    "We’re interested in knowing which client (CLIENTNUM) has the 2nd highest Total_Trans_Amt, Per each Marital_Status."
   ]
  },
  {
   "cell_type": "code",
   "execution_count": 13,
   "id": "161e23cd-f2e3-4ce0-b184-d0c7d029da76",
   "metadata": {
    "customType": "sql",
    "dataFrameVariableName": "df",
    "executionTime": 1789,
    "initial": false,
    "integrationId": "340d6f6b-e6bc-4eae-a902-e9a40ad6dfb1",
    "lastSuccessfullyExecutedCode": "-- Which client (CLIENTNUM) has the 2nd highest Total_Trans_Amt, Per each Marital_Status.\n\nWITH t1 AS (\n    SELECT\n        bci.clientnum,\n        marital_status,\n        total_trans_amt,\n        DENSE_RANK() OVER (PARTITION BY marital_status ORDER BY total_trans_amt Desc) AS rnk\nFROM basic_client_info AS bci\nJOIN enriched_churn_data AS ecd\n    ON bci.clientnum = ecd.clientnum\n)\nSELECT \n    marital_status,\n    clientnum AS client_with_2nd_highest_trans_amt\nFROM t1\nWHERE rnk=2\n;"
   },
   "outputs": [
    {
     "data": {
      "application/com.datacamp.data-table.v1+json": {
       "table": {
        "data": [
         {
          "client_with_2nd_highest_trans_amt": 716894658,
          "index": 0,
          "marital_status": "Divorced"
         },
         {
          "client_with_2nd_highest_trans_amt": 717642633,
          "index": 1,
          "marital_status": "Married"
         },
         {
          "client_with_2nd_highest_trans_amt": 716004258,
          "index": 2,
          "marital_status": "Single"
         },
         {
          "client_with_2nd_highest_trans_amt": 719848008,
          "index": 3,
          "marital_status": "Unknown"
         }
        ],
        "schema": {
         "fields": [
          {
           "name": "index",
           "type": "integer"
          },
          {
           "name": "marital_status",
           "type": "string"
          },
          {
           "name": "client_with_2nd_highest_trans_amt",
           "type": "integer"
          }
         ],
         "pandas_version": "1.4.0",
         "primaryKey": [
          "index"
         ]
        }
       },
       "total_rows": 4,
       "truncation_type": null
      },
      "text/html": [
       "<div>\n",
       "<style scoped>\n",
       "    .dataframe tbody tr th:only-of-type {\n",
       "        vertical-align: middle;\n",
       "    }\n",
       "\n",
       "    .dataframe tbody tr th {\n",
       "        vertical-align: top;\n",
       "    }\n",
       "\n",
       "    .dataframe thead th {\n",
       "        text-align: right;\n",
       "    }\n",
       "</style>\n",
       "<table border=\"1\" class=\"dataframe\">\n",
       "  <thead>\n",
       "    <tr style=\"text-align: right;\">\n",
       "      <th></th>\n",
       "      <th>marital_status</th>\n",
       "      <th>client_with_2nd_highest_trans_amt</th>\n",
       "    </tr>\n",
       "  </thead>\n",
       "  <tbody>\n",
       "    <tr>\n",
       "      <th>0</th>\n",
       "      <td>Divorced</td>\n",
       "      <td>716894658</td>\n",
       "    </tr>\n",
       "    <tr>\n",
       "      <th>1</th>\n",
       "      <td>Married</td>\n",
       "      <td>717642633</td>\n",
       "    </tr>\n",
       "    <tr>\n",
       "      <th>2</th>\n",
       "      <td>Single</td>\n",
       "      <td>716004258</td>\n",
       "    </tr>\n",
       "    <tr>\n",
       "      <th>3</th>\n",
       "      <td>Unknown</td>\n",
       "      <td>719848008</td>\n",
       "    </tr>\n",
       "  </tbody>\n",
       "</table>\n",
       "</div>"
      ],
      "text/plain": [
       "  marital_status  client_with_2nd_highest_trans_amt\n",
       "0       Divorced                          716894658\n",
       "1        Married                          717642633\n",
       "2         Single                          716004258\n",
       "3        Unknown                          719848008"
      ]
     },
     "execution_count": 13,
     "metadata": {},
     "output_type": "execute_result"
    }
   ],
   "source": [
    "-- Which client (CLIENTNUM) has the 2nd highest Total_Trans_Amt, Per each Marital_Status.\n",
    "\n",
    "WITH t1 AS (\n",
    "    SELECT\n",
    "        bci.clientnum,\n",
    "        marital_status,\n",
    "        total_trans_amt,\n",
    "        DENSE_RANK() OVER (PARTITION BY marital_status ORDER BY total_trans_amt Desc) AS rnk\n",
    "FROM basic_client_info AS bci\n",
    "JOIN enriched_churn_data AS ecd\n",
    "    ON bci.clientnum = ecd.clientnum\n",
    ")\n",
    "SELECT \n",
    "    marital_status,\n",
    "    clientnum AS client_with_2nd_highest_trans_amt\n",
    "FROM t1\n",
    "WHERE rnk=2\n",
    ";"
   ]
  },
  {
   "cell_type": "markdown",
   "id": "2f5e2f65-9be1-4a89-965f-4d613b94ff72",
   "metadata": {},
   "source": [
    " -------------------------------------------------------------------------------------------------------------------- "
   ]
  },
  {
   "cell_type": "markdown",
   "id": "b68ad162-e1b7-42f4-88e8-72d8a729aa45",
   "metadata": {},
   "source": [
    "## Tableau Tasks\n",
    "\n",
    "This Tableau task lets you be creative with the way you build your dashboard and only gives guidance on the types of visualizations you should use.\n",
    "\n",
    "Create a dashboard that will contain at least 5 out of the 8 requirements defined below:\n",
    "\n",
    "1. **At least 2 KPIs** as Big Ass Numbers. Choose the metrics on your own that will fit with the rest of your analysis. Examples of metrics:\n",
    "    - Total number of clients\n",
    "    - Churn rate %\n",
    "    - Average transaction amount per customer\n",
    "    - Average transaction amount before churn\n",
    "    - etc.\n",
    "2. **Churn rate %** among different **age groups**. You will need to:\n",
    "    - Use the Bins function to split client age into age ranges\n",
    "    - Define Churn rate % as a calculated field\n",
    "    - Choose the way of visualizing the comparison\n",
    "3. **A Scatterplot** visualizing certain customer spending behaviors and their connection to the churn if exists. For example, you can compare Total transaction amount and Total transaction count of each client and use color to mark churned and existing customers. \n",
    "4. **A Highlight Table** comparing Churn rate % among two demographic dimensions (from *basic_client_info* table), where one is placed on Rows and another on Columns, forming a matrix. \n",
    "5. **A Bar Chart** with multiple metrics by Clientnum, where each row represents one Client and has multiple metrics as columns. Add a few filters or parameters to let user drill down into the set of clients they are interested in.\n",
    "6. **A Pareto Analysis** based on custom defined **customer segment**. \n",
    "    - Segment can include values from the demographic information of the client. For example,\n",
    "        - Gender | Income\n",
    "        - Gender | Income | Marital status\n",
    "        - etc.\n",
    "    - Choose the metric to analyse. For example,\n",
    "        - Total number of clients (People from which customer segments most often become our clients?)\n",
    "        - Churn rate absolute (How many churned customers we have in each segment?)\n",
    "        - Churn rate % (What is the relative churn rate in each customer segment?)\n",
    "        - etc.\n",
    "7. **At least 1 parameter** that allows dashboard user to interact with the dashboard. For example,\n",
    "    - to change the metric used in the chart(s)\n",
    "    - to change the value of a benchmark\n",
    "8. At least one **more visualization of your choice** adds value to your analysis."
   ]
  },
  {
   "cell_type": "markdown",
   "id": "c57e784f-3936-4f38-9169-d7d817db0e83",
   "metadata": {},
   "source": [
    "[Dollar Bank Customer Churn Dashboard](https://public.tableau.com/app/profile/nsikan.udoma/viz/DollarBankCustomerChurnDashboard/CustomerChurnDashboard)"
   ]
  },
  {
   "cell_type": "markdown",
   "id": "0aaff7bc-f988-49fe-8999-cab9947ddaaf",
   "metadata": {},
   "source": [
    "![Customer Churn Dashboard](Customer%20Churn%20Dashboard.png)\n"
   ]
  },
  {
   "cell_type": "markdown",
   "id": "c7be3f07-41b0-4be5-9d1a-8f90af29300c",
   "metadata": {},
   "source": [
    "# Python Deep Dive Analysis"
   ]
  },
  {
   "cell_type": "markdown",
   "id": "45c37b12-6ea2-42d2-9f15-199a66dcfc0b",
   "metadata": {},
   "source": [
    "_For_ deep dive analysis and EDA follow the guidelines on project [page](https://final-project.super.site/)"
   ]
  },
  {
   "cell_type": "code",
   "execution_count": 15,
   "id": "18acb0f3-de36-4082-bc29-88410cce1a12",
   "metadata": {
    "executionTime": 166,
    "lastSuccessfullyExecutedCode": "# Let's see how we can easily query the data\n# Start working here if you choose to use Python for this part of the project\n# Libraries\nimport numpy as np # linear algebra\nimport pandas as pd\nimport matplotlib.pyplot as plt\nimport seaborn as sns"
   },
   "outputs": [],
   "source": [
    "# Let's see how we can easily query the data\n",
    "# Importing libraries needed\n",
    "\n",
    "import numpy as np\n",
    "import pandas as pd\n",
    "import matplotlib.pyplot as plt\n",
    "import seaborn as sns"
   ]
  },
  {
   "cell_type": "code",
   "execution_count": 16,
   "id": "a99bf1a7-22e8-4d17-85fe-b49b32543a2f",
   "metadata": {
    "executionTime": 801,
    "lastSuccessfullyExecutedCode": "# Loading + let's see the head of each file we have\nbank_churners_df = pd.read_csv('bankchurners.csv')\nbasic_client_info_df = pd.read_csv('basic_client_info.csv')\nenriched_churn_df = pd.read_csv('enriched_churn_data.csv')\nbank_churners_df.head(3)"
   },
   "outputs": [
    {
     "data": {
      "application/com.datacamp.data-table.v1+json": {
       "table": {
        "data": [
         {
          "attrition_flag": "Existing Customer",
          "avg_open_to_buy": 676,
          "avg_utilization_ratio": 0.788,
          "card_category": "Blue",
          "clientnum": 806160108,
          "contacts_count_12_mon": 3,
          "credit_limit": 3193,
          "dependent_count": 1,
          "index": 0,
          "months_inactive_12_mon": 2,
          "months_on_book": 56
         },
         {
          "attrition_flag": "Existing Customer",
          "avg_open_to_buy": 9205,
          "avg_utilization_ratio": 0.099,
          "card_category": "Blue",
          "clientnum": 804424383,
          "contacts_count_12_mon": 2,
          "credit_limit": 10215,
          "dependent_count": 1,
          "index": 1,
          "months_inactive_12_mon": 3,
          "months_on_book": 56
         },
         {
          "attrition_flag": "Attrited Customer",
          "avg_open_to_buy": 7277,
          "avg_utilization_ratio": 0.077,
          "card_category": "Blue",
          "clientnum": 708300483,
          "contacts_count_12_mon": 3,
          "credit_limit": 7882,
          "dependent_count": 0,
          "index": 2,
          "months_inactive_12_mon": 4,
          "months_on_book": 56
         }
        ],
        "schema": {
         "fields": [
          {
           "name": "index",
           "type": "integer"
          },
          {
           "name": "clientnum",
           "type": "integer"
          },
          {
           "name": "attrition_flag",
           "type": "string"
          },
          {
           "name": "dependent_count",
           "type": "integer"
          },
          {
           "name": "card_category",
           "type": "string"
          },
          {
           "name": "months_on_book",
           "type": "integer"
          },
          {
           "name": "months_inactive_12_mon",
           "type": "integer"
          },
          {
           "name": "contacts_count_12_mon",
           "type": "integer"
          },
          {
           "name": "credit_limit",
           "type": "number"
          },
          {
           "name": "avg_open_to_buy",
           "type": "number"
          },
          {
           "name": "avg_utilization_ratio",
           "type": "number"
          }
         ],
         "pandas_version": "1.4.0",
         "primaryKey": [
          "index"
         ]
        }
       },
       "total_rows": 3,
       "truncation_type": null
      },
      "text/html": [
       "<div>\n",
       "<style scoped>\n",
       "    .dataframe tbody tr th:only-of-type {\n",
       "        vertical-align: middle;\n",
       "    }\n",
       "\n",
       "    .dataframe tbody tr th {\n",
       "        vertical-align: top;\n",
       "    }\n",
       "\n",
       "    .dataframe thead th {\n",
       "        text-align: right;\n",
       "    }\n",
       "</style>\n",
       "<table border=\"1\" class=\"dataframe\">\n",
       "  <thead>\n",
       "    <tr style=\"text-align: right;\">\n",
       "      <th></th>\n",
       "      <th>clientnum</th>\n",
       "      <th>attrition_flag</th>\n",
       "      <th>dependent_count</th>\n",
       "      <th>card_category</th>\n",
       "      <th>months_on_book</th>\n",
       "      <th>months_inactive_12_mon</th>\n",
       "      <th>contacts_count_12_mon</th>\n",
       "      <th>credit_limit</th>\n",
       "      <th>avg_open_to_buy</th>\n",
       "      <th>avg_utilization_ratio</th>\n",
       "    </tr>\n",
       "  </thead>\n",
       "  <tbody>\n",
       "    <tr>\n",
       "      <th>0</th>\n",
       "      <td>806160108</td>\n",
       "      <td>Existing Customer</td>\n",
       "      <td>1</td>\n",
       "      <td>Blue</td>\n",
       "      <td>56</td>\n",
       "      <td>2</td>\n",
       "      <td>3</td>\n",
       "      <td>3193.0</td>\n",
       "      <td>676.0</td>\n",
       "      <td>0.788</td>\n",
       "    </tr>\n",
       "    <tr>\n",
       "      <th>1</th>\n",
       "      <td>804424383</td>\n",
       "      <td>Existing Customer</td>\n",
       "      <td>1</td>\n",
       "      <td>Blue</td>\n",
       "      <td>56</td>\n",
       "      <td>3</td>\n",
       "      <td>2</td>\n",
       "      <td>10215.0</td>\n",
       "      <td>9205.0</td>\n",
       "      <td>0.099</td>\n",
       "    </tr>\n",
       "    <tr>\n",
       "      <th>2</th>\n",
       "      <td>708300483</td>\n",
       "      <td>Attrited Customer</td>\n",
       "      <td>0</td>\n",
       "      <td>Blue</td>\n",
       "      <td>56</td>\n",
       "      <td>4</td>\n",
       "      <td>3</td>\n",
       "      <td>7882.0</td>\n",
       "      <td>7277.0</td>\n",
       "      <td>0.077</td>\n",
       "    </tr>\n",
       "  </tbody>\n",
       "</table>\n",
       "</div>"
      ],
      "text/plain": [
       "   clientnum     attrition_flag  ...  avg_open_to_buy avg_utilization_ratio\n",
       "0  806160108  Existing Customer  ...            676.0                 0.788\n",
       "1  804424383  Existing Customer  ...           9205.0                 0.099\n",
       "2  708300483  Attrited Customer  ...           7277.0                 0.077\n",
       "\n",
       "[3 rows x 10 columns]"
      ]
     },
     "execution_count": 16,
     "metadata": {},
     "output_type": "execute_result"
    }
   ],
   "source": [
    "# Loading + let's see the head of each file we have\n",
    "bank_churners_df = pd.read_csv('bankchurners.csv')\n",
    "basic_client_info_df = pd.read_csv('basic_client_info.csv')\n",
    "enriched_churn_df = pd.read_csv('enriched_churn_data.csv')\n",
    "\n",
    "bank_churners_df.head(3)"
   ]
  },
  {
   "cell_type": "code",
   "execution_count": 17,
   "id": "c88fd744-6cf5-4b8a-af45-874c68aafa9a",
   "metadata": {
    "executionTime": 248,
    "lastSuccessfullyExecutedCode": "basic_client_info_df.head(3)"
   },
   "outputs": [
    {
     "data": {
      "application/com.datacamp.data-table.v1+json": {
       "table": {
        "data": [
         {
          "clientnum": 708082083,
          "customer_age": 45,
          "education_level": "High School",
          "gender": "F",
          "income_category": "Less than $40K",
          "index": 0,
          "marital_status": "Married"
         },
         {
          "clientnum": 708083283,
          "customer_age": 58,
          "education_level": "Unknown",
          "gender": "M",
          "income_category": "$40K - $60K",
          "index": 1,
          "marital_status": "Single"
         },
         {
          "clientnum": 708084558,
          "customer_age": 46,
          "education_level": "Doctorate",
          "gender": "M",
          "income_category": "$80K - $120K",
          "index": 2,
          "marital_status": "Divorced"
         }
        ],
        "schema": {
         "fields": [
          {
           "name": "index",
           "type": "integer"
          },
          {
           "name": "clientnum",
           "type": "integer"
          },
          {
           "name": "customer_age",
           "type": "integer"
          },
          {
           "name": "gender",
           "type": "string"
          },
          {
           "name": "education_level",
           "type": "string"
          },
          {
           "name": "marital_status",
           "type": "string"
          },
          {
           "name": "income_category",
           "type": "string"
          }
         ],
         "pandas_version": "1.4.0",
         "primaryKey": [
          "index"
         ]
        }
       },
       "total_rows": 3,
       "truncation_type": null
      },
      "text/html": [
       "<div>\n",
       "<style scoped>\n",
       "    .dataframe tbody tr th:only-of-type {\n",
       "        vertical-align: middle;\n",
       "    }\n",
       "\n",
       "    .dataframe tbody tr th {\n",
       "        vertical-align: top;\n",
       "    }\n",
       "\n",
       "    .dataframe thead th {\n",
       "        text-align: right;\n",
       "    }\n",
       "</style>\n",
       "<table border=\"1\" class=\"dataframe\">\n",
       "  <thead>\n",
       "    <tr style=\"text-align: right;\">\n",
       "      <th></th>\n",
       "      <th>clientnum</th>\n",
       "      <th>customer_age</th>\n",
       "      <th>gender</th>\n",
       "      <th>education_level</th>\n",
       "      <th>marital_status</th>\n",
       "      <th>income_category</th>\n",
       "    </tr>\n",
       "  </thead>\n",
       "  <tbody>\n",
       "    <tr>\n",
       "      <th>0</th>\n",
       "      <td>708082083</td>\n",
       "      <td>45</td>\n",
       "      <td>F</td>\n",
       "      <td>High School</td>\n",
       "      <td>Married</td>\n",
       "      <td>Less than $40K</td>\n",
       "    </tr>\n",
       "    <tr>\n",
       "      <th>1</th>\n",
       "      <td>708083283</td>\n",
       "      <td>58</td>\n",
       "      <td>M</td>\n",
       "      <td>Unknown</td>\n",
       "      <td>Single</td>\n",
       "      <td>$40K - $60K</td>\n",
       "    </tr>\n",
       "    <tr>\n",
       "      <th>2</th>\n",
       "      <td>708084558</td>\n",
       "      <td>46</td>\n",
       "      <td>M</td>\n",
       "      <td>Doctorate</td>\n",
       "      <td>Divorced</td>\n",
       "      <td>$80K - $120K</td>\n",
       "    </tr>\n",
       "  </tbody>\n",
       "</table>\n",
       "</div>"
      ],
      "text/plain": [
       "   clientnum  customer_age  ... marital_status income_category\n",
       "0  708082083            45  ...        Married  Less than $40K\n",
       "1  708083283            58  ...         Single     $40K - $60K\n",
       "2  708084558            46  ...       Divorced    $80K - $120K\n",
       "\n",
       "[3 rows x 6 columns]"
      ]
     },
     "execution_count": 17,
     "metadata": {},
     "output_type": "execute_result"
    }
   ],
   "source": [
    "basic_client_info_df.head(3)"
   ]
  },
  {
   "cell_type": "code",
   "execution_count": 18,
   "id": "bf6555e3-c9a0-4f88-9555-b9331fe8b383",
   "metadata": {
    "executionTime": 315,
    "lastSuccessfullyExecutedCode": "enriched_churn_df.head(3)"
   },
   "outputs": [
    {
     "data": {
      "application/com.datacamp.data-table.v1+json": {
       "table": {
        "data": [
         {
          "clientnum": 828343083,
          "index": 0,
          "total_amt_chng_q4_q1": 0.803,
          "total_ct_chng_q4_q1": 0.659,
          "total_relationship_count": 3,
          "total_revolving_bal": 1793,
          "total_trans_amt": 3646,
          "total_trans_ct": 68
         },
         {
          "clientnum": 828298908,
          "index": 1,
          "total_amt_chng_q4_q1": 0.613,
          "total_ct_chng_q4_q1": 0.741,
          "total_relationship_count": 4,
          "total_revolving_bal": 2035,
          "total_trans_amt": 1770,
          "total_trans_ct": 47
         },
         {
          "clientnum": 828294933,
          "index": 2,
          "total_amt_chng_q4_q1": 0.765,
          "total_ct_chng_q4_q1": 0.565,
          "total_relationship_count": 3,
          "total_revolving_bal": 2437,
          "total_trans_amt": 2519,
          "total_trans_ct": 36
         }
        ],
        "schema": {
         "fields": [
          {
           "name": "index",
           "type": "integer"
          },
          {
           "name": "clientnum",
           "type": "integer"
          },
          {
           "name": "total_relationship_count",
           "type": "integer"
          },
          {
           "name": "total_revolving_bal",
           "type": "integer"
          },
          {
           "name": "total_amt_chng_q4_q1",
           "type": "number"
          },
          {
           "name": "total_trans_amt",
           "type": "integer"
          },
          {
           "name": "total_ct_chng_q4_q1",
           "type": "number"
          },
          {
           "name": "total_trans_ct",
           "type": "integer"
          }
         ],
         "pandas_version": "1.4.0",
         "primaryKey": [
          "index"
         ]
        }
       },
       "total_rows": 3,
       "truncation_type": null
      },
      "text/html": [
       "<div>\n",
       "<style scoped>\n",
       "    .dataframe tbody tr th:only-of-type {\n",
       "        vertical-align: middle;\n",
       "    }\n",
       "\n",
       "    .dataframe tbody tr th {\n",
       "        vertical-align: top;\n",
       "    }\n",
       "\n",
       "    .dataframe thead th {\n",
       "        text-align: right;\n",
       "    }\n",
       "</style>\n",
       "<table border=\"1\" class=\"dataframe\">\n",
       "  <thead>\n",
       "    <tr style=\"text-align: right;\">\n",
       "      <th></th>\n",
       "      <th>clientnum</th>\n",
       "      <th>total_relationship_count</th>\n",
       "      <th>total_revolving_bal</th>\n",
       "      <th>total_amt_chng_q4_q1</th>\n",
       "      <th>total_trans_amt</th>\n",
       "      <th>total_ct_chng_q4_q1</th>\n",
       "      <th>total_trans_ct</th>\n",
       "    </tr>\n",
       "  </thead>\n",
       "  <tbody>\n",
       "    <tr>\n",
       "      <th>0</th>\n",
       "      <td>828343083</td>\n",
       "      <td>3</td>\n",
       "      <td>1793</td>\n",
       "      <td>0.803</td>\n",
       "      <td>3646</td>\n",
       "      <td>0.659</td>\n",
       "      <td>68</td>\n",
       "    </tr>\n",
       "    <tr>\n",
       "      <th>1</th>\n",
       "      <td>828298908</td>\n",
       "      <td>4</td>\n",
       "      <td>2035</td>\n",
       "      <td>0.613</td>\n",
       "      <td>1770</td>\n",
       "      <td>0.741</td>\n",
       "      <td>47</td>\n",
       "    </tr>\n",
       "    <tr>\n",
       "      <th>2</th>\n",
       "      <td>828294933</td>\n",
       "      <td>3</td>\n",
       "      <td>2437</td>\n",
       "      <td>0.765</td>\n",
       "      <td>2519</td>\n",
       "      <td>0.565</td>\n",
       "      <td>36</td>\n",
       "    </tr>\n",
       "  </tbody>\n",
       "</table>\n",
       "</div>"
      ],
      "text/plain": [
       "   clientnum  total_relationship_count  ...  total_ct_chng_q4_q1  total_trans_ct\n",
       "0  828343083                         3  ...                0.659              68\n",
       "1  828298908                         4  ...                0.741              47\n",
       "2  828294933                         3  ...                0.565              36\n",
       "\n",
       "[3 rows x 7 columns]"
      ]
     },
     "execution_count": 18,
     "metadata": {},
     "output_type": "execute_result"
    }
   ],
   "source": [
    "enriched_churn_df.head(3)"
   ]
  },
  {
   "cell_type": "markdown",
   "id": "01cb95a3-d03d-4ea2-96d3-cd8594dc7932",
   "metadata": {},
   "source": [
    "# Summary Statistics Short Analysis\n",
    "\n",
    "Here I want to understand the characteristics of the dataset inclusing baisc statistics, count of unique values in each column, whether or not there are missing values and the any outliers in numerical columns.\n",
    "\n",
    "The quick analysis will be done on all 3 datasets in the following order:\n",
    "- First, the **bank_churners** dataset\n",
    "- Next, the **basic_client_info** dataset\n",
    "- And finally, the **enriched_churn_df** dataset\n"
   ]
  },
  {
   "cell_type": "markdown",
   "id": "298a8088-24dc-4571-80c7-db602e1cc20d",
   "metadata": {},
   "source": [
    "## Summary Statistics of the bank churners dataset"
   ]
  },
  {
   "cell_type": "code",
   "execution_count": 19,
   "id": "a563855e-593b-4cc0-97f0-e58cb3aacaca",
   "metadata": {
    "executionTime": 283,
    "lastSuccessfullyExecutedCode": "# Checking to see basic statistics of the numerical columns in the bank churners dataset\nbank_churners_df.describe()"
   },
   "outputs": [
    {
     "data": {
      "application/com.datacamp.data-table.v1+json": {
       "table": {
        "data": [
         {
          "avg_open_to_buy": 10127,
          "avg_utilization_ratio": 10127,
          "clientnum": 10127,
          "contacts_count_12_mon": 10127,
          "credit_limit": 10127,
          "dependent_count": 10127,
          "index": "count",
          "months_inactive_12_mon": 10127,
          "months_on_book": 10127
         },
         {
          "avg_open_to_buy": 7469.139636615,
          "avg_utilization_ratio": 0.2748935519,
          "clientnum": 739177606.3336625,
          "contacts_count_12_mon": 2.4553174682,
          "credit_limit": 8631.953698035,
          "dependent_count": 2.3462032191,
          "index": "mean",
          "months_inactive_12_mon": 2.3411671769,
          "months_on_book": 35.9284092031
         },
         {
          "avg_open_to_buy": 9090.6853236791,
          "avg_utilization_ratio": 0.2756914693,
          "clientnum": 36903783.45023115,
          "contacts_count_12_mon": 1.1062251426,
          "credit_limit": 9088.7766502232,
          "dependent_count": 1.2989083489,
          "index": "std",
          "months_inactive_12_mon": 1.0106223994,
          "months_on_book": 7.9864163309
         },
         {
          "avg_open_to_buy": 3,
          "avg_utilization_ratio": 0,
          "clientnum": 708082083,
          "contacts_count_12_mon": 0,
          "credit_limit": 1438.3,
          "dependent_count": 0,
          "index": "min",
          "months_inactive_12_mon": 0,
          "months_on_book": 13
         },
         {
          "avg_open_to_buy": 1324.5,
          "avg_utilization_ratio": 0.023,
          "clientnum": 713036770.5,
          "contacts_count_12_mon": 2,
          "credit_limit": 2555,
          "dependent_count": 1,
          "index": "25%",
          "months_inactive_12_mon": 2,
          "months_on_book": 31
         },
         {
          "avg_open_to_buy": 3474,
          "avg_utilization_ratio": 0.176,
          "clientnum": 717926358,
          "contacts_count_12_mon": 2,
          "credit_limit": 4549,
          "dependent_count": 2,
          "index": "50%",
          "months_inactive_12_mon": 2,
          "months_on_book": 36
         },
         {
          "avg_open_to_buy": 9859,
          "avg_utilization_ratio": 0.503,
          "clientnum": 773143533,
          "contacts_count_12_mon": 3,
          "credit_limit": 11067.5,
          "dependent_count": 3,
          "index": "75%",
          "months_inactive_12_mon": 3,
          "months_on_book": 40
         },
         {
          "avg_open_to_buy": 34516,
          "avg_utilization_ratio": 0.999,
          "clientnum": 828343083,
          "contacts_count_12_mon": 6,
          "credit_limit": 34516,
          "dependent_count": 5,
          "index": "max",
          "months_inactive_12_mon": 6,
          "months_on_book": 56
         }
        ],
        "schema": {
         "fields": [
          {
           "name": "index",
           "type": "string"
          },
          {
           "name": "clientnum",
           "type": "number"
          },
          {
           "name": "dependent_count",
           "type": "number"
          },
          {
           "name": "months_on_book",
           "type": "number"
          },
          {
           "name": "months_inactive_12_mon",
           "type": "number"
          },
          {
           "name": "contacts_count_12_mon",
           "type": "number"
          },
          {
           "name": "credit_limit",
           "type": "number"
          },
          {
           "name": "avg_open_to_buy",
           "type": "number"
          },
          {
           "name": "avg_utilization_ratio",
           "type": "number"
          }
         ],
         "pandas_version": "1.4.0",
         "primaryKey": [
          "index"
         ]
        }
       },
       "total_rows": 8,
       "truncation_type": null
      },
      "text/html": [
       "<div>\n",
       "<style scoped>\n",
       "    .dataframe tbody tr th:only-of-type {\n",
       "        vertical-align: middle;\n",
       "    }\n",
       "\n",
       "    .dataframe tbody tr th {\n",
       "        vertical-align: top;\n",
       "    }\n",
       "\n",
       "    .dataframe thead th {\n",
       "        text-align: right;\n",
       "    }\n",
       "</style>\n",
       "<table border=\"1\" class=\"dataframe\">\n",
       "  <thead>\n",
       "    <tr style=\"text-align: right;\">\n",
       "      <th></th>\n",
       "      <th>clientnum</th>\n",
       "      <th>dependent_count</th>\n",
       "      <th>months_on_book</th>\n",
       "      <th>months_inactive_12_mon</th>\n",
       "      <th>contacts_count_12_mon</th>\n",
       "      <th>credit_limit</th>\n",
       "      <th>avg_open_to_buy</th>\n",
       "      <th>avg_utilization_ratio</th>\n",
       "    </tr>\n",
       "  </thead>\n",
       "  <tbody>\n",
       "    <tr>\n",
       "      <th>count</th>\n",
       "      <td>1.012700e+04</td>\n",
       "      <td>10127.000000</td>\n",
       "      <td>10127.000000</td>\n",
       "      <td>10127.000000</td>\n",
       "      <td>10127.000000</td>\n",
       "      <td>10127.000000</td>\n",
       "      <td>10127.000000</td>\n",
       "      <td>10127.000000</td>\n",
       "    </tr>\n",
       "    <tr>\n",
       "      <th>mean</th>\n",
       "      <td>7.391776e+08</td>\n",
       "      <td>2.346203</td>\n",
       "      <td>35.928409</td>\n",
       "      <td>2.341167</td>\n",
       "      <td>2.455317</td>\n",
       "      <td>8631.953698</td>\n",
       "      <td>7469.139637</td>\n",
       "      <td>0.274894</td>\n",
       "    </tr>\n",
       "    <tr>\n",
       "      <th>std</th>\n",
       "      <td>3.690378e+07</td>\n",
       "      <td>1.298908</td>\n",
       "      <td>7.986416</td>\n",
       "      <td>1.010622</td>\n",
       "      <td>1.106225</td>\n",
       "      <td>9088.776650</td>\n",
       "      <td>9090.685324</td>\n",
       "      <td>0.275691</td>\n",
       "    </tr>\n",
       "    <tr>\n",
       "      <th>min</th>\n",
       "      <td>7.080821e+08</td>\n",
       "      <td>0.000000</td>\n",
       "      <td>13.000000</td>\n",
       "      <td>0.000000</td>\n",
       "      <td>0.000000</td>\n",
       "      <td>1438.300000</td>\n",
       "      <td>3.000000</td>\n",
       "      <td>0.000000</td>\n",
       "    </tr>\n",
       "    <tr>\n",
       "      <th>25%</th>\n",
       "      <td>7.130368e+08</td>\n",
       "      <td>1.000000</td>\n",
       "      <td>31.000000</td>\n",
       "      <td>2.000000</td>\n",
       "      <td>2.000000</td>\n",
       "      <td>2555.000000</td>\n",
       "      <td>1324.500000</td>\n",
       "      <td>0.023000</td>\n",
       "    </tr>\n",
       "    <tr>\n",
       "      <th>50%</th>\n",
       "      <td>7.179264e+08</td>\n",
       "      <td>2.000000</td>\n",
       "      <td>36.000000</td>\n",
       "      <td>2.000000</td>\n",
       "      <td>2.000000</td>\n",
       "      <td>4549.000000</td>\n",
       "      <td>3474.000000</td>\n",
       "      <td>0.176000</td>\n",
       "    </tr>\n",
       "    <tr>\n",
       "      <th>75%</th>\n",
       "      <td>7.731435e+08</td>\n",
       "      <td>3.000000</td>\n",
       "      <td>40.000000</td>\n",
       "      <td>3.000000</td>\n",
       "      <td>3.000000</td>\n",
       "      <td>11067.500000</td>\n",
       "      <td>9859.000000</td>\n",
       "      <td>0.503000</td>\n",
       "    </tr>\n",
       "    <tr>\n",
       "      <th>max</th>\n",
       "      <td>8.283431e+08</td>\n",
       "      <td>5.000000</td>\n",
       "      <td>56.000000</td>\n",
       "      <td>6.000000</td>\n",
       "      <td>6.000000</td>\n",
       "      <td>34516.000000</td>\n",
       "      <td>34516.000000</td>\n",
       "      <td>0.999000</td>\n",
       "    </tr>\n",
       "  </tbody>\n",
       "</table>\n",
       "</div>"
      ],
      "text/plain": [
       "          clientnum  dependent_count  ...  avg_open_to_buy  avg_utilization_ratio\n",
       "count  1.012700e+04     10127.000000  ...     10127.000000           10127.000000\n",
       "mean   7.391776e+08         2.346203  ...      7469.139637               0.274894\n",
       "std    3.690378e+07         1.298908  ...      9090.685324               0.275691\n",
       "min    7.080821e+08         0.000000  ...         3.000000               0.000000\n",
       "25%    7.130368e+08         1.000000  ...      1324.500000               0.023000\n",
       "50%    7.179264e+08         2.000000  ...      3474.000000               0.176000\n",
       "75%    7.731435e+08         3.000000  ...      9859.000000               0.503000\n",
       "max    8.283431e+08         5.000000  ...     34516.000000               0.999000\n",
       "\n",
       "[8 rows x 8 columns]"
      ]
     },
     "execution_count": 19,
     "metadata": {},
     "output_type": "execute_result"
    }
   ],
   "source": [
    "# Checking to see basic statistics of the numerical columns in the bank churners dataset\n",
    "bank_churners_df.describe()"
   ]
  },
  {
   "cell_type": "code",
   "execution_count": 20,
   "id": "fe809b2b-5cfe-4fc5-b2f0-295a427d184f",
   "metadata": {
    "executionTime": 319,
    "lastSuccessfullyExecutedCode": "# Using the general rule for identifying potential outliers which is that if any data point in a dataset is more than Q3 + 1.5xIQR or less than Q1 - 1.5xIQR, it's a high outlier, I would create a custom dictionary to capture potential outliers in each column.\n\n# Using a for loop again so I dont have to repeat this step for each column in the dataset\nfor column_name in bank_churners_df.columns:\n    if bank_churners_df[column_name].dtype == 'object':\n        print(f\"The '{column_name}' column is not a numerical column\")\n    else:\n        data = bank_churners_df[column_name]\n        q1 = data.quantile(0.25)\n        q3 = data.quantile(0.75)\n        iqr = q3 - q1\n        iqr_lower = q1 - 1.5 * iqr\n        iqr_upper = q3 + 1.5 * iqr\n        outliers = dict(data[(data < iqr_lower) | (data > iqr_upper)])\n\n        list_of_outliers = list(outliers.values())\n        rows_with_outliers = list(outliers.keys())\n\n        if len(list_of_outliers) == 0:\n            print(f\"There are no outliers in the '{column_name}' column\")\n        else:\n            if len(list_of_outliers) > 10:\n                print(f\"Detected too many potential outliers in the '{column_name}' column to show. Based on the high number of potential outliers detected, use the column definition and check the summary statistics (min & max values) above to find out if there are truly outliers in these columns.\")\n            else:\n                print(f\"The potential ouliers in the '{column_name}' column are:\\n{list_of_outliers} \\nAnd the respective rows with the potential outlier are:\\n{rows_with_outliers}\")"
   },
   "outputs": [
    {
     "name": "stdout",
     "output_type": "stream",
     "text": [
      "There are no outliers in the 'clientnum' column\n",
      "The 'attrition_flag' column is not a numerical column\n",
      "There are no outliers in the 'dependent_count' column\n",
      "The 'card_category' column is not a numerical column\n",
      "Detected too many potential outliers in the 'months_on_book' column to show. Based on the high number of potential outliers detected, use the column definition and check the summary statistics (min & max values) above to find out if there are truly outliers in these columns.\n",
      "Detected too many potential outliers in the 'months_inactive_12_mon' column to show. Based on the high number of potential outliers detected, use the column definition and check the summary statistics (min & max values) above to find out if there are truly outliers in these columns.\n",
      "Detected too many potential outliers in the 'contacts_count_12_mon' column to show. Based on the high number of potential outliers detected, use the column definition and check the summary statistics (min & max values) above to find out if there are truly outliers in these columns.\n",
      "Detected too many potential outliers in the 'credit_limit' column to show. Based on the high number of potential outliers detected, use the column definition and check the summary statistics (min & max values) above to find out if there are truly outliers in these columns.\n",
      "Detected too many potential outliers in the 'avg_open_to_buy' column to show. Based on the high number of potential outliers detected, use the column definition and check the summary statistics (min & max values) above to find out if there are truly outliers in these columns.\n",
      "There are no outliers in the 'avg_utilization_ratio' column\n"
     ]
    }
   ],
   "source": [
    "# Using the general rule for identifying potential outliers which is that if any data point in a dataset \n",
    "# is more than Q3 + 1.5xIQR or less than Q1 - 1.5xIQR, it's a high outlier, \n",
    "# I would create a custom dictionary to capture potential outliers in each column.\n",
    "\n",
    "# Using a for loop so I dont have to repeat this step for each column in the dataset\n",
    "for column_name in bank_churners_df.columns:\n",
    "    if bank_churners_df[column_name].dtype == 'object':\n",
    "        print(f\"The '{column_name}' column is not a numerical column\")\n",
    "    else:\n",
    "        data = bank_churners_df[column_name]\n",
    "        q1 = data.quantile(0.25)\n",
    "        q3 = data.quantile(0.75)\n",
    "        iqr = q3 - q1\n",
    "        iqr_lower = q1 - 1.5 * iqr\n",
    "        iqr_upper = q3 + 1.5 * iqr\n",
    "        outliers = dict(data[(data < iqr_lower) | (data > iqr_upper)])\n",
    "\n",
    "        list_of_outliers = list(outliers.values())\n",
    "        rows_with_outliers = list(outliers.keys())\n",
    "\n",
    "        if len(list_of_outliers) == 0:\n",
    "            print(f\"There are no outliers in the '{column_name}' column\")\n",
    "        else:\n",
    "            if len(list_of_outliers) > 10:\n",
    "                print(f\"Detected too many potential outliers in the '{column_name}' column to show. Based on the high number of potential outliers detected, use the column definition and check the summary statistics (min & max values) above to find out if there are truly outliers in these columns.\")\n",
    "            else:\n",
    "                print(f\"The potential ouliers in the '{column_name}' column are:\\n{list_of_outliers} \\nAnd the respective rows with the potential outlier are:\\n{rows_with_outliers}\")"
   ]
  },
  {
   "cell_type": "markdown",
   "id": "c071d41d-2355-4256-a76d-128c6c514a99",
   "metadata": {},
   "source": [
    "Based on the general rule for identifying potential outliers which is that if any data point in a dataset is more than Q3 + (1.5 x IQR) or less than Q1 - (1.5 x IQR), it's a high outlier, I want to get the lower and upper interquartile ranges for each column and use that to review the summary statistics to know if the min & max values of each column in the dataset can be considered as outliers based on the definition of the column/variable."
   ]
  },
  {
   "cell_type": "code",
   "execution_count": 21,
   "id": "be2f674a-80cd-41e9-84b1-53e4ced18bc9",
   "metadata": {
    "executionTime": 164,
    "lastSuccessfullyExecutedCode": "# Printing the Lower and upper interquartile ranges for all the columns in the dataset.\nfor column_name in bank_churners_df.columns:\n    if bank_churners_df[column_name].dtype == 'object':\n        print(f\"\\nThe '{column_name}' column is not a numerical column\")\n    else:\n        df = bank_churners_df[column_name]\n        q1 = df.quantile(0.25)\n        q3 = df.quantile(0.75)\n        iqr = q3 - q1\n        iqr_lower = q1 - 1.5 * iqr\n        iqr_upper = q3 + 1.5 * iqr\n\n        print(f\"\\nFor '{column_name}' column, the Lower Limit is {iqr_lower} and Upper Limit is {iqr_upper}.\")"
   },
   "outputs": [
    {
     "name": "stdout",
     "output_type": "stream",
     "text": [
      "\n",
      "For 'clientnum' column, the Lower Limit is 622876626.75 and Upper Limit is 863303676.75.\n",
      "\n",
      "The 'attrition_flag' column is not a numerical column\n",
      "\n",
      "For 'dependent_count' column, the Lower Limit is -2.0 and Upper Limit is 6.0.\n",
      "\n",
      "The 'card_category' column is not a numerical column\n",
      "\n",
      "For 'months_on_book' column, the Lower Limit is 17.5 and Upper Limit is 53.5.\n",
      "\n",
      "For 'months_inactive_12_mon' column, the Lower Limit is 0.5 and Upper Limit is 4.5.\n",
      "\n",
      "For 'contacts_count_12_mon' column, the Lower Limit is 0.5 and Upper Limit is 4.5.\n",
      "\n",
      "For 'credit_limit' column, the Lower Limit is -10213.75 and Upper Limit is 23836.25.\n",
      "\n",
      "For 'avg_open_to_buy' column, the Lower Limit is -11477.25 and Upper Limit is 22660.75.\n",
      "\n",
      "For 'avg_utilization_ratio' column, the Lower Limit is -0.697 and Upper Limit is 1.2229999999999999.\n"
     ]
    }
   ],
   "source": [
    "# Printing the Lower and upper interquartile ranges for all the columns in the dataset.\n",
    "for column_name in bank_churners_df.columns:\n",
    "    if bank_churners_df[column_name].dtype == 'object':\n",
    "        print(f\"\\nThe '{column_name}' column is not a numerical column\")\n",
    "    else:\n",
    "        df = bank_churners_df[column_name]\n",
    "        q1 = df.quantile(0.25)\n",
    "        q3 = df.quantile(0.75)\n",
    "        iqr = q3 - q1\n",
    "        iqr_lower = q1 - 1.5 * iqr\n",
    "        iqr_upper = q3 + 1.5 * iqr\n",
    "\n",
    "        print(f\"\\nFor '{column_name}' column, the Lower Limit is {iqr_lower} and Upper Limit is {iqr_upper}.\")"
   ]
  },
  {
   "cell_type": "markdown",
   "id": "9d38eb16-6a4e-435e-a878-98a52f39e5bf",
   "metadata": {},
   "source": [
    "After reading the column/variable definition and comparing the lower and upper Limits for each column to the min & max values, it is safe to assume that the potential outliers that were detected, are actually not outliers"
   ]
  },
  {
   "cell_type": "code",
   "execution_count": 22,
   "id": "8f25868f-6da3-4d85-8cfa-7b8b797304f8",
   "metadata": {
    "executionTime": 164,
    "lastSuccessfullyExecutedCode": "# Checking to know the datatypes of each column and if there are any missing values\nbank_churners_df.info()"
   },
   "outputs": [
    {
     "name": "stdout",
     "output_type": "stream",
     "text": [
      "<class 'pandas.core.frame.DataFrame'>\n",
      "RangeIndex: 10127 entries, 0 to 10126\n",
      "Data columns (total 10 columns):\n",
      " #   Column                  Non-Null Count  Dtype  \n",
      "---  ------                  --------------  -----  \n",
      " 0   clientnum               10127 non-null  int64  \n",
      " 1   attrition_flag          10127 non-null  object \n",
      " 2   dependent_count         10127 non-null  int64  \n",
      " 3   card_category           10127 non-null  object \n",
      " 4   months_on_book          10127 non-null  int64  \n",
      " 5   months_inactive_12_mon  10127 non-null  int64  \n",
      " 6   contacts_count_12_mon   10127 non-null  int64  \n",
      " 7   credit_limit            10127 non-null  float64\n",
      " 8   avg_open_to_buy         10127 non-null  float64\n",
      " 9   avg_utilization_ratio   10127 non-null  float64\n",
      "dtypes: float64(3), int64(5), object(2)\n",
      "memory usage: 791.3+ KB\n"
     ]
    }
   ],
   "source": [
    "# Checking to know the datatypes of each column and if there are any missing values\n",
    "bank_churners_df.info()"
   ]
  },
  {
   "cell_type": "markdown",
   "id": "93b9df3b-a5db-4b38-ab12-59717a394bc9",
   "metadata": {},
   "source": [
    "There are 10 columns and 10127 rows in the dataset with no mising values in each of the columns. The datatypes for each of the columns are now known, as shown above"
   ]
  },
  {
   "cell_type": "code",
   "execution_count": 23,
   "id": "e8730210-8508-43f4-b43d-616683c57511",
   "metadata": {
    "executionTime": 203,
    "lastSuccessfullyExecutedCode": "# Checking to see if there are any duplicates in the dataset. This is the count of unique entries (i.e rows) in the dataset.\nbank_churners_df[bank_churners_df.duplicated()].count()"
   },
   "outputs": [
    {
     "data": {
      "text/plain": [
       "clientnum                 0\n",
       "attrition_flag            0\n",
       "dependent_count           0\n",
       "card_category             0\n",
       "months_on_book            0\n",
       "months_inactive_12_mon    0\n",
       "contacts_count_12_mon     0\n",
       "credit_limit              0\n",
       "avg_open_to_buy           0\n",
       "avg_utilization_ratio     0\n",
       "dtype: int64"
      ]
     },
     "execution_count": 23,
     "metadata": {},
     "output_type": "execute_result"
    }
   ],
   "source": [
    "# Checking to see if there are any duplicates in the dataset. This is the count of unique entries (i.e rows) in the dataset.\n",
    "bank_churners_df[bank_churners_df.duplicated()].count()"
   ]
  },
  {
   "cell_type": "markdown",
   "id": "7055bac9-04b0-477a-b7de-50faf25d730c",
   "metadata": {},
   "source": [
    "From above, no duplicated rows were found in the dataframe. So I assume that all rows are unique.\n",
    "\n",
    "Next I want to check for unique values in each column of the dataframe"
   ]
  },
  {
   "cell_type": "code",
   "execution_count": 24,
   "id": "4b1b816b-44f6-432b-a065-a15e15ea3649",
   "metadata": {
    "executionTime": 354,
    "lastSuccessfullyExecutedCode": "# I'm using a for loop for this step so that I don't have to repeat the process for each column in the dataframes starting with the bank_churners_df dataframe\n\nfor column_name in bank_churners_df.columns:\n    unique_vals = bank_churners_df[column_name].value_counts().sort_values(ascending=False).index\n    unique_count = len(unique_vals)\n\n    if unique_count < 10:\n        list_of_vals = sorted(unique_vals.tolist())\n    else:\n        list_of_vals = \"There are too many unique values to print.\"\n\n    print(f\"There are {unique_count} unique values in the '{column_name}' column, and the unique values are: {list_of_vals}\\n\")"
   },
   "outputs": [
    {
     "name": "stdout",
     "output_type": "stream",
     "text": [
      "There are 10127 unique values in the 'clientnum' column, and the unique values are: There are too many unique values to print.\n",
      "\n",
      "There are 2 unique values in the 'attrition_flag' column, and the unique values are: ['Attrited Customer', 'Existing Customer']\n",
      "\n",
      "There are 6 unique values in the 'dependent_count' column, and the unique values are: [0, 1, 2, 3, 4, 5]\n",
      "\n",
      "There are 4 unique values in the 'card_category' column, and the unique values are: ['Blue', 'Gold', 'Platinum', 'Silver']\n",
      "\n",
      "There are 44 unique values in the 'months_on_book' column, and the unique values are: There are too many unique values to print.\n",
      "\n",
      "There are 7 unique values in the 'months_inactive_12_mon' column, and the unique values are: [0, 1, 2, 3, 4, 5, 6]\n",
      "\n",
      "There are 7 unique values in the 'contacts_count_12_mon' column, and the unique values are: [0, 1, 2, 3, 4, 5, 6]\n",
      "\n",
      "There are 6205 unique values in the 'credit_limit' column, and the unique values are: There are too many unique values to print.\n",
      "\n",
      "There are 6813 unique values in the 'avg_open_to_buy' column, and the unique values are: There are too many unique values to print.\n",
      "\n",
      "There are 964 unique values in the 'avg_utilization_ratio' column, and the unique values are: There are too many unique values to print.\n",
      "\n"
     ]
    }
   ],
   "source": [
    "# Using a for loop for this step so that I don't have to repeat the process for each column in the dataframes starting with the bank_churners_df dataframe\n",
    "\n",
    "for column_name in bank_churners_df.columns:\n",
    "    unique_vals = bank_churners_df[column_name].value_counts().sort_values(ascending=False).index\n",
    "    unique_count = len(unique_vals)\n",
    "\n",
    "    if unique_count < 10:\n",
    "        list_of_vals = sorted(unique_vals.tolist())\n",
    "    else:\n",
    "        list_of_vals = \"There are too many unique values to print.\"\n",
    "\n",
    "    print(f\"There are {unique_count} unique values in the '{column_name}' column, and the unique values are: {list_of_vals}\\n\")"
   ]
  },
  {
   "cell_type": "markdown",
   "id": "91552996-ff4d-455d-9d67-b1cef4c5c825",
   "metadata": {},
   "source": [
    "**Explanation:**\n",
    "Looks like the bank_churners table has some interesting data with lots of unique values to explore. Only the 'clientnum' column has a unique value for all 10127 rows in the dataset, and this is because this variable contains all client id/number which are expected to be unique to each client."
   ]
  },
  {
   "cell_type": "markdown",
   "id": "f73259ee-84b0-464d-8f6f-9ddf2ca0de98",
   "metadata": {},
   "source": [
    "## Summary Statistics of the basic client info dataset"
   ]
  },
  {
   "cell_type": "code",
   "execution_count": 25,
   "id": "7c4c15cb-e613-4594-bfef-2819b5e1b879",
   "metadata": {
    "executionTime": 215,
    "lastSuccessfullyExecutedCode": "# Checking to see basic statistics of the numerical columns in the basic client info dataset\nbasic_client_info_df.describe()"
   },
   "outputs": [
    {
     "data": {
      "application/com.datacamp.data-table.v1+json": {
       "table": {
        "data": [
         {
          "clientnum": 10127,
          "customer_age": 10127,
          "index": "count"
         },
         {
          "clientnum": 739177606.3336625,
          "customer_age": 46.3259603041,
          "index": "mean"
         },
         {
          "clientnum": 36903783.45023115,
          "customer_age": 8.0168140325,
          "index": "std"
         },
         {
          "clientnum": 708082083,
          "customer_age": 26,
          "index": "min"
         },
         {
          "clientnum": 713036770.5,
          "customer_age": 41,
          "index": "25%"
         },
         {
          "clientnum": 717926358,
          "customer_age": 46,
          "index": "50%"
         },
         {
          "clientnum": 773143533,
          "customer_age": 52,
          "index": "75%"
         },
         {
          "clientnum": 828343083,
          "customer_age": 73,
          "index": "max"
         }
        ],
        "schema": {
         "fields": [
          {
           "name": "index",
           "type": "string"
          },
          {
           "name": "clientnum",
           "type": "number"
          },
          {
           "name": "customer_age",
           "type": "number"
          }
         ],
         "pandas_version": "1.4.0",
         "primaryKey": [
          "index"
         ]
        }
       },
       "total_rows": 8,
       "truncation_type": null
      },
      "text/html": [
       "<div>\n",
       "<style scoped>\n",
       "    .dataframe tbody tr th:only-of-type {\n",
       "        vertical-align: middle;\n",
       "    }\n",
       "\n",
       "    .dataframe tbody tr th {\n",
       "        vertical-align: top;\n",
       "    }\n",
       "\n",
       "    .dataframe thead th {\n",
       "        text-align: right;\n",
       "    }\n",
       "</style>\n",
       "<table border=\"1\" class=\"dataframe\">\n",
       "  <thead>\n",
       "    <tr style=\"text-align: right;\">\n",
       "      <th></th>\n",
       "      <th>clientnum</th>\n",
       "      <th>customer_age</th>\n",
       "    </tr>\n",
       "  </thead>\n",
       "  <tbody>\n",
       "    <tr>\n",
       "      <th>count</th>\n",
       "      <td>1.012700e+04</td>\n",
       "      <td>10127.000000</td>\n",
       "    </tr>\n",
       "    <tr>\n",
       "      <th>mean</th>\n",
       "      <td>7.391776e+08</td>\n",
       "      <td>46.325960</td>\n",
       "    </tr>\n",
       "    <tr>\n",
       "      <th>std</th>\n",
       "      <td>3.690378e+07</td>\n",
       "      <td>8.016814</td>\n",
       "    </tr>\n",
       "    <tr>\n",
       "      <th>min</th>\n",
       "      <td>7.080821e+08</td>\n",
       "      <td>26.000000</td>\n",
       "    </tr>\n",
       "    <tr>\n",
       "      <th>25%</th>\n",
       "      <td>7.130368e+08</td>\n",
       "      <td>41.000000</td>\n",
       "    </tr>\n",
       "    <tr>\n",
       "      <th>50%</th>\n",
       "      <td>7.179264e+08</td>\n",
       "      <td>46.000000</td>\n",
       "    </tr>\n",
       "    <tr>\n",
       "      <th>75%</th>\n",
       "      <td>7.731435e+08</td>\n",
       "      <td>52.000000</td>\n",
       "    </tr>\n",
       "    <tr>\n",
       "      <th>max</th>\n",
       "      <td>8.283431e+08</td>\n",
       "      <td>73.000000</td>\n",
       "    </tr>\n",
       "  </tbody>\n",
       "</table>\n",
       "</div>"
      ],
      "text/plain": [
       "          clientnum  customer_age\n",
       "count  1.012700e+04  10127.000000\n",
       "mean   7.391776e+08     46.325960\n",
       "std    3.690378e+07      8.016814\n",
       "min    7.080821e+08     26.000000\n",
       "25%    7.130368e+08     41.000000\n",
       "50%    7.179264e+08     46.000000\n",
       "75%    7.731435e+08     52.000000\n",
       "max    8.283431e+08     73.000000"
      ]
     },
     "execution_count": 25,
     "metadata": {},
     "output_type": "execute_result"
    }
   ],
   "source": [
    "# Checking to see basic statistics of the numerical columns in the basic client info dataset\n",
    "basic_client_info_df.describe()"
   ]
  },
  {
   "cell_type": "code",
   "execution_count": 26,
   "id": "df239c48-069a-41de-9695-a42d1d836a15",
   "metadata": {
    "executionTime": 181,
    "lastSuccessfullyExecutedCode": "# Checking for outliers \n\nfor column_name in basic_client_info_df.columns:\n    if basic_client_info_df[column_name].dtype == 'object':\n        print(f\"The '{column_name}' column is not a numerical column\")\n    else:\n        data = basic_client_info_df[column_name]\n        q1 = data.quantile(0.25)\n        q3 = data.quantile(0.75)\n        iqr = q3 - q1\n        iqr_lower = q1 - 1.5 * iqr\n        iqr_upper = q3 + 1.5 * iqr\n        outliers = dict(data[(data < iqr_lower) | (data > iqr_upper)])\n\n        list_of_outliers = list(outliers.values())\n        rows_with_outliers = list(outliers.keys())\n\n        if len(list_of_outliers) == 0:\n            print(f\"There are no outliers in the '{column_name}' column\")\n        else:\n            if len(list_of_outliers) > 10:\n                print(f\"Detected too many potential outliers in the '{column_name}' column to show. Based on the high number of potential outliers detected, use the column definition and check the summary statistics (min & max values) above to find out if there are truly outliers in these columns.\")\n            else:\n                print(f\"The potential ouliers in the '{column_name}' column are: {list_of_outliers} and the respective rows with the potential outliers are: {rows_with_outliers}\")"
   },
   "outputs": [
    {
     "name": "stdout",
     "output_type": "stream",
     "text": [
      "There are no outliers in the 'clientnum' column\n",
      "The potential ouliers in the 'customer_age' column are: [73, 70] and the respective rows with the potential outliers are: [4115, 8317]\n",
      "The 'gender' column is not a numerical column\n",
      "The 'education_level' column is not a numerical column\n",
      "The 'marital_status' column is not a numerical column\n",
      "The 'income_category' column is not a numerical column\n"
     ]
    }
   ],
   "source": [
    "# Checking for outliers \n",
    "\n",
    "for column_name in basic_client_info_df.columns:\n",
    "    if basic_client_info_df[column_name].dtype == 'object':\n",
    "        print(f\"The '{column_name}' column is not a numerical column\")\n",
    "    else:\n",
    "        data = basic_client_info_df[column_name]\n",
    "        q1 = data.quantile(0.25)\n",
    "        q3 = data.quantile(0.75)\n",
    "        iqr = q3 - q1\n",
    "        iqr_lower = q1 - 1.5 * iqr\n",
    "        iqr_upper = q3 + 1.5 * iqr\n",
    "        outliers = dict(data[(data < iqr_lower) | (data > iqr_upper)])\n",
    "\n",
    "        list_of_outliers = list(outliers.values())\n",
    "        rows_with_outliers = list(outliers.keys())\n",
    "\n",
    "        if len(list_of_outliers) == 0:\n",
    "            print(f\"There are no outliers in the '{column_name}' column\")\n",
    "        else:\n",
    "            if len(list_of_outliers) > 10:\n",
    "                print(f\"Detected too many potential outliers in the '{column_name}' column to show. Based on the high number of potential outliers detected, use the column definition and check the summary statistics (min & max values) above to find out if there are truly outliers in these columns.\")\n",
    "            else:\n",
    "                print(f\"The potential ouliers in the '{column_name}' column are: {list_of_outliers} and the respective rows with the potential outliers are: {rows_with_outliers}\")"
   ]
  },
  {
   "cell_type": "markdown",
   "id": "f20a4a96-cd43-4f2b-ba54-12e2f91b72bc",
   "metadata": {},
   "source": [
    "Detected 73 and 70 in the 'customer_age' column as potential outliers. After consulting with the data definition for that variable and comparing these potential outliers to the Q1 & Q3 values from the basic statistics above, my suggestion would be to keep these rows but exclude them when asking questions such as the average or mean age of clients of the bank."
   ]
  },
  {
   "cell_type": "code",
   "execution_count": 27,
   "id": "d3abf555-17c5-4716-925e-9f100a642368",
   "metadata": {
    "executionTime": 175,
    "lastSuccessfullyExecutedCode": "# Checking to know the datatypes of each column and if there are any missing values\nbasic_client_info_df.info()"
   },
   "outputs": [
    {
     "name": "stdout",
     "output_type": "stream",
     "text": [
      "<class 'pandas.core.frame.DataFrame'>\n",
      "RangeIndex: 10127 entries, 0 to 10126\n",
      "Data columns (total 6 columns):\n",
      " #   Column           Non-Null Count  Dtype \n",
      "---  ------           --------------  ----- \n",
      " 0   clientnum        10127 non-null  int64 \n",
      " 1   customer_age     10127 non-null  int64 \n",
      " 2   gender           10127 non-null  object\n",
      " 3   education_level  10127 non-null  object\n",
      " 4   marital_status   10127 non-null  object\n",
      " 5   income_category  10127 non-null  object\n",
      "dtypes: int64(2), object(4)\n",
      "memory usage: 474.8+ KB\n"
     ]
    }
   ],
   "source": [
    "# Checking to know the datatypes of each column and if there are any missing values\n",
    "basic_client_info_df.info()"
   ]
  },
  {
   "cell_type": "markdown",
   "id": "6096878e-25d4-4c6f-ad93-f771766bd5cb",
   "metadata": {},
   "source": [
    "There are 6 columns and 10127 rows in the dataset with no mising values in each of the columns. The datatypes for each of the columns are now known, as shown above"
   ]
  },
  {
   "cell_type": "code",
   "execution_count": 28,
   "id": "7869edec-f8a9-4506-a5af-5b32222c71e4",
   "metadata": {
    "executionTime": 208,
    "lastSuccessfullyExecutedCode": "# Checking to see if there are any duplicates in the dataset. This is the count of unique entries (i.e rows) in the dataset.\nbasic_client_info_df[basic_client_info_df.duplicated()].count()"
   },
   "outputs": [
    {
     "data": {
      "text/plain": [
       "clientnum          0\n",
       "customer_age       0\n",
       "gender             0\n",
       "education_level    0\n",
       "marital_status     0\n",
       "income_category    0\n",
       "dtype: int64"
      ]
     },
     "execution_count": 28,
     "metadata": {},
     "output_type": "execute_result"
    }
   ],
   "source": [
    "# Checking to see if there are any duplicates in the dataset. This is the count of unique entries (i.e rows) in the dataset.\n",
    "basic_client_info_df[basic_client_info_df.duplicated()].count()"
   ]
  },
  {
   "cell_type": "markdown",
   "id": "0166646d-359d-45a3-8e4a-ca927b132535",
   "metadata": {},
   "source": [
    "No duplicated rows were found in the dataframe. So I assume that all rows are unique.\n",
    "\n",
    "Next I want to check for unique values in each column of the dataframe"
   ]
  },
  {
   "cell_type": "code",
   "execution_count": 29,
   "id": "8de5153c-796c-45b3-bfb3-2aa343258e8b",
   "metadata": {
    "executionTime": 171,
    "lastSuccessfullyExecutedCode": "# Just like before, I'm using a for loop for this step so that I don't have to repeat the process for each column in the  basic_client_info_df dataframe\n\nfor column_name in basic_client_info_df.columns:\n    unique_vals = basic_client_info_df[column_name].value_counts().sort_values(ascending=False).index\n    unique_count = len(unique_vals)\n\n    if unique_count < 10:\n        list_of_vals = sorted(unique_vals.tolist())\n    else:\n        list_of_vals = \"There are too many unique values to print.\"\n\n    print(f\"There are {unique_count} unique values in the '{column_name}' column, and the unique values are: {list_of_vals}\\n\")"
   },
   "outputs": [
    {
     "name": "stdout",
     "output_type": "stream",
     "text": [
      "There are 10127 unique values in the 'clientnum' column, and the unique values are: There are too many unique values to print.\n",
      "\n",
      "There are 45 unique values in the 'customer_age' column, and the unique values are: There are too many unique values to print.\n",
      "\n",
      "There are 2 unique values in the 'gender' column, and the unique values are: ['F', 'M']\n",
      "\n",
      "There are 7 unique values in the 'education_level' column, and the unique values are: ['College', 'Doctorate', 'Graduate', 'High School', 'Post-Graduate', 'Uneducated', 'Unknown']\n",
      "\n",
      "There are 4 unique values in the 'marital_status' column, and the unique values are: ['Divorced', 'Married', 'Single', 'Unknown']\n",
      "\n",
      "There are 6 unique values in the 'income_category' column, and the unique values are: ['$120K +', '$40K - $60K', '$60K - $80K', '$80K - $120K', 'Less than $40K', 'Unknown']\n",
      "\n"
     ]
    }
   ],
   "source": [
    "# Just like before, I'm using a for loop for this step so that I don't have to repeat the process for each column in the  basic_client_info_df dataframe\n",
    "\n",
    "for column_name in basic_client_info_df.columns:\n",
    "    unique_vals = basic_client_info_df[column_name].value_counts().sort_values(ascending=False).index\n",
    "    unique_count = len(unique_vals)\n",
    "\n",
    "    if unique_count < 10:\n",
    "        list_of_vals = sorted(unique_vals.tolist())\n",
    "    else:\n",
    "        list_of_vals = \"There are too many unique values to print.\"\n",
    "\n",
    "    print(f\"There are {unique_count} unique values in the '{column_name}' column, and the unique values are: {list_of_vals}\\n\")"
   ]
  },
  {
   "cell_type": "markdown",
   "id": "46f189a7-36b6-4a17-9173-d137939c9794",
   "metadata": {},
   "source": [
    "**Explanation:**\n",
    "Just like in the previous dataset, only the 'clientnum' column has a unique value for all 10127 rows in the dataset, and this is because this variable contains all client id/number which are expected to be unique to each client.\n",
    "\n",
    "The basic_client_info_df dataset contains demographic information about the bank's clients and would be very critical in understanding client behaviour and trends amongst the different client segments."
   ]
  },
  {
   "cell_type": "markdown",
   "id": "b9fb6a59-bc19-4824-883a-796e33a3f673",
   "metadata": {},
   "source": [
    "## Summary Statistics of the enriched churn dataset"
   ]
  },
  {
   "cell_type": "code",
   "execution_count": 30,
   "id": "b5b984d1-d8c4-4035-ab38-e9a7e3f8021b",
   "metadata": {
    "executionTime": 272,
    "lastSuccessfullyExecutedCode": "# Checking to see basic statistics of the numerical columns in the enriched churn dataset\nenriched_churn_df.describe()"
   },
   "outputs": [
    {
     "data": {
      "application/com.datacamp.data-table.v1+json": {
       "table": {
        "data": [
         {
          "clientnum": 10127,
          "index": "count",
          "total_amt_chng_q4_q1": 10127,
          "total_ct_chng_q4_q1": 10127,
          "total_relationship_count": 10127,
          "total_revolving_bal": 10127,
          "total_trans_amt": 10127,
          "total_trans_ct": 10127
         },
         {
          "clientnum": 739177606.3336625,
          "index": "mean",
          "total_amt_chng_q4_q1": 0.7599406537,
          "total_ct_chng_q4_q1": 0.7122223758,
          "total_relationship_count": 3.8125802311,
          "total_revolving_bal": 1162.81406142,
          "total_trans_amt": 4404.08630394,
          "total_trans_ct": 64.8586945788
         },
         {
          "clientnum": 36903783.45023115,
          "index": "std",
          "total_amt_chng_q4_q1": 0.2192067692,
          "total_ct_chng_q4_q1": 0.2380860913,
          "total_relationship_count": 1.5544078653,
          "total_revolving_bal": 814.9873352358,
          "total_trans_amt": 3397.1292535571,
          "total_trans_ct": 23.4725704492
         },
         {
          "clientnum": 708082083,
          "index": "min",
          "total_amt_chng_q4_q1": 0,
          "total_ct_chng_q4_q1": 0,
          "total_relationship_count": 1,
          "total_revolving_bal": 0,
          "total_trans_amt": 510,
          "total_trans_ct": 10
         },
         {
          "clientnum": 713036770.5,
          "index": "25%",
          "total_amt_chng_q4_q1": 0.631,
          "total_ct_chng_q4_q1": 0.582,
          "total_relationship_count": 3,
          "total_revolving_bal": 359,
          "total_trans_amt": 2155.5,
          "total_trans_ct": 45
         },
         {
          "clientnum": 717926358,
          "index": "50%",
          "total_amt_chng_q4_q1": 0.736,
          "total_ct_chng_q4_q1": 0.702,
          "total_relationship_count": 4,
          "total_revolving_bal": 1276,
          "total_trans_amt": 3899,
          "total_trans_ct": 67
         },
         {
          "clientnum": 773143533,
          "index": "75%",
          "total_amt_chng_q4_q1": 0.859,
          "total_ct_chng_q4_q1": 0.818,
          "total_relationship_count": 5,
          "total_revolving_bal": 1784,
          "total_trans_amt": 4741,
          "total_trans_ct": 81
         },
         {
          "clientnum": 828343083,
          "index": "max",
          "total_amt_chng_q4_q1": 3.397,
          "total_ct_chng_q4_q1": 3.714,
          "total_relationship_count": 6,
          "total_revolving_bal": 2517,
          "total_trans_amt": 18484,
          "total_trans_ct": 139
         }
        ],
        "schema": {
         "fields": [
          {
           "name": "index",
           "type": "string"
          },
          {
           "name": "clientnum",
           "type": "number"
          },
          {
           "name": "total_relationship_count",
           "type": "number"
          },
          {
           "name": "total_revolving_bal",
           "type": "number"
          },
          {
           "name": "total_amt_chng_q4_q1",
           "type": "number"
          },
          {
           "name": "total_trans_amt",
           "type": "number"
          },
          {
           "name": "total_ct_chng_q4_q1",
           "type": "number"
          },
          {
           "name": "total_trans_ct",
           "type": "number"
          }
         ],
         "pandas_version": "1.4.0",
         "primaryKey": [
          "index"
         ]
        }
       },
       "total_rows": 8,
       "truncation_type": null
      },
      "text/html": [
       "<div>\n",
       "<style scoped>\n",
       "    .dataframe tbody tr th:only-of-type {\n",
       "        vertical-align: middle;\n",
       "    }\n",
       "\n",
       "    .dataframe tbody tr th {\n",
       "        vertical-align: top;\n",
       "    }\n",
       "\n",
       "    .dataframe thead th {\n",
       "        text-align: right;\n",
       "    }\n",
       "</style>\n",
       "<table border=\"1\" class=\"dataframe\">\n",
       "  <thead>\n",
       "    <tr style=\"text-align: right;\">\n",
       "      <th></th>\n",
       "      <th>clientnum</th>\n",
       "      <th>total_relationship_count</th>\n",
       "      <th>total_revolving_bal</th>\n",
       "      <th>total_amt_chng_q4_q1</th>\n",
       "      <th>total_trans_amt</th>\n",
       "      <th>total_ct_chng_q4_q1</th>\n",
       "      <th>total_trans_ct</th>\n",
       "    </tr>\n",
       "  </thead>\n",
       "  <tbody>\n",
       "    <tr>\n",
       "      <th>count</th>\n",
       "      <td>1.012700e+04</td>\n",
       "      <td>10127.000000</td>\n",
       "      <td>10127.000000</td>\n",
       "      <td>10127.000000</td>\n",
       "      <td>10127.000000</td>\n",
       "      <td>10127.000000</td>\n",
       "      <td>10127.000000</td>\n",
       "    </tr>\n",
       "    <tr>\n",
       "      <th>mean</th>\n",
       "      <td>7.391776e+08</td>\n",
       "      <td>3.812580</td>\n",
       "      <td>1162.814061</td>\n",
       "      <td>0.759941</td>\n",
       "      <td>4404.086304</td>\n",
       "      <td>0.712222</td>\n",
       "      <td>64.858695</td>\n",
       "    </tr>\n",
       "    <tr>\n",
       "      <th>std</th>\n",
       "      <td>3.690378e+07</td>\n",
       "      <td>1.554408</td>\n",
       "      <td>814.987335</td>\n",
       "      <td>0.219207</td>\n",
       "      <td>3397.129254</td>\n",
       "      <td>0.238086</td>\n",
       "      <td>23.472570</td>\n",
       "    </tr>\n",
       "    <tr>\n",
       "      <th>min</th>\n",
       "      <td>7.080821e+08</td>\n",
       "      <td>1.000000</td>\n",
       "      <td>0.000000</td>\n",
       "      <td>0.000000</td>\n",
       "      <td>510.000000</td>\n",
       "      <td>0.000000</td>\n",
       "      <td>10.000000</td>\n",
       "    </tr>\n",
       "    <tr>\n",
       "      <th>25%</th>\n",
       "      <td>7.130368e+08</td>\n",
       "      <td>3.000000</td>\n",
       "      <td>359.000000</td>\n",
       "      <td>0.631000</td>\n",
       "      <td>2155.500000</td>\n",
       "      <td>0.582000</td>\n",
       "      <td>45.000000</td>\n",
       "    </tr>\n",
       "    <tr>\n",
       "      <th>50%</th>\n",
       "      <td>7.179264e+08</td>\n",
       "      <td>4.000000</td>\n",
       "      <td>1276.000000</td>\n",
       "      <td>0.736000</td>\n",
       "      <td>3899.000000</td>\n",
       "      <td>0.702000</td>\n",
       "      <td>67.000000</td>\n",
       "    </tr>\n",
       "    <tr>\n",
       "      <th>75%</th>\n",
       "      <td>7.731435e+08</td>\n",
       "      <td>5.000000</td>\n",
       "      <td>1784.000000</td>\n",
       "      <td>0.859000</td>\n",
       "      <td>4741.000000</td>\n",
       "      <td>0.818000</td>\n",
       "      <td>81.000000</td>\n",
       "    </tr>\n",
       "    <tr>\n",
       "      <th>max</th>\n",
       "      <td>8.283431e+08</td>\n",
       "      <td>6.000000</td>\n",
       "      <td>2517.000000</td>\n",
       "      <td>3.397000</td>\n",
       "      <td>18484.000000</td>\n",
       "      <td>3.714000</td>\n",
       "      <td>139.000000</td>\n",
       "    </tr>\n",
       "  </tbody>\n",
       "</table>\n",
       "</div>"
      ],
      "text/plain": [
       "          clientnum  ...  total_trans_ct\n",
       "count  1.012700e+04  ...    10127.000000\n",
       "mean   7.391776e+08  ...       64.858695\n",
       "std    3.690378e+07  ...       23.472570\n",
       "min    7.080821e+08  ...       10.000000\n",
       "25%    7.130368e+08  ...       45.000000\n",
       "50%    7.179264e+08  ...       67.000000\n",
       "75%    7.731435e+08  ...       81.000000\n",
       "max    8.283431e+08  ...      139.000000\n",
       "\n",
       "[8 rows x 7 columns]"
      ]
     },
     "execution_count": 30,
     "metadata": {},
     "output_type": "execute_result"
    }
   ],
   "source": [
    "# Checking to see basic statistics of the numerical columns in the enriched churn dataset\n",
    "enriched_churn_df.describe()"
   ]
  },
  {
   "cell_type": "code",
   "execution_count": 31,
   "id": "822e2605-4b39-41e3-80a7-23f7a75efa05",
   "metadata": {
    "executionTime": 184,
    "lastSuccessfullyExecutedCode": "# Checking for outliers \n\nfor column_name in enriched_churn_df.columns:\n    if enriched_churn_df[column_name].dtype == 'object':\n        print(f\"The '{column_name}' column is not a numerical column\")\n    else:\n        data = enriched_churn_df[column_name]\n        q1 = data.quantile(0.25)\n        q3 = data.quantile(0.75)\n        iqr = q3 - q1\n        iqr_lower = q1 - 1.5 * iqr\n        iqr_upper = q3 + 1.5 * iqr\n        outliers = dict(data[(data < iqr_lower) | (data > iqr_upper)])\n\n        list_of_outliers = list(outliers.values())\n        rows_with_outliers = list(outliers.keys())\n\n        if len(list_of_outliers) == 0:\n            print(f\"There are no outliers in the '{column_name}' column\")\n        else:\n            if len(list_of_outliers) > 10:\n                print(f\"Detected too many potential outliers in the '{column_name}' column to show. Based on the high number of potential outliers detected, use the column data definition and check the summary statistics (min & max values) above to find out if there are truly outliers in these columns.\")\n            else:\n                print(f\"The potential ouliers in the '{column_name}' column are: {list_of_outliers} and the respective rows with the potential outliers are: {rows_with_outliers}\")"
   },
   "outputs": [
    {
     "name": "stdout",
     "output_type": "stream",
     "text": [
      "There are no outliers in the 'clientnum' column\n",
      "There are no outliers in the 'total_relationship_count' column\n",
      "There are no outliers in the 'total_revolving_bal' column\n",
      "Detected too many potential outliers in the 'total_amt_chng_q4_q1' column to show. Based on the high number of potential outliers detected, use the column data definition and check the summary statistics (min & max values) above to find out if there are truly outliers in these columns.\n",
      "Detected too many potential outliers in the 'total_trans_amt' column to show. Based on the high number of potential outliers detected, use the column data definition and check the summary statistics (min & max values) above to find out if there are truly outliers in these columns.\n",
      "Detected too many potential outliers in the 'total_ct_chng_q4_q1' column to show. Based on the high number of potential outliers detected, use the column data definition and check the summary statistics (min & max values) above to find out if there are truly outliers in these columns.\n",
      "The potential ouliers in the 'total_trans_ct' column are: [138, 139] and the respective rows with the potential outliers are: [1858, 10089]\n"
     ]
    }
   ],
   "source": [
    "# Checking for outliers \n",
    "\n",
    "for column_name in enriched_churn_df.columns:\n",
    "    if enriched_churn_df[column_name].dtype == 'object':\n",
    "        print(f\"The '{column_name}' column is not a numerical column\")\n",
    "    else:\n",
    "        data = enriched_churn_df[column_name]\n",
    "        q1 = data.quantile(0.25)\n",
    "        q3 = data.quantile(0.75)\n",
    "        iqr = q3 - q1\n",
    "        iqr_lower = q1 - 1.5 * iqr\n",
    "        iqr_upper = q3 + 1.5 * iqr\n",
    "        outliers = dict(data[(data < iqr_lower) | (data > iqr_upper)])\n",
    "\n",
    "        list_of_outliers = list(outliers.values())\n",
    "        rows_with_outliers = list(outliers.keys())\n",
    "\n",
    "        if len(list_of_outliers) == 0:\n",
    "            print(f\"There are no outliers in the '{column_name}' column\")\n",
    "        else:\n",
    "            if len(list_of_outliers) > 10:\n",
    "                print(f\"Detected too many potential outliers in the '{column_name}' column to show. Based on the high number of potential outliers detected, use the column data definition and check the summary statistics (min & max values) above to find out if there are truly outliers in these columns.\")\n",
    "            else:\n",
    "                print(f\"The potential ouliers in the '{column_name}' column are: {list_of_outliers} and the respective rows with the potential outliers are: {rows_with_outliers}\")"
   ]
  },
  {
   "cell_type": "markdown",
   "id": "aaae239a-1b8a-496b-ac01-4a73b22f0c0d",
   "metadata": {},
   "source": [
    "Detected 138 and 139 in the 'total_trans_ct' column as potential outliers. After consulting with the data definition for that variable, 'total_trans_ct' represents the total transaction count a client made in the last 12 months. This data would be useful to identify active clients that may be interested in using other bank products and services, hence my suggestion would be to keep them."
   ]
  },
  {
   "cell_type": "code",
   "execution_count": 32,
   "id": "8242dc23-8080-4a4f-8307-2575a5590596",
   "metadata": {
    "executionTime": 192,
    "lastSuccessfullyExecutedCode": "# Checking to know the datatypes of each column and if there are any missing values\nenriched_churn_df.info()"
   },
   "outputs": [
    {
     "name": "stdout",
     "output_type": "stream",
     "text": [
      "<class 'pandas.core.frame.DataFrame'>\n",
      "RangeIndex: 10127 entries, 0 to 10126\n",
      "Data columns (total 7 columns):\n",
      " #   Column                    Non-Null Count  Dtype  \n",
      "---  ------                    --------------  -----  \n",
      " 0   clientnum                 10127 non-null  int64  \n",
      " 1   total_relationship_count  10127 non-null  int64  \n",
      " 2   total_revolving_bal       10127 non-null  int64  \n",
      " 3   total_amt_chng_q4_q1      10127 non-null  float64\n",
      " 4   total_trans_amt           10127 non-null  int64  \n",
      " 5   total_ct_chng_q4_q1       10127 non-null  float64\n",
      " 6   total_trans_ct            10127 non-null  int64  \n",
      "dtypes: float64(2), int64(5)\n",
      "memory usage: 553.9 KB\n"
     ]
    }
   ],
   "source": [
    "# Checking to know the datatypes of each column and if there are any missing values\n",
    "enriched_churn_df.info()"
   ]
  },
  {
   "cell_type": "markdown",
   "id": "c9f5ccef-fe8c-4cb2-9dc7-8fabca0ec9e3",
   "metadata": {},
   "source": [
    "There are 7 columns and 10127 rows in the dataset with no mising values in each of the columns. The datatypes for each of the columns are now known, as shown above"
   ]
  },
  {
   "cell_type": "code",
   "execution_count": 33,
   "id": "86bfa354-6370-4d78-a38e-aa8594132119",
   "metadata": {
    "executionTime": 209,
    "lastSuccessfullyExecutedCode": "# Checking to see if there are any duplicates in the dataset. This is the count of unique entries (i.e rows) in the dataset.\nenriched_churn_df[enriched_churn_df.duplicated()].count()"
   },
   "outputs": [
    {
     "data": {
      "text/plain": [
       "clientnum                   0\n",
       "total_relationship_count    0\n",
       "total_revolving_bal         0\n",
       "total_amt_chng_q4_q1        0\n",
       "total_trans_amt             0\n",
       "total_ct_chng_q4_q1         0\n",
       "total_trans_ct              0\n",
       "dtype: int64"
      ]
     },
     "execution_count": 33,
     "metadata": {},
     "output_type": "execute_result"
    }
   ],
   "source": [
    "# Checking to see if there are any duplicates in the dataset. This is the count of unique entries (i.e rows) in the dataset.\n",
    "enriched_churn_df[enriched_churn_df.duplicated()].count()"
   ]
  },
  {
   "cell_type": "markdown",
   "id": "eb11cef8-8611-4b38-9b02-87986f0471a4",
   "metadata": {},
   "source": [
    "No duplicated rows were found in the dataframe.\n",
    "\n",
    "Next I want to check for unique values in each column of the dataframe"
   ]
  },
  {
   "cell_type": "code",
   "execution_count": 34,
   "id": "0de9e722-31be-4d35-8f23-c4a1d1fe142b",
   "metadata": {
    "executionTime": 206,
    "lastSuccessfullyExecutedCode": "# Again I'm using a for loop for this step so that I don't have to repeat the process for each column in the  basic_client_info_df dataframe\n\nfor column_name in enriched_churn_df.columns:\n    unique_vals = enriched_churn_df[column_name].value_counts().sort_values(ascending=False).index\n    unique_count = len(unique_vals)\n\n    if unique_count < 10:\n        list_of_vals = sorted(unique_vals.tolist())\n    else:\n        list_of_vals = \"There are too many unique values to print.\"\n\n    print(f\"There are {unique_count} unique values in the '{column_name}' column, and the unique values are: {list_of_vals}\\n\")"
   },
   "outputs": [
    {
     "name": "stdout",
     "output_type": "stream",
     "text": [
      "There are 10127 unique values in the 'clientnum' column, and the unique values are: There are too many unique values to print.\n",
      "\n",
      "There are 6 unique values in the 'total_relationship_count' column, and the unique values are: [1, 2, 3, 4, 5, 6]\n",
      "\n",
      "There are 1974 unique values in the 'total_revolving_bal' column, and the unique values are: There are too many unique values to print.\n",
      "\n",
      "There are 1158 unique values in the 'total_amt_chng_q4_q1' column, and the unique values are: There are too many unique values to print.\n",
      "\n",
      "There are 5033 unique values in the 'total_trans_amt' column, and the unique values are: There are too many unique values to print.\n",
      "\n",
      "There are 830 unique values in the 'total_ct_chng_q4_q1' column, and the unique values are: There are too many unique values to print.\n",
      "\n",
      "There are 126 unique values in the 'total_trans_ct' column, and the unique values are: There are too many unique values to print.\n",
      "\n"
     ]
    }
   ],
   "source": [
    "# Again I'm using a for loop for this step so that I don't have to repeat the process for each column in the  basic_client_info_df dataframe\n",
    "\n",
    "for column_name in enriched_churn_df.columns:\n",
    "    unique_vals = enriched_churn_df[column_name].value_counts().sort_values(ascending=False).index\n",
    "    unique_count = len(unique_vals)\n",
    "\n",
    "    if unique_count < 10:\n",
    "        list_of_vals = sorted(unique_vals.tolist())\n",
    "    else:\n",
    "        list_of_vals = \"There are too many unique values to print.\"\n",
    "\n",
    "    print(f\"There are {unique_count} unique values in the '{column_name}' column, and the unique values are: {list_of_vals}\\n\")"
   ]
  },
  {
   "cell_type": "markdown",
   "id": "4374ed2c-a827-495f-93d7-eb3e87af7ab6",
   "metadata": {},
   "source": [
    "**Explanation:**\n",
    "Again, just like in the previous dataset, only the 'clientnum' column has a unique value for all 10127 rows in the dataset, and this is because this variable contains all client id/number which are expected to be unique to each client.\n",
    "\n",
    "The enriched_churn dataset contains enriched data about each client's use of their credit cards including the total revolving balance on the credit card, total transaction amounts and number of transactions in the last 12 months. These data points can be used to understand client spending and repayment habits while using their credit cards. It will also be ued for in-depth analysis to help the bank understand the main reasons why clients are churning and leaving its credit card services."
   ]
  },
  {
   "cell_type": "markdown",
   "id": "a2d7e7ee-d7e6-48a5-b6e2-b86f7cc3aab7",
   "metadata": {},
   "source": [
    "# Data Cleaning\n",
    "\n",
    "While doing the summary statistics short analysis, I also did some programmatic assessments of the datasets using Pandas.DataFrame methods to assess properties of the dataset including:\n",
    "- df.info() - to obtain the summary information of the dataset including the total number of rows and columns, names of columns to know if they are descriptive enough, datatypes of each column, count of null/non-null values, and even memory usage.\n",
    "- df.describe() - provided descriptive statistics which was very useful for columns with numerical data.\n",
    "- df.value_counts() - provided the count of unique values.\n",
    "\n",
    "Based on the assessment of all the datasets, the only identified issue was the outliers detected in the 'customer_age' column which were clients aged 73 and 70. These were defined as outliers because when performing analyses that involved working with the average or mean age of clients in the bank, these outliers will result in skewed data and misleading results.\n",
    "\n",
    "However, removing these entries just because of their ages being flagged as outliers could be costly for the bank, as these are currently existing customers of the bank. Hence the resolve would be to exclude them from analysis that involve average or mean client age.\n",
    "\n",
    "Hence the only other identified issue during programmatic assessment was:\n",
    "- Clientnum variable was stored as an integer instead of a string/object datatype in all 3 datasets.\n",
    "\n",
    "My approach to data cleaning will be to first make a copy of the dataset, so that if there any issues I have my original dataset intact. I will then use the define-code-test framework for data cleaning, which involves defining cleaning steps using verbs and action words that clearly describe the cleaning tasks, performing the cleaning tasks accordingly and testing programmatically to see if my desired results were achieved."
   ]
  },
  {
   "cell_type": "code",
   "execution_count": 35,
   "id": "c7cb8727-6e96-440a-bc01-0de506123124",
   "metadata": {
    "executionTime": 174,
    "lastSuccessfullyExecutedCode": "# Making copies of all 3 datasets\ndf1 = bank_churners_df.copy()\ndf2 = basic_client_info_df.copy()\ndf3 = enriched_churn_df.copy()\n\n# And then joining the resulting dataframes into one master dataset for easier access and manipulation\ndf = df1.merge(df2, on='clientnum').merge(df3, on='clientnum')\n\n# Checking to make sure all 3 dataframes and their respective columns were joined correctly\ndf.info()"
   },
   "outputs": [
    {
     "name": "stdout",
     "output_type": "stream",
     "text": [
      "<class 'pandas.core.frame.DataFrame'>\n",
      "Int64Index: 10127 entries, 0 to 10126\n",
      "Data columns (total 21 columns):\n",
      " #   Column                    Non-Null Count  Dtype  \n",
      "---  ------                    --------------  -----  \n",
      " 0   clientnum                 10127 non-null  int64  \n",
      " 1   attrition_flag            10127 non-null  object \n",
      " 2   dependent_count           10127 non-null  int64  \n",
      " 3   card_category             10127 non-null  object \n",
      " 4   months_on_book            10127 non-null  int64  \n",
      " 5   months_inactive_12_mon    10127 non-null  int64  \n",
      " 6   contacts_count_12_mon     10127 non-null  int64  \n",
      " 7   credit_limit              10127 non-null  float64\n",
      " 8   avg_open_to_buy           10127 non-null  float64\n",
      " 9   avg_utilization_ratio     10127 non-null  float64\n",
      " 10  customer_age              10127 non-null  int64  \n",
      " 11  gender                    10127 non-null  object \n",
      " 12  education_level           10127 non-null  object \n",
      " 13  marital_status            10127 non-null  object \n",
      " 14  income_category           10127 non-null  object \n",
      " 15  total_relationship_count  10127 non-null  int64  \n",
      " 16  total_revolving_bal       10127 non-null  int64  \n",
      " 17  total_amt_chng_q4_q1      10127 non-null  float64\n",
      " 18  total_trans_amt           10127 non-null  int64  \n",
      " 19  total_ct_chng_q4_q1       10127 non-null  float64\n",
      " 20  total_trans_ct            10127 non-null  int64  \n",
      "dtypes: float64(5), int64(10), object(6)\n",
      "memory usage: 1.7+ MB\n"
     ]
    }
   ],
   "source": [
    "# Making copies of all 3 datasets\n",
    "df1 = bank_churners_df.copy()\n",
    "df2 = basic_client_info_df.copy()\n",
    "df3 = enriched_churn_df.copy()\n",
    "\n",
    "# And then joining the resulting dataframes into one master dataset for easier access and manipulation\n",
    "df = df1.merge(df2, on='clientnum').merge(df3, on='clientnum')\n",
    "\n",
    "# Checking to make sure all 3 dataframes and their respective columns were joined correctly\n",
    "df.info()"
   ]
  },
  {
   "cell_type": "markdown",
   "id": "d6dbcebf-55b4-4ce9-a7b9-45eb3ce7203c",
   "metadata": {},
   "source": [
    "## Quality Issue to be Cleaned\n",
    "\n",
    "### Define\n",
    "Change datatypes of clientnum variable in all 3 datasets from integer to string/object datatype\n",
    "\n",
    "### Code"
   ]
  },
  {
   "cell_type": "code",
   "execution_count": 36,
   "id": "e3acd942-1c47-4e46-b802-c5c633460749",
   "metadata": {
    "executionTime": 347,
    "lastSuccessfullyExecutedCode": "df = df.astype({'clientnum': 'object'})"
   },
   "outputs": [],
   "source": [
    "df = df.astype({'clientnum': 'object'})"
   ]
  },
  {
   "cell_type": "markdown",
   "id": "edf2da87-c5ed-4f0d-88c9-df5e926ffc1a",
   "metadata": {},
   "source": [
    "### Test"
   ]
  },
  {
   "cell_type": "code",
   "execution_count": 41,
   "id": "6fd03be3-f8c0-4f99-89a9-68b391f3b3f6",
   "metadata": {
    "executionTime": 228,
    "lastSuccessfullyExecutedCode": "df.clientnum.info()"
   },
   "outputs": [
    {
     "name": "stdout",
     "output_type": "stream",
     "text": [
      "<class 'pandas.core.series.Series'>\n",
      "Int64Index: 10127 entries, 0 to 10126\n",
      "Series name: clientnum\n",
      "Non-Null Count  Dtype \n",
      "--------------  ----- \n",
      "10127 non-null  object\n",
      "dtypes: object(1)\n",
      "memory usage: 158.2+ KB\n"
     ]
    }
   ],
   "source": [
    "df.clientnum.info()"
   ]
  },
  {
   "cell_type": "markdown",
   "id": "2c16b62d-4a3f-450a-9aaa-82ec58600a85",
   "metadata": {},
   "source": [
    "# Distribution Analysis for each of the columns in the dataset\n",
    "\n",
    "In this section, I want to take a close look at all the columns to know how unique values are distributed in each column. And for columns with too many unique values or columns where all values are expected to be unique, I would either use the descriptive statistics to understand the distribution of data, or skip this step (as is the case with the clientnum column)."
   ]
  },
  {
   "cell_type": "code",
   "execution_count": 43,
   "id": "ca0011b4-35f6-44ea-b922-042bbc0ba6e8",
   "metadata": {
    "executionTime": 1958,
    "lastSuccessfullyExecutedCode": "# Creating an empty list that will be used to store columns that have unique values too many to be plotted\ncolumn_list = []\n\n# Using a for loop so I don't have to repeat the process for each step\nfor column_name in df.columns:\n    unique_vals = df[column_name].value_counts().sort_values(ascending=False).index\n    unique_count = len(unique_vals)\n\n    # Check to see if the number of unique values are less than 10. If so, plot the distribution \n    if unique_count < 10:\n        # Count the frequency of each entity type\n        entity_counts = df[column_name].value_counts()\n\n        # Plot the frequency distribution as a bar plot\n        ax = entity_counts.plot(kind='bar', title= f\"Distribution of {column_name}\", xlabel= f\"\\n{column_name}\", ylabel= \"Frequency\", legend=False)\n\n        ax.bar_label(ax.containers[0], label_type= 'edge')\n\n        ax.margins(y=0.1)\n        plt.xticks(rotation=10)\n        plt.show();\n        \n        print(\"_\" * 120)\n        print(\"\\n\")\n    \n    # If the column has too many unique values that a distribution plot would not make sense, then add to list\n    else:\n        column_list.append(column_name)\n\n# Use descriptive statistics to show how values are distributed in numerical columns that have too many unique values\ndf[column_list].describe()\n        "
   },
   "outputs": [
    {
     "data": {
      "image/png": "[encoded data removed]",
      "text/plain": [
       "<Figure size 640x480 with 1 Axes>"
      ]
     },
     "metadata": {},
     "output_type": "display_data"
    },
    {
     "name": "stdout",
     "output_type": "stream",
     "text": [
      "________________________________________________________________________________________________________________________\n",
      "\n",
      "\n"
     ]
    },
    {
     "data": {
      "image/png": "[encoded data removed]",
      "text/plain": [
       "<Figure size 640x480 with 1 Axes>"
      ]
     },
     "metadata": {},
     "output_type": "display_data"
    },
    {
     "name": "stdout",
     "output_type": "stream",
     "text": [
      "________________________________________________________________________________________________________________________\n",
      "\n",
      "\n"
     ]
    },
    {
     "data": {
      "image/png": "[encoded data removed]",
      "text/plain": [
       "<Figure size 640x480 with 1 Axes>"
      ]
     },
     "metadata": {},
     "output_type": "display_data"
    },
    {
     "name": "stdout",
     "output_type": "stream",
     "text": [
      "________________________________________________________________________________________________________________________\n",
      "\n",
      "\n"
     ]
    },
    {
     "data": {
      "image/png": "[encoded data removed]",
      "text/plain": [
       "<Figure size 640x480 with 1 Axes>"
      ]
     },
     "metadata": {},
     "output_type": "display_data"
    },
    {
     "name": "stdout",
     "output_type": "stream",
     "text": [
      "________________________________________________________________________________________________________________________\n",
      "\n",
      "\n"
     ]
    },
    {
     "data": {
      "image/png": "[encoded data removed]",
      "text/plain": [
       "<Figure size 640x480 with 1 Axes>"
      ]
     },
     "metadata": {},
     "output_type": "display_data"
    },
    {
     "name": "stdout",
     "output_type": "stream",
     "text": [
      "________________________________________________________________________________________________________________________\n",
      "\n",
      "\n"
     ]
    },
    {
     "data": {
      "image/png": "[encoded data removed]",
      "text/plain": [
       "<Figure size 640x480 with 1 Axes>"
      ]
     },
     "metadata": {},
     "output_type": "display_data"
    },
    {
     "name": "stdout",
     "output_type": "stream",
     "text": [
      "________________________________________________________________________________________________________________________\n",
      "\n",
      "\n"
     ]
    },
    {
     "data": {
      "image/png": "[encoded data removed]",
      "text/plain": [
       "<Figure size 640x480 with 1 Axes>"
      ]
     },
     "metadata": {},
     "output_type": "display_data"
    },
    {
     "name": "stdout",
     "output_type": "stream",
     "text": [
      "________________________________________________________________________________________________________________________\n",
      "\n",
      "\n"
     ]
    },
    {
     "data": {
      "image/png": "[encoded data removed]",
      "text/plain": [
       "<Figure size 640x480 with 1 Axes>"
      ]
     },
     "metadata": {},
     "output_type": "display_data"
    },
    {
     "name": "stdout",
     "output_type": "stream",
     "text": [
      "________________________________________________________________________________________________________________________\n",
      "\n",
      "\n"
     ]
    },
    {
     "data": {
      "image/png": "[encoded data removed]",
      "text/plain": [
       "<Figure size 640x480 with 1 Axes>"
      ]
     },
     "metadata": {},
     "output_type": "display_data"
    },
    {
     "name": "stdout",
     "output_type": "stream",
     "text": [
      "________________________________________________________________________________________________________________________\n",
      "\n",
      "\n"
     ]
    },
    {
     "data": {
      "image/png": "[encoded data removed]",
      "text/plain": [
       "<Figure size 640x480 with 1 Axes>"
      ]
     },
     "metadata": {},
     "output_type": "display_data"
    },
    {
     "name": "stdout",
     "output_type": "stream",
     "text": [
      "________________________________________________________________________________________________________________________\n",
      "\n",
      "\n"
     ]
    },
    {
     "data": {
      "application/com.datacamp.data-table.v1+json": {
       "table": {
        "data": [
         {
          "avg_open_to_buy": 10127,
          "avg_utilization_ratio": 10127,
          "credit_limit": 10127,
          "customer_age": 10127,
          "index": "count",
          "months_on_book": 10127,
          "total_amt_chng_q4_q1": 10127,
          "total_ct_chng_q4_q1": 10127,
          "total_revolving_bal": 10127,
          "total_trans_amt": 10127,
          "total_trans_ct": 10127
         },
         {
          "avg_open_to_buy": 7469.139636615,
          "avg_utilization_ratio": 0.2748935519,
          "credit_limit": 8631.953698035,
          "customer_age": 46.3259603041,
          "index": "mean",
          "months_on_book": 35.9284092031,
          "total_amt_chng_q4_q1": 0.7599406537,
          "total_ct_chng_q4_q1": 0.7122223758,
          "total_revolving_bal": 1162.81406142,
          "total_trans_amt": 4404.08630394,
          "total_trans_ct": 64.8586945788
         },
         {
          "avg_open_to_buy": 9090.6853236791,
          "avg_utilization_ratio": 0.2756914693,
          "credit_limit": 9088.7766502232,
          "customer_age": 8.0168140325,
          "index": "std",
          "months_on_book": 7.9864163309,
          "total_amt_chng_q4_q1": 0.2192067692,
          "total_ct_chng_q4_q1": 0.2380860913,
          "total_revolving_bal": 814.9873352358,
          "total_trans_amt": 3397.1292535571,
          "total_trans_ct": 23.4725704492
         },
         {
          "avg_open_to_buy": 3,
          "avg_utilization_ratio": 0,
          "credit_limit": 1438.3,
          "customer_age": 26,
          "index": "min",
          "months_on_book": 13,
          "total_amt_chng_q4_q1": 0,
          "total_ct_chng_q4_q1": 0,
          "total_revolving_bal": 0,
          "total_trans_amt": 510,
          "total_trans_ct": 10
         },
         {
          "avg_open_to_buy": 1324.5,
          "avg_utilization_ratio": 0.023,
          "credit_limit": 2555,
          "customer_age": 41,
          "index": "25%",
          "months_on_book": 31,
          "total_amt_chng_q4_q1": 0.631,
          "total_ct_chng_q4_q1": 0.582,
          "total_revolving_bal": 359,
          "total_trans_amt": 2155.5,
          "total_trans_ct": 45
         },
         {
          "avg_open_to_buy": 3474,
          "avg_utilization_ratio": 0.176,
          "credit_limit": 4549,
          "customer_age": 46,
          "index": "50%",
          "months_on_book": 36,
          "total_amt_chng_q4_q1": 0.736,
          "total_ct_chng_q4_q1": 0.702,
          "total_revolving_bal": 1276,
          "total_trans_amt": 3899,
          "total_trans_ct": 67
         },
         {
          "avg_open_to_buy": 9859,
          "avg_utilization_ratio": 0.503,
          "credit_limit": 11067.5,
          "customer_age": 52,
          "index": "75%",
          "months_on_book": 40,
          "total_amt_chng_q4_q1": 0.859,
          "total_ct_chng_q4_q1": 0.818,
          "total_revolving_bal": 1784,
          "total_trans_amt": 4741,
          "total_trans_ct": 81
         },
         {
          "avg_open_to_buy": 34516,
          "avg_utilization_ratio": 0.999,
          "credit_limit": 34516,
          "customer_age": 73,
          "index": "max",
          "months_on_book": 56,
          "total_amt_chng_q4_q1": 3.397,
          "total_ct_chng_q4_q1": 3.714,
          "total_revolving_bal": 2517,
          "total_trans_amt": 18484,
          "total_trans_ct": 139
         }
        ],
        "schema": {
         "fields": [
          {
           "name": "index",
           "type": "string"
          },
          {
           "name": "months_on_book",
           "type": "number"
          },
          {
           "name": "credit_limit",
           "type": "number"
          },
          {
           "name": "avg_open_to_buy",
           "type": "number"
          },
          {
           "name": "avg_utilization_ratio",
           "type": "number"
          },
          {
           "name": "customer_age",
           "type": "number"
          },
          {
           "name": "total_revolving_bal",
           "type": "number"
          },
          {
           "name": "total_amt_chng_q4_q1",
           "type": "number"
          },
          {
           "name": "total_trans_amt",
           "type": "number"
          },
          {
           "name": "total_ct_chng_q4_q1",
           "type": "number"
          },
          {
           "name": "total_trans_ct",
           "type": "number"
          }
         ],
         "pandas_version": "1.4.0",
         "primaryKey": [
          "index"
         ]
        }
       },
       "total_rows": 8,
       "truncation_type": null
      },
      "text/html": [
       "<div>\n",
       "<style scoped>\n",
       "    .dataframe tbody tr th:only-of-type {\n",
       "        vertical-align: middle;\n",
       "    }\n",
       "\n",
       "    .dataframe tbody tr th {\n",
       "        vertical-align: top;\n",
       "    }\n",
       "\n",
       "    .dataframe thead th {\n",
       "        text-align: right;\n",
       "    }\n",
       "</style>\n",
       "<table border=\"1\" class=\"dataframe\">\n",
       "  <thead>\n",
       "    <tr style=\"text-align: right;\">\n",
       "      <th></th>\n",
       "      <th>months_on_book</th>\n",
       "      <th>credit_limit</th>\n",
       "      <th>avg_open_to_buy</th>\n",
       "      <th>avg_utilization_ratio</th>\n",
       "      <th>customer_age</th>\n",
       "      <th>total_revolving_bal</th>\n",
       "      <th>total_amt_chng_q4_q1</th>\n",
       "      <th>total_trans_amt</th>\n",
       "      <th>total_ct_chng_q4_q1</th>\n",
       "      <th>total_trans_ct</th>\n",
       "    </tr>\n",
       "  </thead>\n",
       "  <tbody>\n",
       "    <tr>\n",
       "      <th>count</th>\n",
       "      <td>10127.000000</td>\n",
       "      <td>10127.000000</td>\n",
       "      <td>10127.000000</td>\n",
       "      <td>10127.000000</td>\n",
       "      <td>10127.000000</td>\n",
       "      <td>10127.000000</td>\n",
       "      <td>10127.000000</td>\n",
       "      <td>10127.000000</td>\n",
       "      <td>10127.000000</td>\n",
       "      <td>10127.000000</td>\n",
       "    </tr>\n",
       "    <tr>\n",
       "      <th>mean</th>\n",
       "      <td>35.928409</td>\n",
       "      <td>8631.953698</td>\n",
       "      <td>7469.139637</td>\n",
       "      <td>0.274894</td>\n",
       "      <td>46.325960</td>\n",
       "      <td>1162.814061</td>\n",
       "      <td>0.759941</td>\n",
       "      <td>4404.086304</td>\n",
       "      <td>0.712222</td>\n",
       "      <td>64.858695</td>\n",
       "    </tr>\n",
       "    <tr>\n",
       "      <th>std</th>\n",
       "      <td>7.986416</td>\n",
       "      <td>9088.776650</td>\n",
       "      <td>9090.685324</td>\n",
       "      <td>0.275691</td>\n",
       "      <td>8.016814</td>\n",
       "      <td>814.987335</td>\n",
       "      <td>0.219207</td>\n",
       "      <td>3397.129254</td>\n",
       "      <td>0.238086</td>\n",
       "      <td>23.472570</td>\n",
       "    </tr>\n",
       "    <tr>\n",
       "      <th>min</th>\n",
       "      <td>13.000000</td>\n",
       "      <td>1438.300000</td>\n",
       "      <td>3.000000</td>\n",
       "      <td>0.000000</td>\n",
       "      <td>26.000000</td>\n",
       "      <td>0.000000</td>\n",
       "      <td>0.000000</td>\n",
       "      <td>510.000000</td>\n",
       "      <td>0.000000</td>\n",
       "      <td>10.000000</td>\n",
       "    </tr>\n",
       "    <tr>\n",
       "      <th>25%</th>\n",
       "      <td>31.000000</td>\n",
       "      <td>2555.000000</td>\n",
       "      <td>1324.500000</td>\n",
       "      <td>0.023000</td>\n",
       "      <td>41.000000</td>\n",
       "      <td>359.000000</td>\n",
       "      <td>0.631000</td>\n",
       "      <td>2155.500000</td>\n",
       "      <td>0.582000</td>\n",
       "      <td>45.000000</td>\n",
       "    </tr>\n",
       "    <tr>\n",
       "      <th>50%</th>\n",
       "      <td>36.000000</td>\n",
       "      <td>4549.000000</td>\n",
       "      <td>3474.000000</td>\n",
       "      <td>0.176000</td>\n",
       "      <td>46.000000</td>\n",
       "      <td>1276.000000</td>\n",
       "      <td>0.736000</td>\n",
       "      <td>3899.000000</td>\n",
       "      <td>0.702000</td>\n",
       "      <td>67.000000</td>\n",
       "    </tr>\n",
       "    <tr>\n",
       "      <th>75%</th>\n",
       "      <td>40.000000</td>\n",
       "      <td>11067.500000</td>\n",
       "      <td>9859.000000</td>\n",
       "      <td>0.503000</td>\n",
       "      <td>52.000000</td>\n",
       "      <td>1784.000000</td>\n",
       "      <td>0.859000</td>\n",
       "      <td>4741.000000</td>\n",
       "      <td>0.818000</td>\n",
       "      <td>81.000000</td>\n",
       "    </tr>\n",
       "    <tr>\n",
       "      <th>max</th>\n",
       "      <td>56.000000</td>\n",
       "      <td>34516.000000</td>\n",
       "      <td>34516.000000</td>\n",
       "      <td>0.999000</td>\n",
       "      <td>73.000000</td>\n",
       "      <td>2517.000000</td>\n",
       "      <td>3.397000</td>\n",
       "      <td>18484.000000</td>\n",
       "      <td>3.714000</td>\n",
       "      <td>139.000000</td>\n",
       "    </tr>\n",
       "  </tbody>\n",
       "</table>\n",
       "</div>"
      ],
      "text/plain": [
       "       months_on_book  credit_limit  ...  total_ct_chng_q4_q1  total_trans_ct\n",
       "count    10127.000000  10127.000000  ...         10127.000000    10127.000000\n",
       "mean        35.928409   8631.953698  ...             0.712222       64.858695\n",
       "std          7.986416   9088.776650  ...             0.238086       23.472570\n",
       "min         13.000000   1438.300000  ...             0.000000       10.000000\n",
       "25%         31.000000   2555.000000  ...             0.582000       45.000000\n",
       "50%         36.000000   4549.000000  ...             0.702000       67.000000\n",
       "75%         40.000000  11067.500000  ...             0.818000       81.000000\n",
       "max         56.000000  34516.000000  ...             3.714000      139.000000\n",
       "\n",
       "[8 rows x 10 columns]"
      ]
     },
     "execution_count": 43,
     "metadata": {},
     "output_type": "execute_result"
    }
   ],
   "source": [
    "# Creating an empty list that will be used to store columns that have unique values too many to be plotted\n",
    "column_list = []\n",
    "\n",
    "# Using a for loop so I don't have to repeat the process for each step\n",
    "for column_name in df.columns:\n",
    "    unique_vals = df[column_name].value_counts().sort_values(ascending=False).index\n",
    "    unique_count = len(unique_vals)\n",
    "\n",
    "    # Check to see if the number of unique values are less than 10. If so, plot the distribution \n",
    "    if unique_count < 10:\n",
    "        # Count the frequency of each entity type\n",
    "        entity_counts = df[column_name].value_counts()\n",
    "\n",
    "        # Plot the frequency distribution as a bar plot\n",
    "        ax = entity_counts.plot(kind='bar', title= f\"Distribution of {column_name}\", xlabel= f\"\\n{column_name}\", ylabel= \"Frequency\", legend=False)\n",
    "\n",
    "        ax.bar_label(ax.containers[0], label_type= 'edge')\n",
    "\n",
    "        ax.margins(y=0.1)\n",
    "        plt.xticks(rotation=10)\n",
    "        plt.show();\n",
    "        \n",
    "        print(\"_\" * 120)\n",
    "        print(\"\\n\")\n",
    "    \n",
    "    # If the column has too many unique values that a distribution plot would not make sense, then add to list\n",
    "    else:\n",
    "        column_list.append(column_name)\n",
    "\n",
    "# Use descriptive statistics to show how values are distributed in numerical columns that have too many unique values\n",
    "df[column_list].describe()\n",
    "        "
   ]
  },
  {
   "cell_type": "markdown",
   "id": "213c2d74-a851-458c-8854-7cbbbf1c8ff6",
   "metadata": {},
   "source": [
    "From our distribution analysis of each column above,\n",
    "\n",
    "The attrition_flag column has categorical data and 2 unique values, hence a bar chart is satisfactory to show the distribution of customers who have churned (attrited) to those who are still existing customers. \n",
    "\n",
    "Most of the bank's credit card customers have 3 or 2 dependants, while only few have 5 dependants in their care.\n",
    "\n",
    "The blue credit card category is the most popular with approx. 93% of customers belonging to this card category. In second place is the Silver credit card, and then the Gold credit card. Customers who own a Platinum credit card are very few, accounting for a meager 0.2% of all customers.\n",
    "\n",
    "In the last 12 months, the majority of customers are inactive for 3 months or less; while only a select few customers have been inactive for longer periods. \n",
    "\n",
    "The same trend is also noticed in the number of contacts made by customers, as majority of customers have made contact 3 or 2 times in the last 12 months.\n",
    "\n",
    "There are more female customers than male customers, with a difference of 589 more female customers than male.\n",
    "\n",
    "Majority of the credit card customers are graduates accounting for alsmot 31% of all customers, while minority  of the customers have doctorate or post-graduate degrees.\n",
    "\n",
    "More customers earn less than 40k while less customers earn 120k or higher.\n",
    "\n",
    "Most customers use 3 of the bank's products. Almost the same number of customers use 4, 5 or 6 of the bank's products. Fewer customers only have 1 product from the bank.\n",
    "\n",
    "For numerical columns, the table shows the distribution of the variables. \n",
    "The shortest recorded month on book for a customer is 13 months while some customers have been around for up to 56 months. 36 months is the median number of months on book for the bank's customers.\n",
    "There are records of extremely high and extremely low card utilization ratios; however, the median average utilization ratio is 0.18.\n",
    "The youngest credit card customer is aged 26, while the oldest is aged 73. There are more customers aged 46 as this is the mdeian age.\n",
    "\n",
    "\n",
    "\n"
   ]
  },
  {
   "cell_type": "markdown",
   "id": "8044aede-c31e-48d1-bace-96b13b7155c6",
   "metadata": {},
   "source": [
    "# Cross-Correlation Analysis\n",
    "By cross-examining columns against each other, more insights and broader questions can be asked and asnwered. Grouping by the attrition flag or categorical demographic columns would help in plotting bar charts, pie charts, creating text tables and even tree maps using columns that hold numerical data about credit card usage patterns and repayment habits of all clients of the bank, in order to understand the reasons for leaving and recommend ways the bank can mitigate existing customers from churning.\n",
    "\n",
    "Some of the questions that can generate useful insights include:\n",
    "- How long have clients been customers of the bank's credit card service? Based on income category of clients, which group used their credit card the most or the least in the last 12 months? How often & what group of clients contacted the bank the most to make enquiries about their credit cards or other products or services offered by the bank? To answer such questions, numerical columns like months_on_book, months_inactive_12_mon, contacts_count_12_mon and Avg_Utilization_Ratio can be plotted against categorial columns with unique values like attrition_flag, gender, education_level and/or income_category, using preferably a bar chart or other charts like a pie chart or tree map, depending on the number of unique values in the categorical column. \n",
    "- Who are the top (10 or 20) and bottom (10 or 20) clients based on % change in transaction count or % change in transaction amount from Q1 to Q4? Is there any significant difference in % change for churned customers compared to existing customers? Are there any observed patterns when plotting these % change columns grouped by demographic columns? The total_amt_chng_q4_q1 and total_ct_chng_q4_q1 columns which are both numerical columns  can be used to create a text table of top or bottom (10 or 20) clients based on their unique client numbers (clientnum column). Bar charts can also be used to answer these questions by grouping demographic columns like gender, marital status, education or income category.\n",
    "- How do the total relationship count (i.e number of products customers have) differ between age groups, or gender, or income category or any other demographic? A bar chart of total relationship count (numerical datatype) vs demographic categorical column can be used to answer this question.\n",
    "- On average, how many of the bank's products do customers typically have? Who are the top or bottom customers by number of the bank's products they have? A histogram plot of the total_relationship_count and a text table showing top and bottom customers of the bank by their total product count, can be used to answer such questions.\n",
    "- Which is the most popular credit card category? What type of credit card holders have churned the most? What is the credit limit according to the different credit card categories? How much credit is currently available for a customer to use based on the type of credit card they have? A histogram of the card_category, bar chart of card_category vs attrition_flag, text table of average credit_limit grouped by card_category, and a text table of avg_open_to_buy grouped by card_category can answer such questions.\n",
    "- Does the number of dependents per customer affect their credit card needs or usage? Is there a relationship between dependent count and the type of credit card/credit limit a customer has? Plotting a graph of dependent count vs avg utilization ratio or total_trans_ct can answer the first question. A bar chart of dependent count vs credit limit or card category vs dependent count can answer the second question."
   ]
  },
  {
   "cell_type": "markdown",
   "id": "9c33344d-e7d8-4f37-a55d-322ea00357b4",
   "metadata": {},
   "source": [
    "# Raising Data Questions\n",
    "\n",
    "In this section, I would select the most investigative questions that were raised during the distribution analysis for each column in the dataset. These questions would be asked in an investigative manner to try and understand the possible reasons why customers are churning and other insights that might have a direct or indirect connection to this problem.\n"
   ]
  },
  {
   "cell_type": "markdown",
   "id": "50345a86-8c33-4bb5-901d-0ecdc7e7882d",
   "metadata": {},
   "source": [
    "## Question 1: What type of credit card holders have churned the most?"
   ]
  },
  {
   "cell_type": "code",
   "execution_count": 44,
   "id": "06f2f86f-dea2-4ac6-8d10-63e57365af35",
   "metadata": {
    "executionTime": 252,
    "lastSuccessfullyExecutedCode": "import numpy as np\n\nresult1 = df.groupby('card_category')['clientnum'].count().reset_index(name='total_customer_count')\nresult2 = df.groupby('card_category')['attrition_flag'].apply(lambda x: (x == 'Attrited Customer').sum()).reset_index(name='churned_count')\n\ntext_table = result1.merge(result2, on='card_category')\n\ntext_table['overall_churn_rate_pct'] = np.round(text_table['churned_count'] / len(df) * 100, 1)\ntext_table['churn_ratio'] = np.round(text_table['total_customer_count'] /text_table['churned_count'], 1)\n\ntext_table.sort_values(by='overall_churn_rate_pct', ascending=False)\n\n"
   },
   "outputs": [
    {
     "data": {
      "application/com.datacamp.data-table.v1+json": {
       "table": {
        "data": [
         {
          "card_category": "Blue",
          "churn_ratio": 6.2,
          "churned_count": 1519,
          "index": 0,
          "overall_churn_rate_pct": 15,
          "total_customer_count": 9436
         },
         {
          "card_category": "Silver",
          "churn_ratio": 6.8,
          "churned_count": 82,
          "index": 3,
          "overall_churn_rate_pct": 0.8,
          "total_customer_count": 555
         },
         {
          "card_category": "Gold",
          "churn_ratio": 5.5,
          "churned_count": 21,
          "index": 1,
          "overall_churn_rate_pct": 0.2,
          "total_customer_count": 116
         },
         {
          "card_category": "Platinum",
          "churn_ratio": 4,
          "churned_count": 5,
          "index": 2,
          "overall_churn_rate_pct": 0,
          "total_customer_count": 20
         }
        ],
        "schema": {
         "fields": [
          {
           "name": "index",
           "type": "integer"
          },
          {
           "name": "card_category",
           "type": "string"
          },
          {
           "name": "total_customer_count",
           "type": "integer"
          },
          {
           "name": "churned_count",
           "type": "integer"
          },
          {
           "name": "overall_churn_rate_pct",
           "type": "number"
          },
          {
           "name": "churn_ratio",
           "type": "number"
          }
         ],
         "pandas_version": "1.4.0",
         "primaryKey": [
          "index"
         ]
        }
       },
       "total_rows": 4,
       "truncation_type": null
      },
      "text/html": [
       "<div>\n",
       "<style scoped>\n",
       "    .dataframe tbody tr th:only-of-type {\n",
       "        vertical-align: middle;\n",
       "    }\n",
       "\n",
       "    .dataframe tbody tr th {\n",
       "        vertical-align: top;\n",
       "    }\n",
       "\n",
       "    .dataframe thead th {\n",
       "        text-align: right;\n",
       "    }\n",
       "</style>\n",
       "<table border=\"1\" class=\"dataframe\">\n",
       "  <thead>\n",
       "    <tr style=\"text-align: right;\">\n",
       "      <th></th>\n",
       "      <th>card_category</th>\n",
       "      <th>total_customer_count</th>\n",
       "      <th>churned_count</th>\n",
       "      <th>overall_churn_rate_pct</th>\n",
       "      <th>churn_ratio</th>\n",
       "    </tr>\n",
       "  </thead>\n",
       "  <tbody>\n",
       "    <tr>\n",
       "      <th>0</th>\n",
       "      <td>Blue</td>\n",
       "      <td>9436</td>\n",
       "      <td>1519</td>\n",
       "      <td>15.0</td>\n",
       "      <td>6.2</td>\n",
       "    </tr>\n",
       "    <tr>\n",
       "      <th>3</th>\n",
       "      <td>Silver</td>\n",
       "      <td>555</td>\n",
       "      <td>82</td>\n",
       "      <td>0.8</td>\n",
       "      <td>6.8</td>\n",
       "    </tr>\n",
       "    <tr>\n",
       "      <th>1</th>\n",
       "      <td>Gold</td>\n",
       "      <td>116</td>\n",
       "      <td>21</td>\n",
       "      <td>0.2</td>\n",
       "      <td>5.5</td>\n",
       "    </tr>\n",
       "    <tr>\n",
       "      <th>2</th>\n",
       "      <td>Platinum</td>\n",
       "      <td>20</td>\n",
       "      <td>5</td>\n",
       "      <td>0.0</td>\n",
       "      <td>4.0</td>\n",
       "    </tr>\n",
       "  </tbody>\n",
       "</table>\n",
       "</div>"
      ],
      "text/plain": [
       "  card_category  total_customer_count  ...  overall_churn_rate_pct  churn_ratio\n",
       "0          Blue                  9436  ...                    15.0          6.2\n",
       "3        Silver                   555  ...                     0.8          6.8\n",
       "1          Gold                   116  ...                     0.2          5.5\n",
       "2      Platinum                    20  ...                     0.0          4.0\n",
       "\n",
       "[4 rows x 5 columns]"
      ]
     },
     "execution_count": 44,
     "metadata": {},
     "output_type": "execute_result"
    }
   ],
   "source": [
    "import numpy as np\n",
    "\n",
    "result1 = df.groupby('card_category')['clientnum'].count().reset_index(name='total_customer_count')\n",
    "result2 = df.groupby('card_category')['attrition_flag'].apply(lambda x: (x == 'Attrited Customer').sum()).reset_index(name='churned_count')\n",
    "\n",
    "text_table = result1.merge(result2, on='card_category')\n",
    "\n",
    "text_table['overall_churn_rate_pct'] = np.round(text_table['churned_count'] / len(df) * 100, 1)\n",
    "text_table['churn_ratio'] = np.round(text_table['total_customer_count'] /text_table['churned_count'], 1)\n",
    "\n",
    "text_table.sort_values(by='overall_churn_rate_pct', ascending=False)\n",
    "\n"
   ]
  },
  {
   "cell_type": "markdown",
   "id": "dac66556-e2b1-41da-8850-0c2ebe41b402",
   "metadata": {},
   "source": [
    "### Answer:\n",
    "\n",
    "The churn rate % shows that the bank's blue credit card holders have churned the most with a 15% churn rate. For Silver, Gold and Platinum credit card customers, the churn rate is less than 1% which is below the generally acceptable churn rate levels of around 5-8% for most banks and credit card companies. From this perspective, it can be seen that the customers with blue credit cards tend to churn the most compared to other credit card categories that the bank offers.\n",
    "\n",
    "The churn ratio column is being used to add context since the number of customers with blue credit cards are relatively larger than all the other three card categories combined. Now all of a sudden we see that 1 in 4 platinum credit card holders are more likely to churn, 1 in approx 5 Gold credit card customers are more likely to churn, 1 in 6 Blue credit card customers are more likely to churn, and finally 1 in approx 7 Silver credit card customers are more likely to churn. From this perspective, it appears that Platinum credit card customers might be the most unhappy with the bank's credit card services. This is because out of a small number of only 20 total customers with a platinum credit card, 4 of them have churned.\n",
    "\n",
    "Could this be related to the income category of customers in certain card categories? Or could there be something else happening? Let us investigate further. \n"
   ]
  },
  {
   "cell_type": "markdown",
   "id": "a03f15b2-b9b3-481e-8f7e-69fa3d0affec",
   "metadata": {},
   "source": [
    "## Question 2: Is there a relationship between credit card category, income category and the usage of credit cards by customers?"
   ]
  },
  {
   "cell_type": "code",
   "execution_count": 45,
   "id": "1c380792-dc2e-4b2c-bf8d-165d5593f5bd",
   "metadata": {
    "executionTime": 501,
    "lastSuccessfullyExecutedCode": "# Grouping by card category & income category to see card utilization trends\nview = df.groupby(['card_category', 'income_category'])['avg_utilization_ratio'].mean().sort_values(ascending=False)\n\n# Using a suitable figure/chart size for the plot\nplt.figure(figsize = [10, 5])\nax = view.plot(kind='bar', xlabel=\"\\nCard Category , Income Category\" , ylabel= \"Avg Utilization Ratio\", legend=False)\n\nax.bar_label(ax.containers[0], fmt='%.2f', label_type= 'edge')\n\nplt.show();"
   },
   "outputs": [
    {
     "data": {
      "image/png": "[encoded data removed]",
      "text/plain": [
       "<Figure size 1000x500 with 1 Axes>"
      ]
     },
     "metadata": {},
     "output_type": "display_data"
    }
   ],
   "source": [
    "# Grouping by card category & income category to see card utilization trends\n",
    "view = df.groupby(['card_category', 'income_category'])['avg_utilization_ratio'].mean().sort_values(ascending=False)\n",
    "\n",
    "# Using a suitable figure/chart size for the plot\n",
    "plt.figure(figsize = [10, 5])\n",
    "ax = view.plot(kind='bar', xlabel=\"\\nCard Category , Income Category\" , ylabel= \"Avg Utilization Ratio\", legend=False)\n",
    "\n",
    "ax.bar_label(ax.containers[0], fmt='%.2f', label_type= 'edge')\n",
    "\n",
    "plt.show();"
   ]
  },
  {
   "cell_type": "markdown",
   "id": "50995a04-11e9-417b-856f-a2b9804dec49",
   "metadata": {},
   "source": [
    "### Answer:\n",
    "\n",
    "The plot above shows that on average, Blue credit card customers who earn less than $40k and those who earn between 40k-60k tend to use their credit cards the most; while Platinum credit card customers who earn between 40k-60k and those whose income category is unknown, tend to use their credit card the least.\n",
    "\n",
    "On average, Blue credit card customers of all income categories tend to use their cards way more than Silver, Gold and Platinum credit card customers. And average usage trends amongst Silver, Gold and Platinum credit card customers who earn higher than 60k does not differ much, indicating that these customers are not heavily dependent on their credit cards and might also suggest that they are less likely to be interested in trying out other credit products/services the bank offers. \n",
    "\n",
    "It is worth investigating further to see how factors such as dependent count affect the credit card needs of customers."
   ]
  },
  {
   "cell_type": "markdown",
   "id": "98901a2e-5297-4c3c-878b-6876a075846d",
   "metadata": {},
   "source": [
    "## Question 3: How does income category & number of dependents per customer affect their credit card needs or usage?"
   ]
  },
  {
   "cell_type": "code",
   "execution_count": 46,
   "id": "429d7a90-8864-425e-94b5-90cd322572f8",
   "metadata": {
    "executionTime": 581,
    "lastSuccessfullyExecutedCode": "# Grouping by dependent count & income category to see card utilization trends\nview = df.groupby(['dependent_count', 'income_category'])['avg_utilization_ratio'].mean().sort_values(ascending=False)\n\n# Using a suitable figure/chart size for the plot\nplt.figure(figsize = [12, 5])\nax = view.plot(kind='bar', xlabel=\"\\nDependent Count , Income Category\" , ylabel= \"Avg Utilization Ratio\", legend=False)\n\n#ax.bar_label(ax.containers[0], fmt='%.2f', label_type= 'edge')\n\nplt.show();"
   },
   "outputs": [
    {
     "data": {
      "image/png": "[encoded data removed]",
      "text/plain": [
       "<Figure size 1200x500 with 1 Axes>"
      ]
     },
     "metadata": {},
     "output_type": "display_data"
    }
   ],
   "source": [
    "# Grouping by dependent count & income category to see card utilization trends\n",
    "view = df.groupby(['dependent_count', 'income_category'])['avg_utilization_ratio'].mean().sort_values(ascending=False)\n",
    "\n",
    "# Using a suitable figure/chart size for the plot\n",
    "plt.figure(figsize = [12, 5])\n",
    "ax = view.plot(kind='bar', xlabel=\"\\nDependent Count , Income Category\" , ylabel= \"Avg Utilization Ratio\", legend=False)\n",
    "\n",
    "#ax.bar_label(ax.containers[0], fmt='%.2f', label_type= 'edge')\n",
    "\n",
    "plt.show();"
   ]
  },
  {
   "cell_type": "markdown",
   "id": "cf31d228-7d12-430a-b51c-63bee0ee802d",
   "metadata": {},
   "source": [
    "There is no clear correlation between credit card utilization and number of dependants, but when income category is grouped with dependent count, some ineteresting insights can be obtained.\n",
    "\n",
    "We can see that on average, customers who earn less than 40k use their credit cards the most regardless of their number of dependants.\n",
    "Customers who earn between 40k-60k and those who earn between 60k-80k are not significantly different in their card usage rates regardless of their dependent count.\n",
    "But as earnings further increased, we observed a trend where credit card utilization decreased as number of dependants increased, especially for customers earning 120k or higher.\n",
    "\n",
    "In general, Card Utilization decreased as income increased suggesting that customers who earn higher tend to use their credit cards less.  "
   ]
  },
  {
   "cell_type": "markdown",
   "id": "43b0c357-1871-4330-80c2-e110579b3323",
   "metadata": {},
   "source": [
    "## Question 4: What age groups utilize their credit cards the most and the least? And What age groups have the most churned customers?"
   ]
  },
  {
   "cell_type": "code",
   "execution_count": 47,
   "id": "d6c671e1-e1af-449b-b82e-c76e531c0916",
   "metadata": {
    "executionTime": 454,
    "lastSuccessfullyExecutedCode": "# Creating a new column to group customers according to their age groups\nimport numpy as np\n\nconditions = [\n    (df['customer_age'] > 10) & (df['customer_age'] <= 30),\n    (df['customer_age'] > 30) & (df['customer_age'] <= 40),\n    (df['customer_age'] > 40) & (df['customer_age'] <= 50),\n    (df['customer_age'] > 50) & (df['customer_age'] <= 60),\n    (df['customer_age'] > 60) & (df['customer_age'] <= 120)\n    ]\n\nvalues = ['11 - 30', '31 - 40', '41 - 50', '51 - 60', '61 - 120']\n    \ndf['age_group'] = np.select(conditions, values)\n\n\n\nfirst_view = df.groupby(['age_group'])[('avg_utilization_ratio')].apply(lambda x: np.round(x.mean(), 2)).sort_values(ascending=False)\n\nsecond_view = df.groupby(['age_group'])['attrition_flag'].apply(lambda x: (x == 'Attrited Customer').sum()).sort_values(ascending=False)\n\n# Resize the chart, and have two plots side-by-side\n# Set a larger figure size for subplots\nplt.figure(figsize = [12, 5]) \n\n# 1 row, 2 cols, subplot 1\nplt.subplot(1, 2, 1)\n# Plot a bar chart with the data\nax = first_view.plot(kind='bar', xlabel=\"\\nAge Group\" , ylabel= \"Avg Utilization Ratio\", legend=False)\n# Include the bar labels\nax.bar_label(ax.containers[0], label_type= 'edge')\n# Rotate the x ticks\nplt.xticks(rotation=10)\n\n# 1 row, 2 cols, subplot 2\nplt.subplot(1, 2, 2)\n# Plot a bar chart with the data\nax = second_view.plot(kind='bar', xlabel=\"\\nAge Group\" , ylabel= \"Count of Churned Customers\", legend=False)\n# Include the bar labels\nax.bar_label(ax.containers[0], label_type= 'edge')\n# Rotate the x ticks\nplt.xticks(rotation=10)\n\n# Now show the figure\nplt.show();"
   },
   "outputs": [
    {
     "data": {
      "image/png": "[encoded data removed]",
      "text/plain": [
       "<Figure size 1200x500 with 2 Axes>"
      ]
     },
     "metadata": {},
     "output_type": "display_data"
    }
   ],
   "source": [
    "# Creating a new column to group customers according to their age groups\n",
    "import numpy as np\n",
    "\n",
    "conditions = [\n",
    "    (df['customer_age'] > 10) & (df['customer_age'] <= 30),\n",
    "    (df['customer_age'] > 30) & (df['customer_age'] <= 40),\n",
    "    (df['customer_age'] > 40) & (df['customer_age'] <= 50),\n",
    "    (df['customer_age'] > 50) & (df['customer_age'] <= 60),\n",
    "    (df['customer_age'] > 60) & (df['customer_age'] <= 120)\n",
    "    ]\n",
    "\n",
    "values = ['11 - 30', '31 - 40', '41 - 50', '51 - 60', '61 - 120']\n",
    "    \n",
    "df['age_group'] = np.select(conditions, values)\n",
    "\n",
    "\n",
    "\n",
    "first_view = df.groupby(['age_group'])[('avg_utilization_ratio')].apply(lambda x: np.round(x.mean(), 2)).sort_values(ascending=False)\n",
    "\n",
    "second_view = df.groupby(['age_group'])['attrition_flag'].apply(lambda x: (x == 'Attrited Customer').sum()).sort_values(ascending=False)\n",
    "\n",
    "# Resize the chart, and have two plots side-by-side\n",
    "# Set a larger figure size for subplots\n",
    "plt.figure(figsize = [12, 5]) \n",
    "\n",
    "# 1 row, 2 cols, subplot 1\n",
    "plt.subplot(1, 2, 1)\n",
    "# Plot a bar chart with the data\n",
    "ax = first_view.plot(kind='bar', xlabel=\"\\nAge Group\" , ylabel= \"Avg Utilization Ratio\", legend=False)\n",
    "# Include the bar labels\n",
    "ax.bar_label(ax.containers[0], label_type= 'edge')\n",
    "# Rotate the x ticks\n",
    "plt.xticks(rotation=10)\n",
    "\n",
    "# 1 row, 2 cols, subplot 2\n",
    "plt.subplot(1, 2, 2)\n",
    "# Plot a bar chart with the data\n",
    "ax = second_view.plot(kind='bar', xlabel=\"\\nAge Group\" , ylabel= \"Count of Churned Customers\", legend=False)\n",
    "# Include the bar labels\n",
    "ax.bar_label(ax.containers[0], label_type= 'edge')\n",
    "# Rotate the x ticks\n",
    "plt.xticks(rotation=10)\n",
    "\n",
    "# Now show the figure\n",
    "plt.show();"
   ]
  },
  {
   "cell_type": "markdown",
   "id": "185e1264-6178-48f3-af58-a9b4c04b0afd",
   "metadata": {},
   "source": [
    "Here we see that on average, the difference in credit card utilization amongst age groups is not so much; with customers in the 11-30 age group using their credit cards the most while customers in thee 41-50 age groups have the lowest utilization ratio.\n",
    "However, the count of churned customers per age group adds context to this analysis. Now we see that the customers aged between 41 and 50 have churned the most, while customers between 11 and 30 churned the least.\n",
    "From this perspective, a big focus should be made on customers in the 41-50 age group, and more data should be collected to enrich the dataset and provide deeper insights about this group of customers in particular and all age groups in general."
   ]
  },
  {
   "cell_type": "markdown",
   "id": "ab047696-0f11-4573-afa4-07cc0c209e1e",
   "metadata": {},
   "source": [
    "# Data Enrichment\n",
    "\n",
    "Here are some ways I would enrich the dataset:\n",
    "\n",
    "Merge my dataset with external data: I would merge my dataset with other publicly available datasets that contain complementary information. For example, I would obtain datsets about credit card companies in the U.S from US Government's Open Data Portal: https://www.data.gov/ or general data from Kaggle Datasets: https://www.kaggle.com/datasets.\n",
    "\n",
    "Scrape additional data: I would use web scraping techniques to extract additional information from websites of banks and credit card companies, and add it to my dataset to enrich it.\n",
    "\n",
    "Generate Extra features: I would create new features from the existing variables in your dataset. For example, a variable created from the ratio of two variables e.g churn ratio or churn rate in %. I can also create a new categorical variable based on the values of an existing variable e.g age groups which groups customers between certain age ranges.\n",
    "\n",
    "Some other resources for obtaining quality data include:\n",
    "- UCI Machine Learning Repository: http://archive.ics.uci.edu/ml/index.php\n",
    "- AWS Public Datasets: https://aws.amazon.com/public-datasets/\n",
    "- Google's Dataset Search: https://datasetsearch.research.google.com/\n",
    "- Data World: https://data.world/\n"
   ]
  }
 ],
 "metadata": {
  "colab": {
   "name": "Welcome to DataCamp Workspaces.ipynb",
   "provenance": []
  },
  "kernelspec": {
   "display_name": "Python 3 (ipykernel)",
   "language": "python",
   "name": "python3"
  },
  "language_info": {
   "codemirror_mode": {
    "name": "ipython",
    "version": 3
   },
   "file_extension": ".py",
   "mimetype": "text/x-python",
   "name": "python",
   "nbconvert_exporter": "python",
   "pygments_lexer": "ipython3",
   "version": "3.9.12"
  },
  "toc": {
   "base_numbering": 1,
   "nav_menu": {},
   "number_sections": true,
   "sideBar": true,
   "skip_h1_title": false,
   "title_cell": "Table of Contents",
   "title_sidebar": "Contents",
   "toc_cell": false,
   "toc_position": {},
   "toc_section_display": true,
   "toc_window_display": false
  }
 },
 "nbformat": 4,
 "nbformat_minor": 5
}
